{
  "nbformat": 4,
  "nbformat_minor": 0,
  "metadata": {
    "colab": {
      "name": "WebCrawling Introduction02.ipynb",
      "provenance": [],
      "authorship_tag": "ABX9TyMGJqG2BQYvF5qsdFJf9QdU",
      "include_colab_link": true
    },
    "kernelspec": {
      "name": "python3",
      "display_name": "Python 3"
    },
    "language_info": {
      "name": "python"
    }
  },
  "cells": [
    {
      "cell_type": "markdown",
      "metadata": {
        "id": "view-in-github",
        "colab_type": "text"
      },
      "source": [
        "<a href=\"https://colab.research.google.com/github/Hanbi-Kim/IntroToPython/blob/main/WebCrawling_Introduction02.ipynb\" target=\"_parent\"><img src=\"https://colab.research.google.com/assets/colab-badge.svg\" alt=\"Open In Colab\"/></a>"
      ]
    },
    {
      "cell_type": "code",
      "execution_count": null,
      "metadata": {
        "id": "o0cAdDr0AseW"
      },
      "outputs": [],
      "source": [
        ""
      ]
    },
    {
      "cell_type": "code",
      "source": [
        "# 사용할 라이브러리 로드\n",
        "import requests\n",
        "from bs4 import BeautifulSoup\n",
        "import pandas as pd"
      ],
      "metadata": {
        "id": "S9Mr0s55BJjE"
      },
      "execution_count": 1,
      "outputs": []
    },
    {
      "cell_type": "code",
      "source": [
        "# 웹크롤링할 url 주소 입력\n",
        "url = 'https://movie.naver.com/movie/point/af/list.naver?st=mcode&sword=154282&target=after&page=1'\n",
        "\n",
        "# requests.get()을 통해 해당 url를 가져온다\n",
        "r = requests.get(url)\n",
        "\n",
        "# BeautifulSoup 패키지를 통해, r.text에 저장된 text 정보를 html 문법에 맞게 변환해준다.\n",
        "soup = BeautifulSoup(r.text, 'html.parser')"
      ],
      "metadata": {
        "id": "UJpp6SF6BK3q"
      },
      "execution_count": 3,
      "outputs": []
    },
    {
      "cell_type": "code",
      "source": [
        "table = soup.find(\"tbody\")"
      ],
      "metadata": {
        "id": "LqS5cAbFBNup"
      },
      "execution_count": 4,
      "outputs": []
    },
    {
      "cell_type": "code",
      "source": [
        "# 첫번째 리뷰 정보\n",
        "table.find_all('tr')[0]"
      ],
      "metadata": {
        "colab": {
          "base_uri": "https://localhost:8080/"
        },
        "id": "DBSMu0LBBX3B",
        "outputId": "7c0e9f37-624f-484b-97b7-d96c914181f9"
      },
      "execution_count": 7,
      "outputs": [
        {
          "output_type": "execute_result",
          "data": {
            "text/plain": [
              "<tr>\n",
              "<td class=\"ac num\">17993189</td>\n",
              "<td class=\"title\">\n",
              "<a class=\"movie color_b\" href=\"/movie/bi/mi/basic.naver?code=154282\">더 배트맨</a>\n",
              "<div class=\"list_netizen_score\">\n",
              "<span class=\"st_off\"><span class=\"st_on\" style=\"width:100%\">별점 - 총 10점 중</span></span><em>10</em>\n",
              "</div>\n",
              "<br/>깊은 연기, 잘 벼려낸 영상미 덕분에 고담 시의 시민이 된 3시간.극장을 나오며 위로받은 기분.영웅 중 영웅은 배트맨임을 다시 보여준 영화. \n",
              "\t\t\t\n",
              "\t\t\t\n",
              "\t\t\t\n",
              "\t\t\t\t\n",
              "\t\t\t\t\n",
              "\t\t\t\t\n",
              "\t\t\t\t<a class=\"report\" href=\"#\" onclick=\"report('rrla****', 'FunwVBX0albiDJ/ewg2xPaaK5nRFNc/N4mFrUrYDNKo=', '깊은 연기, 잘 벼려낸 영상미 덕분에 고담 시의 시민이 된 3시간.극장을 나오며 위로받은 기분.영웅 중 영웅은 배트맨임을 다시 보여준 영화.', '17993189', 'point_after');\" style=\"color:#8F8F8F\" title=\"새 창\">신고</a>\n",
              "</td>\n",
              "<td class=\"num\"><a class=\"author\" href=\"javascript:find_list('nickname','17993189', 'after');\">rrla****</a><br/>22.03.14</td>\n",
              "</tr>"
            ]
          },
          "metadata": {},
          "execution_count": 7
        }
      ]
    },
    {
      "cell_type": "code",
      "source": [
        "# 첫번째 리뷰 정보 안에 평점 정보\n",
        "table.find_all('tr')[0].find(\"em\").text"
      ],
      "metadata": {
        "colab": {
          "base_uri": "https://localhost:8080/",
          "height": 35
        },
        "id": "DglbdxOqBuAK",
        "outputId": "15ff31f5-2526-46db-bde8-249f0c9baafa"
      },
      "execution_count": 15,
      "outputs": [
        {
          "output_type": "execute_result",
          "data": {
            "text/plain": [
              "'10'"
            ],
            "application/vnd.google.colaboratory.intrinsic+json": {
              "type": "string"
            }
          },
          "metadata": {},
          "execution_count": 15
        }
      ]
    },
    {
      "cell_type": "code",
      "source": [
        "# 두번째 리뷰 정보 안에 평점 정보\n",
        "table.find_all('tr')[1].find(\"em\").text"
      ],
      "metadata": {
        "colab": {
          "base_uri": "https://localhost:8080/",
          "height": 35
        },
        "id": "5xn-Q33FBzLR",
        "outputId": "5e2274a9-e8e9-4b4f-c373-80ea952dac3e"
      },
      "execution_count": 16,
      "outputs": [
        {
          "output_type": "execute_result",
          "data": {
            "text/plain": [
              "'10'"
            ],
            "application/vnd.google.colaboratory.intrinsic+json": {
              "type": "string"
            }
          },
          "metadata": {},
          "execution_count": 16
        }
      ]
    },
    {
      "cell_type": "code",
      "source": [
        "# 세번째 리뷰 정보 안에 평점 정보\n",
        "table.find_all('tr')[2].find(\"em\").text"
      ],
      "metadata": {
        "colab": {
          "base_uri": "https://localhost:8080/",
          "height": 35
        },
        "id": "LBaxKkftB_q_",
        "outputId": "e10e7a94-01f3-45cf-e63c-afe8f0e6dc69"
      },
      "execution_count": 17,
      "outputs": [
        {
          "output_type": "execute_result",
          "data": {
            "text/plain": [
              "'9'"
            ],
            "application/vnd.google.colaboratory.intrinsic+json": {
              "type": "string"
            }
          },
          "metadata": {},
          "execution_count": 17
        }
      ]
    },
    {
      "cell_type": "code",
      "source": [
        "review_point = []\n",
        "for i in range(len(table.find_all('tr'))):\n",
        "  print(int(table.find_all('tr')[i].find(\"em\").text))\n",
        "  review_point.append(int(table.find_all('tr')[i].find(\"em\").text))"
      ],
      "metadata": {
        "colab": {
          "base_uri": "https://localhost:8080/"
        },
        "id": "6wzxmUcmCBKD",
        "outputId": "3cc3adb8-a0cc-4176-fc3a-fd50b92a6a91"
      },
      "execution_count": 19,
      "outputs": [
        {
          "output_type": "stream",
          "name": "stdout",
          "text": [
            "10\n",
            "10\n",
            "9\n",
            "2\n",
            "10\n",
            "10\n",
            "10\n",
            "8\n",
            "6\n",
            "8\n"
          ]
        }
      ]
    },
    {
      "cell_type": "code",
      "source": [
        "# 첫번째 리뷰 정보 안에 리뷰 정보\n",
        "table.find_all('tr')[0].find(\"td\",\"title\").text"
      ],
      "metadata": {
        "colab": {
          "base_uri": "https://localhost:8080/",
          "height": 54
        },
        "id": "y5WR3rqFCZ1R",
        "outputId": "b541aaa6-4b5f-4fe0-b0ee-02fd4dd48b7d"
      },
      "execution_count": 30,
      "outputs": [
        {
          "output_type": "execute_result",
          "data": {
            "text/plain": [
              "'\\n더 배트맨\\n\\n별점 - 총 10점 중10\\n\\n깊은 연기, 잘 벼려낸 영상미 덕분에 고담 시의 시민이 된 3시간.극장을 나오며 위로받은 기분.영웅 중 영웅은 배트맨임을 다시 보여준 영화. \\n\\t\\t\\t\\n\\t\\t\\t\\n\\t\\t\\t\\n\\t\\t\\t\\t\\n\\t\\t\\t\\t\\n\\t\\t\\t\\t\\n\\t\\t\\t\\t신고\\n'"
            ],
            "application/vnd.google.colaboratory.intrinsic+json": {
              "type": "string"
            }
          },
          "metadata": {},
          "execution_count": 30
        }
      ]
    },
    {
      "cell_type": "code",
      "source": [
        "# 첫번째 리뷰 정보 안에 리뷰 정보\n",
        "table.find_all('tr')[0].find(\"td\",\"title\").text.replace('\\t','')"
      ],
      "metadata": {
        "colab": {
          "base_uri": "https://localhost:8080/",
          "height": 35
        },
        "id": "di6QlCv6Cw9E",
        "outputId": "a239cd1e-e5a9-4070-d2ca-6a3bdaac68b2"
      },
      "execution_count": 31,
      "outputs": [
        {
          "output_type": "execute_result",
          "data": {
            "text/plain": [
              "'\\n더 배트맨\\n\\n별점 - 총 10점 중10\\n\\n깊은 연기, 잘 벼려낸 영상미 덕분에 고담 시의 시민이 된 3시간.극장을 나오며 위로받은 기분.영웅 중 영웅은 배트맨임을 다시 보여준 영화. \\n\\n\\n\\n\\n\\n\\n신고\\n'"
            ],
            "application/vnd.google.colaboratory.intrinsic+json": {
              "type": "string"
            }
          },
          "metadata": {},
          "execution_count": 31
        }
      ]
    },
    {
      "cell_type": "code",
      "source": [
        "# 첫번째 리뷰 정보 안에 리뷰 정보\n",
        "table.find_all('tr')[0].find(\"td\",\"title\").text.replace('\\t','').split(\"\\n\\n\")"
      ],
      "metadata": {
        "colab": {
          "base_uri": "https://localhost:8080/"
        },
        "id": "kuip3ehFDzqY",
        "outputId": "eb4256be-95f6-476b-a32f-32c0d11eb758"
      },
      "execution_count": 32,
      "outputs": [
        {
          "output_type": "execute_result",
          "data": {
            "text/plain": [
              "['\\n더 배트맨',\n",
              " '별점 - 총 10점 중10',\n",
              " '깊은 연기, 잘 벼려낸 영상미 덕분에 고담 시의 시민이 된 3시간.극장을 나오며 위로받은 기분.영웅 중 영웅은 배트맨임을 다시 보여준 영화. ',\n",
              " '',\n",
              " '',\n",
              " '\\n신고\\n']"
            ]
          },
          "metadata": {},
          "execution_count": 32
        }
      ]
    },
    {
      "cell_type": "code",
      "source": [
        "# 첫번째 리뷰 정보 안에 리뷰 정보\n",
        "table.find_all('tr')[0].find(\"td\",\"title\").text.replace('\\t','').split(\"\\n\\n\")[2]"
      ],
      "metadata": {
        "colab": {
          "base_uri": "https://localhost:8080/",
          "height": 35
        },
        "id": "6p68wahdD5ho",
        "outputId": "35668f87-97da-4c53-c20c-707e60ba3a63"
      },
      "execution_count": 33,
      "outputs": [
        {
          "output_type": "execute_result",
          "data": {
            "text/plain": [
              "'깊은 연기, 잘 벼려낸 영상미 덕분에 고담 시의 시민이 된 3시간.극장을 나오며 위로받은 기분.영웅 중 영웅은 배트맨임을 다시 보여준 영화. '"
            ],
            "application/vnd.google.colaboratory.intrinsic+json": {
              "type": "string"
            }
          },
          "metadata": {},
          "execution_count": 33
        }
      ]
    },
    {
      "cell_type": "code",
      "source": [
        "review_list = []\n",
        "for i in range(len(table.find_all('tr'))):\n",
        "  print(table.find_all('tr')[i].find(\"td\",\"title\").text.replace('\\t','').split(\"\\n\\n\")[2])\n",
        "  review_list.append(table.find_all('tr')[i].find(\"td\",\"title\").text.replace('\\t','').split(\"\\n\\n\")[2])"
      ],
      "metadata": {
        "colab": {
          "base_uri": "https://localhost:8080/"
        },
        "id": "FLOKi4BDD7wB",
        "outputId": "6bd1ff4d-2893-4b77-af3d-749a2efcf7ca"
      },
      "execution_count": 35,
      "outputs": [
        {
          "output_type": "stream",
          "name": "stdout",
          "text": [
            "깊은 연기, 잘 벼려낸 영상미 덕분에 고담 시의 시민이 된 3시간.극장을 나오며 위로받은 기분.영웅 중 영웅은 배트맨임을 다시 보여준 영화. \n",
            "\n",
            "신고\n",
            "\n",
            "잔잔한듯 느리게 느껴지지만 그 안에는 이미 꽉찬 내용이 들어있다.끝까지 집중해서 볼 수 있었다. \n",
            "연기는 좋았지만내가 알던 브루스 웨인은 죽었다 \n",
            "호흡이 길고 어둡지만 미숙한 배트맨이 영웅으로 성장해가는 모습을 볼 수있음 새로운 배트맨 시리즈의 시작으로 너무 최고의 영화임  이게 진짜 배트맨이다 \n",
            "다크나이트는 부내 풀풀나는 깔쌈하고 젠틀한 이미지였다면 더배트맨은 겁나어둡고 퇴폐적인 어둠에 쩔은 분위기. 히어로물치고 액션이 많지 않았음에도 긴 러닝타임 지루하지않고 재밌게 감상함. 그리고 로버트패틴른 눈빛이랑 하관 넘 섹시해서 반함ㅠㅠ \n",
            "원작 배트맨 분위기 ㄷㄷ \n",
            "다크나이트 시리즈를 이어서 나올 배트맨이라면 이 정도는 되어야지. 히어로물이라고 보지 말고 배트맨이라는 인간에 관한 영화라고 보면 아주 좋은 영화. \n",
            "3시간짜리영화가 3시간으로느껴졌다. 히어로물 좋아하는분껜비추, 배트맨좋아하는분겐 추 \n",
            "워낙 이전 작품들로 정보가 많이 있다보니 설명이 부족하다고 느껴지기도 함. 악역 연기는 좋았음. \n"
          ]
        }
      ]
    },
    {
      "cell_type": "code",
      "source": [
        "df = pd.DataFrame({\"영화 리뷰\":review_list,\"영화 평점\":review_point})\n",
        "df"
      ],
      "metadata": {
        "colab": {
          "base_uri": "https://localhost:8080/",
          "height": 363
        },
        "id": "N_AtDN3JEDq2",
        "outputId": "2a4a0f50-17fd-4fb5-8bc6-06ce56065a92"
      },
      "execution_count": 37,
      "outputs": [
        {
          "output_type": "execute_result",
          "data": {
            "text/plain": [
              "                                               영화 리뷰  영화 평점\n",
              "0  깊은 연기, 잘 벼려낸 영상미 덕분에 고담 시의 시민이 된 3시간.극장을 나오며 위...     10\n",
              "1                                             \\n신고\\n     10\n",
              "2  잔잔한듯 느리게 느껴지지만 그 안에는 이미 꽉찬 내용이 들어있다.끝까지 집중해서 볼...      9\n",
              "3                         연기는 좋았지만내가 알던 브루스 웨인은 죽었다       2\n",
              "4  호흡이 길고 어둡지만 미숙한 배트맨이 영웅으로 성장해가는 모습을 볼 수있음 새로운 ...     10\n",
              "5  다크나이트는 부내 풀풀나는 깔쌈하고 젠틀한 이미지였다면 더배트맨은 겁나어둡고 퇴폐적...     10\n",
              "6                                     원작 배트맨 분위기 ㄷㄷ      10\n",
              "7  다크나이트 시리즈를 이어서 나올 배트맨이라면 이 정도는 되어야지. 히어로물이라고 보...      8\n",
              "8    3시간짜리영화가 3시간으로느껴졌다. 히어로물 좋아하는분껜비추, 배트맨좋아하는분겐 추       6\n",
              "9  워낙 이전 작품들로 정보가 많이 있다보니 설명이 부족하다고 느껴지기도 함. 악역 연...      8"
            ],
            "text/html": [
              "\n",
              "  <div id=\"df-a7531994-695b-4c1a-b942-8a62fda25a5d\">\n",
              "    <div class=\"colab-df-container\">\n",
              "      <div>\n",
              "<style scoped>\n",
              "    .dataframe tbody tr th:only-of-type {\n",
              "        vertical-align: middle;\n",
              "    }\n",
              "\n",
              "    .dataframe tbody tr th {\n",
              "        vertical-align: top;\n",
              "    }\n",
              "\n",
              "    .dataframe thead th {\n",
              "        text-align: right;\n",
              "    }\n",
              "</style>\n",
              "<table border=\"1\" class=\"dataframe\">\n",
              "  <thead>\n",
              "    <tr style=\"text-align: right;\">\n",
              "      <th></th>\n",
              "      <th>영화 리뷰</th>\n",
              "      <th>영화 평점</th>\n",
              "    </tr>\n",
              "  </thead>\n",
              "  <tbody>\n",
              "    <tr>\n",
              "      <th>0</th>\n",
              "      <td>깊은 연기, 잘 벼려낸 영상미 덕분에 고담 시의 시민이 된 3시간.극장을 나오며 위...</td>\n",
              "      <td>10</td>\n",
              "    </tr>\n",
              "    <tr>\n",
              "      <th>1</th>\n",
              "      <td>\\n신고\\n</td>\n",
              "      <td>10</td>\n",
              "    </tr>\n",
              "    <tr>\n",
              "      <th>2</th>\n",
              "      <td>잔잔한듯 느리게 느껴지지만 그 안에는 이미 꽉찬 내용이 들어있다.끝까지 집중해서 볼...</td>\n",
              "      <td>9</td>\n",
              "    </tr>\n",
              "    <tr>\n",
              "      <th>3</th>\n",
              "      <td>연기는 좋았지만내가 알던 브루스 웨인은 죽었다</td>\n",
              "      <td>2</td>\n",
              "    </tr>\n",
              "    <tr>\n",
              "      <th>4</th>\n",
              "      <td>호흡이 길고 어둡지만 미숙한 배트맨이 영웅으로 성장해가는 모습을 볼 수있음 새로운 ...</td>\n",
              "      <td>10</td>\n",
              "    </tr>\n",
              "    <tr>\n",
              "      <th>5</th>\n",
              "      <td>다크나이트는 부내 풀풀나는 깔쌈하고 젠틀한 이미지였다면 더배트맨은 겁나어둡고 퇴폐적...</td>\n",
              "      <td>10</td>\n",
              "    </tr>\n",
              "    <tr>\n",
              "      <th>6</th>\n",
              "      <td>원작 배트맨 분위기 ㄷㄷ</td>\n",
              "      <td>10</td>\n",
              "    </tr>\n",
              "    <tr>\n",
              "      <th>7</th>\n",
              "      <td>다크나이트 시리즈를 이어서 나올 배트맨이라면 이 정도는 되어야지. 히어로물이라고 보...</td>\n",
              "      <td>8</td>\n",
              "    </tr>\n",
              "    <tr>\n",
              "      <th>8</th>\n",
              "      <td>3시간짜리영화가 3시간으로느껴졌다. 히어로물 좋아하는분껜비추, 배트맨좋아하는분겐 추</td>\n",
              "      <td>6</td>\n",
              "    </tr>\n",
              "    <tr>\n",
              "      <th>9</th>\n",
              "      <td>워낙 이전 작품들로 정보가 많이 있다보니 설명이 부족하다고 느껴지기도 함. 악역 연...</td>\n",
              "      <td>8</td>\n",
              "    </tr>\n",
              "  </tbody>\n",
              "</table>\n",
              "</div>\n",
              "      <button class=\"colab-df-convert\" onclick=\"convertToInteractive('df-a7531994-695b-4c1a-b942-8a62fda25a5d')\"\n",
              "              title=\"Convert this dataframe to an interactive table.\"\n",
              "              style=\"display:none;\">\n",
              "        \n",
              "  <svg xmlns=\"http://www.w3.org/2000/svg\" height=\"24px\"viewBox=\"0 0 24 24\"\n",
              "       width=\"24px\">\n",
              "    <path d=\"M0 0h24v24H0V0z\" fill=\"none\"/>\n",
              "    <path d=\"M18.56 5.44l.94 2.06.94-2.06 2.06-.94-2.06-.94-.94-2.06-.94 2.06-2.06.94zm-11 1L8.5 8.5l.94-2.06 2.06-.94-2.06-.94L8.5 2.5l-.94 2.06-2.06.94zm10 10l.94 2.06.94-2.06 2.06-.94-2.06-.94-.94-2.06-.94 2.06-2.06.94z\"/><path d=\"M17.41 7.96l-1.37-1.37c-.4-.4-.92-.59-1.43-.59-.52 0-1.04.2-1.43.59L10.3 9.45l-7.72 7.72c-.78.78-.78 2.05 0 2.83L4 21.41c.39.39.9.59 1.41.59.51 0 1.02-.2 1.41-.59l7.78-7.78 2.81-2.81c.8-.78.8-2.07 0-2.86zM5.41 20L4 18.59l7.72-7.72 1.47 1.35L5.41 20z\"/>\n",
              "  </svg>\n",
              "      </button>\n",
              "      \n",
              "  <style>\n",
              "    .colab-df-container {\n",
              "      display:flex;\n",
              "      flex-wrap:wrap;\n",
              "      gap: 12px;\n",
              "    }\n",
              "\n",
              "    .colab-df-convert {\n",
              "      background-color: #E8F0FE;\n",
              "      border: none;\n",
              "      border-radius: 50%;\n",
              "      cursor: pointer;\n",
              "      display: none;\n",
              "      fill: #1967D2;\n",
              "      height: 32px;\n",
              "      padding: 0 0 0 0;\n",
              "      width: 32px;\n",
              "    }\n",
              "\n",
              "    .colab-df-convert:hover {\n",
              "      background-color: #E2EBFA;\n",
              "      box-shadow: 0px 1px 2px rgba(60, 64, 67, 0.3), 0px 1px 3px 1px rgba(60, 64, 67, 0.15);\n",
              "      fill: #174EA6;\n",
              "    }\n",
              "\n",
              "    [theme=dark] .colab-df-convert {\n",
              "      background-color: #3B4455;\n",
              "      fill: #D2E3FC;\n",
              "    }\n",
              "\n",
              "    [theme=dark] .colab-df-convert:hover {\n",
              "      background-color: #434B5C;\n",
              "      box-shadow: 0px 1px 3px 1px rgba(0, 0, 0, 0.15);\n",
              "      filter: drop-shadow(0px 1px 2px rgba(0, 0, 0, 0.3));\n",
              "      fill: #FFFFFF;\n",
              "    }\n",
              "  </style>\n",
              "\n",
              "      <script>\n",
              "        const buttonEl =\n",
              "          document.querySelector('#df-a7531994-695b-4c1a-b942-8a62fda25a5d button.colab-df-convert');\n",
              "        buttonEl.style.display =\n",
              "          google.colab.kernel.accessAllowed ? 'block' : 'none';\n",
              "\n",
              "        async function convertToInteractive(key) {\n",
              "          const element = document.querySelector('#df-a7531994-695b-4c1a-b942-8a62fda25a5d');\n",
              "          const dataTable =\n",
              "            await google.colab.kernel.invokeFunction('convertToInteractive',\n",
              "                                                     [key], {});\n",
              "          if (!dataTable) return;\n",
              "\n",
              "          const docLinkHtml = 'Like what you see? Visit the ' +\n",
              "            '<a target=\"_blank\" href=https://colab.research.google.com/notebooks/data_table.ipynb>data table notebook</a>'\n",
              "            + ' to learn more about interactive tables.';\n",
              "          element.innerHTML = '';\n",
              "          dataTable['output_type'] = 'display_data';\n",
              "          await google.colab.output.renderOutput(dataTable, element);\n",
              "          const docLink = document.createElement('div');\n",
              "          docLink.innerHTML = docLinkHtml;\n",
              "          element.appendChild(docLink);\n",
              "        }\n",
              "      </script>\n",
              "    </div>\n",
              "  </div>\n",
              "  "
            ]
          },
          "metadata": {},
          "execution_count": 37
        }
      ]
    },
    {
      "cell_type": "code",
      "source": [
        "review_point = []\n",
        "review_list = []\n",
        "\n",
        "for page in range(1,30):\n",
        "  # 웹크롤링할 url 주소 입력\n",
        "  url = 'https://movie.naver.com/movie/point/af/list.naver?st=mcode&sword=154282&target=after&page=' + str(page)\n",
        "\n",
        "  # requests.get()을 통해 해당 url를 가져온다\n",
        "  r = requests.get(url)\n",
        "\n",
        "  # BeautifulSoup 패키지를 통해, r.text에 저장된 text 정보를 html 문법에 맞게 변환해준다.\n",
        "  soup = BeautifulSoup(r.text, 'html.parser')\n",
        "  table = soup.find(\"tbody\")\n",
        "  for i in range(len(table.find_all('tr'))):\n",
        "    review_point.append(int(table.find_all('tr')[i].find(\"em\").text))\n",
        "    review_list.append(table.find_all('tr')[i].find(\"td\",\"title\").text.replace('\\t','').split(\"\\n\\n\")[2])"
      ],
      "metadata": {
        "id": "XFbbDP6PEiqf"
      },
      "execution_count": 57,
      "outputs": []
    },
    {
      "cell_type": "code",
      "source": [
        "df = pd.DataFrame({\"영화 리뷰\":review_list,\"영화 평점\":review_point})\n",
        "df"
      ],
      "metadata": {
        "colab": {
          "base_uri": "https://localhost:8080/",
          "height": 424
        },
        "id": "kltuoEzsFLiG",
        "outputId": "d57657f6-fd86-47af-e42c-ca9f06efad23"
      },
      "execution_count": 58,
      "outputs": [
        {
          "output_type": "execute_result",
          "data": {
            "text/plain": [
              "                                                 영화 리뷰  영화 평점\n",
              "0                   느와르풍 탐정물이 되어버린 배트맨호불호가 있을수있는 상영시간       8\n",
              "1                  스파이더맨 홈커밍같은 느낌이다. 근데 진짜 더럽게 멋지네...      10\n",
              "2    깊은 연기, 잘 벼려낸 영상미 덕분에 고담 시의 시민이 된 3시간.극장을 나오며 위...     10\n",
              "3                                               \\n신고\\n     10\n",
              "4    잔잔한듯 느리게 느껴지지만 그 안에는 이미 꽉찬 내용이 들어있다.끝까지 집중해서 볼...      9\n",
              "..                                                 ...    ...\n",
              "285  음악과 연출 영상이 훌륭해서 재밌게 봤습니다 액션도 장비빨이 아니라서 더 몰입하게 ...     10\n",
              "286                             웅장한척 하고 싶어하는 영화.졸렬해요ㅠ       1\n",
              "287       마블스타일 히어로물 기대하면 비추디씨스타일(호아킨 조커) 느와르 기대하면 극추       8\n",
              "288                      다크나이트보다는 못해도 다른 배트맨영화보다 괜찮아요      10\n",
              "289  내가 10대 여자인데도, 이런 영화는 30~ 40대 남자 평점이 높을때 재밌는 경우...     10\n",
              "\n",
              "[290 rows x 2 columns]"
            ],
            "text/html": [
              "\n",
              "  <div id=\"df-e49a2f5b-389a-4af0-b8f7-b89d8e0236ef\">\n",
              "    <div class=\"colab-df-container\">\n",
              "      <div>\n",
              "<style scoped>\n",
              "    .dataframe tbody tr th:only-of-type {\n",
              "        vertical-align: middle;\n",
              "    }\n",
              "\n",
              "    .dataframe tbody tr th {\n",
              "        vertical-align: top;\n",
              "    }\n",
              "\n",
              "    .dataframe thead th {\n",
              "        text-align: right;\n",
              "    }\n",
              "</style>\n",
              "<table border=\"1\" class=\"dataframe\">\n",
              "  <thead>\n",
              "    <tr style=\"text-align: right;\">\n",
              "      <th></th>\n",
              "      <th>영화 리뷰</th>\n",
              "      <th>영화 평점</th>\n",
              "    </tr>\n",
              "  </thead>\n",
              "  <tbody>\n",
              "    <tr>\n",
              "      <th>0</th>\n",
              "      <td>느와르풍 탐정물이 되어버린 배트맨호불호가 있을수있는 상영시간</td>\n",
              "      <td>8</td>\n",
              "    </tr>\n",
              "    <tr>\n",
              "      <th>1</th>\n",
              "      <td>스파이더맨 홈커밍같은 느낌이다. 근데 진짜 더럽게 멋지네...</td>\n",
              "      <td>10</td>\n",
              "    </tr>\n",
              "    <tr>\n",
              "      <th>2</th>\n",
              "      <td>깊은 연기, 잘 벼려낸 영상미 덕분에 고담 시의 시민이 된 3시간.극장을 나오며 위...</td>\n",
              "      <td>10</td>\n",
              "    </tr>\n",
              "    <tr>\n",
              "      <th>3</th>\n",
              "      <td>\\n신고\\n</td>\n",
              "      <td>10</td>\n",
              "    </tr>\n",
              "    <tr>\n",
              "      <th>4</th>\n",
              "      <td>잔잔한듯 느리게 느껴지지만 그 안에는 이미 꽉찬 내용이 들어있다.끝까지 집중해서 볼...</td>\n",
              "      <td>9</td>\n",
              "    </tr>\n",
              "    <tr>\n",
              "      <th>...</th>\n",
              "      <td>...</td>\n",
              "      <td>...</td>\n",
              "    </tr>\n",
              "    <tr>\n",
              "      <th>285</th>\n",
              "      <td>음악과 연출 영상이 훌륭해서 재밌게 봤습니다 액션도 장비빨이 아니라서 더 몰입하게 ...</td>\n",
              "      <td>10</td>\n",
              "    </tr>\n",
              "    <tr>\n",
              "      <th>286</th>\n",
              "      <td>웅장한척 하고 싶어하는 영화.졸렬해요ㅠ</td>\n",
              "      <td>1</td>\n",
              "    </tr>\n",
              "    <tr>\n",
              "      <th>287</th>\n",
              "      <td>마블스타일 히어로물 기대하면 비추디씨스타일(호아킨 조커) 느와르 기대하면 극추</td>\n",
              "      <td>8</td>\n",
              "    </tr>\n",
              "    <tr>\n",
              "      <th>288</th>\n",
              "      <td>다크나이트보다는 못해도 다른 배트맨영화보다 괜찮아요</td>\n",
              "      <td>10</td>\n",
              "    </tr>\n",
              "    <tr>\n",
              "      <th>289</th>\n",
              "      <td>내가 10대 여자인데도, 이런 영화는 30~ 40대 남자 평점이 높을때 재밌는 경우...</td>\n",
              "      <td>10</td>\n",
              "    </tr>\n",
              "  </tbody>\n",
              "</table>\n",
              "<p>290 rows × 2 columns</p>\n",
              "</div>\n",
              "      <button class=\"colab-df-convert\" onclick=\"convertToInteractive('df-e49a2f5b-389a-4af0-b8f7-b89d8e0236ef')\"\n",
              "              title=\"Convert this dataframe to an interactive table.\"\n",
              "              style=\"display:none;\">\n",
              "        \n",
              "  <svg xmlns=\"http://www.w3.org/2000/svg\" height=\"24px\"viewBox=\"0 0 24 24\"\n",
              "       width=\"24px\">\n",
              "    <path d=\"M0 0h24v24H0V0z\" fill=\"none\"/>\n",
              "    <path d=\"M18.56 5.44l.94 2.06.94-2.06 2.06-.94-2.06-.94-.94-2.06-.94 2.06-2.06.94zm-11 1L8.5 8.5l.94-2.06 2.06-.94-2.06-.94L8.5 2.5l-.94 2.06-2.06.94zm10 10l.94 2.06.94-2.06 2.06-.94-2.06-.94-.94-2.06-.94 2.06-2.06.94z\"/><path d=\"M17.41 7.96l-1.37-1.37c-.4-.4-.92-.59-1.43-.59-.52 0-1.04.2-1.43.59L10.3 9.45l-7.72 7.72c-.78.78-.78 2.05 0 2.83L4 21.41c.39.39.9.59 1.41.59.51 0 1.02-.2 1.41-.59l7.78-7.78 2.81-2.81c.8-.78.8-2.07 0-2.86zM5.41 20L4 18.59l7.72-7.72 1.47 1.35L5.41 20z\"/>\n",
              "  </svg>\n",
              "      </button>\n",
              "      \n",
              "  <style>\n",
              "    .colab-df-container {\n",
              "      display:flex;\n",
              "      flex-wrap:wrap;\n",
              "      gap: 12px;\n",
              "    }\n",
              "\n",
              "    .colab-df-convert {\n",
              "      background-color: #E8F0FE;\n",
              "      border: none;\n",
              "      border-radius: 50%;\n",
              "      cursor: pointer;\n",
              "      display: none;\n",
              "      fill: #1967D2;\n",
              "      height: 32px;\n",
              "      padding: 0 0 0 0;\n",
              "      width: 32px;\n",
              "    }\n",
              "\n",
              "    .colab-df-convert:hover {\n",
              "      background-color: #E2EBFA;\n",
              "      box-shadow: 0px 1px 2px rgba(60, 64, 67, 0.3), 0px 1px 3px 1px rgba(60, 64, 67, 0.15);\n",
              "      fill: #174EA6;\n",
              "    }\n",
              "\n",
              "    [theme=dark] .colab-df-convert {\n",
              "      background-color: #3B4455;\n",
              "      fill: #D2E3FC;\n",
              "    }\n",
              "\n",
              "    [theme=dark] .colab-df-convert:hover {\n",
              "      background-color: #434B5C;\n",
              "      box-shadow: 0px 1px 3px 1px rgba(0, 0, 0, 0.15);\n",
              "      filter: drop-shadow(0px 1px 2px rgba(0, 0, 0, 0.3));\n",
              "      fill: #FFFFFF;\n",
              "    }\n",
              "  </style>\n",
              "\n",
              "      <script>\n",
              "        const buttonEl =\n",
              "          document.querySelector('#df-e49a2f5b-389a-4af0-b8f7-b89d8e0236ef button.colab-df-convert');\n",
              "        buttonEl.style.display =\n",
              "          google.colab.kernel.accessAllowed ? 'block' : 'none';\n",
              "\n",
              "        async function convertToInteractive(key) {\n",
              "          const element = document.querySelector('#df-e49a2f5b-389a-4af0-b8f7-b89d8e0236ef');\n",
              "          const dataTable =\n",
              "            await google.colab.kernel.invokeFunction('convertToInteractive',\n",
              "                                                     [key], {});\n",
              "          if (!dataTable) return;\n",
              "\n",
              "          const docLinkHtml = 'Like what you see? Visit the ' +\n",
              "            '<a target=\"_blank\" href=https://colab.research.google.com/notebooks/data_table.ipynb>data table notebook</a>'\n",
              "            + ' to learn more about interactive tables.';\n",
              "          element.innerHTML = '';\n",
              "          dataTable['output_type'] = 'display_data';\n",
              "          await google.colab.output.renderOutput(dataTable, element);\n",
              "          const docLink = document.createElement('div');\n",
              "          docLink.innerHTML = docLinkHtml;\n",
              "          element.appendChild(docLink);\n",
              "        }\n",
              "      </script>\n",
              "    </div>\n",
              "  </div>\n",
              "  "
            ]
          },
          "metadata": {},
          "execution_count": 58
        }
      ]
    },
    {
      "cell_type": "code",
      "source": [
        "index_list = []\n",
        "for i in range(len(df)):\n",
        "  if \"신고\" in df['영화 리뷰'].loc[i]:\n",
        "    print(i)\n",
        "    index_list.append(i)"
      ],
      "metadata": {
        "colab": {
          "base_uri": "https://localhost:8080/"
        },
        "id": "UbQJJd0bFUpr",
        "outputId": "ab07349d-261c-4fc6-95cf-9a26161b37ab"
      },
      "execution_count": 59,
      "outputs": [
        {
          "output_type": "stream",
          "name": "stdout",
          "text": [
            "3\n",
            "16\n",
            "18\n",
            "30\n",
            "64\n",
            "73\n",
            "83\n",
            "97\n",
            "135\n",
            "202\n",
            "208\n",
            "209\n",
            "247\n",
            "253\n",
            "279\n"
          ]
        }
      ]
    },
    {
      "cell_type": "code",
      "source": [
        "df.loc[index_list]"
      ],
      "metadata": {
        "colab": {
          "base_uri": "https://localhost:8080/",
          "height": 520
        },
        "id": "QhPyYd08FvqK",
        "outputId": "9c8fe813-5668-4e04-9c2f-97645818feca"
      },
      "execution_count": 60,
      "outputs": [
        {
          "output_type": "execute_result",
          "data": {
            "text/plain": [
              "      영화 리뷰  영화 평점\n",
              "3    \\n신고\\n     10\n",
              "16   \\n신고\\n     10\n",
              "18   \\n신고\\n     10\n",
              "30   \\n신고\\n     10\n",
              "64   \\n신고\\n     10\n",
              "73   \\n신고\\n     10\n",
              "83   \\n신고\\n     10\n",
              "97   \\n신고\\n     10\n",
              "135  \\n신고\\n      8\n",
              "202  \\n신고\\n     10\n",
              "208  \\n신고\\n     10\n",
              "209  \\n신고\\n     10\n",
              "247  \\n신고\\n     10\n",
              "253  \\n신고\\n     10\n",
              "279  \\n신고\\n     10"
            ],
            "text/html": [
              "\n",
              "  <div id=\"df-ac8dccd1-e0d1-4b58-b980-cd4a9ef47eaf\">\n",
              "    <div class=\"colab-df-container\">\n",
              "      <div>\n",
              "<style scoped>\n",
              "    .dataframe tbody tr th:only-of-type {\n",
              "        vertical-align: middle;\n",
              "    }\n",
              "\n",
              "    .dataframe tbody tr th {\n",
              "        vertical-align: top;\n",
              "    }\n",
              "\n",
              "    .dataframe thead th {\n",
              "        text-align: right;\n",
              "    }\n",
              "</style>\n",
              "<table border=\"1\" class=\"dataframe\">\n",
              "  <thead>\n",
              "    <tr style=\"text-align: right;\">\n",
              "      <th></th>\n",
              "      <th>영화 리뷰</th>\n",
              "      <th>영화 평점</th>\n",
              "    </tr>\n",
              "  </thead>\n",
              "  <tbody>\n",
              "    <tr>\n",
              "      <th>3</th>\n",
              "      <td>\\n신고\\n</td>\n",
              "      <td>10</td>\n",
              "    </tr>\n",
              "    <tr>\n",
              "      <th>16</th>\n",
              "      <td>\\n신고\\n</td>\n",
              "      <td>10</td>\n",
              "    </tr>\n",
              "    <tr>\n",
              "      <th>18</th>\n",
              "      <td>\\n신고\\n</td>\n",
              "      <td>10</td>\n",
              "    </tr>\n",
              "    <tr>\n",
              "      <th>30</th>\n",
              "      <td>\\n신고\\n</td>\n",
              "      <td>10</td>\n",
              "    </tr>\n",
              "    <tr>\n",
              "      <th>64</th>\n",
              "      <td>\\n신고\\n</td>\n",
              "      <td>10</td>\n",
              "    </tr>\n",
              "    <tr>\n",
              "      <th>73</th>\n",
              "      <td>\\n신고\\n</td>\n",
              "      <td>10</td>\n",
              "    </tr>\n",
              "    <tr>\n",
              "      <th>83</th>\n",
              "      <td>\\n신고\\n</td>\n",
              "      <td>10</td>\n",
              "    </tr>\n",
              "    <tr>\n",
              "      <th>97</th>\n",
              "      <td>\\n신고\\n</td>\n",
              "      <td>10</td>\n",
              "    </tr>\n",
              "    <tr>\n",
              "      <th>135</th>\n",
              "      <td>\\n신고\\n</td>\n",
              "      <td>8</td>\n",
              "    </tr>\n",
              "    <tr>\n",
              "      <th>202</th>\n",
              "      <td>\\n신고\\n</td>\n",
              "      <td>10</td>\n",
              "    </tr>\n",
              "    <tr>\n",
              "      <th>208</th>\n",
              "      <td>\\n신고\\n</td>\n",
              "      <td>10</td>\n",
              "    </tr>\n",
              "    <tr>\n",
              "      <th>209</th>\n",
              "      <td>\\n신고\\n</td>\n",
              "      <td>10</td>\n",
              "    </tr>\n",
              "    <tr>\n",
              "      <th>247</th>\n",
              "      <td>\\n신고\\n</td>\n",
              "      <td>10</td>\n",
              "    </tr>\n",
              "    <tr>\n",
              "      <th>253</th>\n",
              "      <td>\\n신고\\n</td>\n",
              "      <td>10</td>\n",
              "    </tr>\n",
              "    <tr>\n",
              "      <th>279</th>\n",
              "      <td>\\n신고\\n</td>\n",
              "      <td>10</td>\n",
              "    </tr>\n",
              "  </tbody>\n",
              "</table>\n",
              "</div>\n",
              "      <button class=\"colab-df-convert\" onclick=\"convertToInteractive('df-ac8dccd1-e0d1-4b58-b980-cd4a9ef47eaf')\"\n",
              "              title=\"Convert this dataframe to an interactive table.\"\n",
              "              style=\"display:none;\">\n",
              "        \n",
              "  <svg xmlns=\"http://www.w3.org/2000/svg\" height=\"24px\"viewBox=\"0 0 24 24\"\n",
              "       width=\"24px\">\n",
              "    <path d=\"M0 0h24v24H0V0z\" fill=\"none\"/>\n",
              "    <path d=\"M18.56 5.44l.94 2.06.94-2.06 2.06-.94-2.06-.94-.94-2.06-.94 2.06-2.06.94zm-11 1L8.5 8.5l.94-2.06 2.06-.94-2.06-.94L8.5 2.5l-.94 2.06-2.06.94zm10 10l.94 2.06.94-2.06 2.06-.94-2.06-.94-.94-2.06-.94 2.06-2.06.94z\"/><path d=\"M17.41 7.96l-1.37-1.37c-.4-.4-.92-.59-1.43-.59-.52 0-1.04.2-1.43.59L10.3 9.45l-7.72 7.72c-.78.78-.78 2.05 0 2.83L4 21.41c.39.39.9.59 1.41.59.51 0 1.02-.2 1.41-.59l7.78-7.78 2.81-2.81c.8-.78.8-2.07 0-2.86zM5.41 20L4 18.59l7.72-7.72 1.47 1.35L5.41 20z\"/>\n",
              "  </svg>\n",
              "      </button>\n",
              "      \n",
              "  <style>\n",
              "    .colab-df-container {\n",
              "      display:flex;\n",
              "      flex-wrap:wrap;\n",
              "      gap: 12px;\n",
              "    }\n",
              "\n",
              "    .colab-df-convert {\n",
              "      background-color: #E8F0FE;\n",
              "      border: none;\n",
              "      border-radius: 50%;\n",
              "      cursor: pointer;\n",
              "      display: none;\n",
              "      fill: #1967D2;\n",
              "      height: 32px;\n",
              "      padding: 0 0 0 0;\n",
              "      width: 32px;\n",
              "    }\n",
              "\n",
              "    .colab-df-convert:hover {\n",
              "      background-color: #E2EBFA;\n",
              "      box-shadow: 0px 1px 2px rgba(60, 64, 67, 0.3), 0px 1px 3px 1px rgba(60, 64, 67, 0.15);\n",
              "      fill: #174EA6;\n",
              "    }\n",
              "\n",
              "    [theme=dark] .colab-df-convert {\n",
              "      background-color: #3B4455;\n",
              "      fill: #D2E3FC;\n",
              "    }\n",
              "\n",
              "    [theme=dark] .colab-df-convert:hover {\n",
              "      background-color: #434B5C;\n",
              "      box-shadow: 0px 1px 3px 1px rgba(0, 0, 0, 0.15);\n",
              "      filter: drop-shadow(0px 1px 2px rgba(0, 0, 0, 0.3));\n",
              "      fill: #FFFFFF;\n",
              "    }\n",
              "  </style>\n",
              "\n",
              "      <script>\n",
              "        const buttonEl =\n",
              "          document.querySelector('#df-ac8dccd1-e0d1-4b58-b980-cd4a9ef47eaf button.colab-df-convert');\n",
              "        buttonEl.style.display =\n",
              "          google.colab.kernel.accessAllowed ? 'block' : 'none';\n",
              "\n",
              "        async function convertToInteractive(key) {\n",
              "          const element = document.querySelector('#df-ac8dccd1-e0d1-4b58-b980-cd4a9ef47eaf');\n",
              "          const dataTable =\n",
              "            await google.colab.kernel.invokeFunction('convertToInteractive',\n",
              "                                                     [key], {});\n",
              "          if (!dataTable) return;\n",
              "\n",
              "          const docLinkHtml = 'Like what you see? Visit the ' +\n",
              "            '<a target=\"_blank\" href=https://colab.research.google.com/notebooks/data_table.ipynb>data table notebook</a>'\n",
              "            + ' to learn more about interactive tables.';\n",
              "          element.innerHTML = '';\n",
              "          dataTable['output_type'] = 'display_data';\n",
              "          await google.colab.output.renderOutput(dataTable, element);\n",
              "          const docLink = document.createElement('div');\n",
              "          docLink.innerHTML = docLinkHtml;\n",
              "          element.appendChild(docLink);\n",
              "        }\n",
              "      </script>\n",
              "    </div>\n",
              "  </div>\n",
              "  "
            ]
          },
          "metadata": {},
          "execution_count": 60
        }
      ]
    },
    {
      "cell_type": "code",
      "source": [
        "df.drop(index_list, axis=0, inplace=True)"
      ],
      "metadata": {
        "id": "ecgyqLaTGDcw"
      },
      "execution_count": 61,
      "outputs": []
    },
    {
      "cell_type": "code",
      "source": [
        "df.reset_index(drop=True, inplace=True)"
      ],
      "metadata": {
        "id": "SEvbcM5RGJgE"
      },
      "execution_count": 62,
      "outputs": []
    },
    {
      "cell_type": "code",
      "source": [
        "df"
      ],
      "metadata": {
        "colab": {
          "base_uri": "https://localhost:8080/",
          "height": 424
        },
        "id": "_veZqZpVGMOt",
        "outputId": "783dfa75-3b6b-40c2-8b6b-3a699ba0e59e"
      },
      "execution_count": 63,
      "outputs": [
        {
          "output_type": "execute_result",
          "data": {
            "text/plain": [
              "                                                 영화 리뷰  영화 평점\n",
              "0                   느와르풍 탐정물이 되어버린 배트맨호불호가 있을수있는 상영시간       8\n",
              "1                  스파이더맨 홈커밍같은 느낌이다. 근데 진짜 더럽게 멋지네...      10\n",
              "2    깊은 연기, 잘 벼려낸 영상미 덕분에 고담 시의 시민이 된 3시간.극장을 나오며 위...     10\n",
              "3    잔잔한듯 느리게 느껴지지만 그 안에는 이미 꽉찬 내용이 들어있다.끝까지 집중해서 볼...      9\n",
              "4                           연기는 좋았지만내가 알던 브루스 웨인은 죽었다       2\n",
              "..                                                 ...    ...\n",
              "270  음악과 연출 영상이 훌륭해서 재밌게 봤습니다 액션도 장비빨이 아니라서 더 몰입하게 ...     10\n",
              "271                             웅장한척 하고 싶어하는 영화.졸렬해요ㅠ       1\n",
              "272       마블스타일 히어로물 기대하면 비추디씨스타일(호아킨 조커) 느와르 기대하면 극추       8\n",
              "273                      다크나이트보다는 못해도 다른 배트맨영화보다 괜찮아요      10\n",
              "274  내가 10대 여자인데도, 이런 영화는 30~ 40대 남자 평점이 높을때 재밌는 경우...     10\n",
              "\n",
              "[275 rows x 2 columns]"
            ],
            "text/html": [
              "\n",
              "  <div id=\"df-1130131c-3c75-4972-af73-25d8e56e0d0d\">\n",
              "    <div class=\"colab-df-container\">\n",
              "      <div>\n",
              "<style scoped>\n",
              "    .dataframe tbody tr th:only-of-type {\n",
              "        vertical-align: middle;\n",
              "    }\n",
              "\n",
              "    .dataframe tbody tr th {\n",
              "        vertical-align: top;\n",
              "    }\n",
              "\n",
              "    .dataframe thead th {\n",
              "        text-align: right;\n",
              "    }\n",
              "</style>\n",
              "<table border=\"1\" class=\"dataframe\">\n",
              "  <thead>\n",
              "    <tr style=\"text-align: right;\">\n",
              "      <th></th>\n",
              "      <th>영화 리뷰</th>\n",
              "      <th>영화 평점</th>\n",
              "    </tr>\n",
              "  </thead>\n",
              "  <tbody>\n",
              "    <tr>\n",
              "      <th>0</th>\n",
              "      <td>느와르풍 탐정물이 되어버린 배트맨호불호가 있을수있는 상영시간</td>\n",
              "      <td>8</td>\n",
              "    </tr>\n",
              "    <tr>\n",
              "      <th>1</th>\n",
              "      <td>스파이더맨 홈커밍같은 느낌이다. 근데 진짜 더럽게 멋지네...</td>\n",
              "      <td>10</td>\n",
              "    </tr>\n",
              "    <tr>\n",
              "      <th>2</th>\n",
              "      <td>깊은 연기, 잘 벼려낸 영상미 덕분에 고담 시의 시민이 된 3시간.극장을 나오며 위...</td>\n",
              "      <td>10</td>\n",
              "    </tr>\n",
              "    <tr>\n",
              "      <th>3</th>\n",
              "      <td>잔잔한듯 느리게 느껴지지만 그 안에는 이미 꽉찬 내용이 들어있다.끝까지 집중해서 볼...</td>\n",
              "      <td>9</td>\n",
              "    </tr>\n",
              "    <tr>\n",
              "      <th>4</th>\n",
              "      <td>연기는 좋았지만내가 알던 브루스 웨인은 죽었다</td>\n",
              "      <td>2</td>\n",
              "    </tr>\n",
              "    <tr>\n",
              "      <th>...</th>\n",
              "      <td>...</td>\n",
              "      <td>...</td>\n",
              "    </tr>\n",
              "    <tr>\n",
              "      <th>270</th>\n",
              "      <td>음악과 연출 영상이 훌륭해서 재밌게 봤습니다 액션도 장비빨이 아니라서 더 몰입하게 ...</td>\n",
              "      <td>10</td>\n",
              "    </tr>\n",
              "    <tr>\n",
              "      <th>271</th>\n",
              "      <td>웅장한척 하고 싶어하는 영화.졸렬해요ㅠ</td>\n",
              "      <td>1</td>\n",
              "    </tr>\n",
              "    <tr>\n",
              "      <th>272</th>\n",
              "      <td>마블스타일 히어로물 기대하면 비추디씨스타일(호아킨 조커) 느와르 기대하면 극추</td>\n",
              "      <td>8</td>\n",
              "    </tr>\n",
              "    <tr>\n",
              "      <th>273</th>\n",
              "      <td>다크나이트보다는 못해도 다른 배트맨영화보다 괜찮아요</td>\n",
              "      <td>10</td>\n",
              "    </tr>\n",
              "    <tr>\n",
              "      <th>274</th>\n",
              "      <td>내가 10대 여자인데도, 이런 영화는 30~ 40대 남자 평점이 높을때 재밌는 경우...</td>\n",
              "      <td>10</td>\n",
              "    </tr>\n",
              "  </tbody>\n",
              "</table>\n",
              "<p>275 rows × 2 columns</p>\n",
              "</div>\n",
              "      <button class=\"colab-df-convert\" onclick=\"convertToInteractive('df-1130131c-3c75-4972-af73-25d8e56e0d0d')\"\n",
              "              title=\"Convert this dataframe to an interactive table.\"\n",
              "              style=\"display:none;\">\n",
              "        \n",
              "  <svg xmlns=\"http://www.w3.org/2000/svg\" height=\"24px\"viewBox=\"0 0 24 24\"\n",
              "       width=\"24px\">\n",
              "    <path d=\"M0 0h24v24H0V0z\" fill=\"none\"/>\n",
              "    <path d=\"M18.56 5.44l.94 2.06.94-2.06 2.06-.94-2.06-.94-.94-2.06-.94 2.06-2.06.94zm-11 1L8.5 8.5l.94-2.06 2.06-.94-2.06-.94L8.5 2.5l-.94 2.06-2.06.94zm10 10l.94 2.06.94-2.06 2.06-.94-2.06-.94-.94-2.06-.94 2.06-2.06.94z\"/><path d=\"M17.41 7.96l-1.37-1.37c-.4-.4-.92-.59-1.43-.59-.52 0-1.04.2-1.43.59L10.3 9.45l-7.72 7.72c-.78.78-.78 2.05 0 2.83L4 21.41c.39.39.9.59 1.41.59.51 0 1.02-.2 1.41-.59l7.78-7.78 2.81-2.81c.8-.78.8-2.07 0-2.86zM5.41 20L4 18.59l7.72-7.72 1.47 1.35L5.41 20z\"/>\n",
              "  </svg>\n",
              "      </button>\n",
              "      \n",
              "  <style>\n",
              "    .colab-df-container {\n",
              "      display:flex;\n",
              "      flex-wrap:wrap;\n",
              "      gap: 12px;\n",
              "    }\n",
              "\n",
              "    .colab-df-convert {\n",
              "      background-color: #E8F0FE;\n",
              "      border: none;\n",
              "      border-radius: 50%;\n",
              "      cursor: pointer;\n",
              "      display: none;\n",
              "      fill: #1967D2;\n",
              "      height: 32px;\n",
              "      padding: 0 0 0 0;\n",
              "      width: 32px;\n",
              "    }\n",
              "\n",
              "    .colab-df-convert:hover {\n",
              "      background-color: #E2EBFA;\n",
              "      box-shadow: 0px 1px 2px rgba(60, 64, 67, 0.3), 0px 1px 3px 1px rgba(60, 64, 67, 0.15);\n",
              "      fill: #174EA6;\n",
              "    }\n",
              "\n",
              "    [theme=dark] .colab-df-convert {\n",
              "      background-color: #3B4455;\n",
              "      fill: #D2E3FC;\n",
              "    }\n",
              "\n",
              "    [theme=dark] .colab-df-convert:hover {\n",
              "      background-color: #434B5C;\n",
              "      box-shadow: 0px 1px 3px 1px rgba(0, 0, 0, 0.15);\n",
              "      filter: drop-shadow(0px 1px 2px rgba(0, 0, 0, 0.3));\n",
              "      fill: #FFFFFF;\n",
              "    }\n",
              "  </style>\n",
              "\n",
              "      <script>\n",
              "        const buttonEl =\n",
              "          document.querySelector('#df-1130131c-3c75-4972-af73-25d8e56e0d0d button.colab-df-convert');\n",
              "        buttonEl.style.display =\n",
              "          google.colab.kernel.accessAllowed ? 'block' : 'none';\n",
              "\n",
              "        async function convertToInteractive(key) {\n",
              "          const element = document.querySelector('#df-1130131c-3c75-4972-af73-25d8e56e0d0d');\n",
              "          const dataTable =\n",
              "            await google.colab.kernel.invokeFunction('convertToInteractive',\n",
              "                                                     [key], {});\n",
              "          if (!dataTable) return;\n",
              "\n",
              "          const docLinkHtml = 'Like what you see? Visit the ' +\n",
              "            '<a target=\"_blank\" href=https://colab.research.google.com/notebooks/data_table.ipynb>data table notebook</a>'\n",
              "            + ' to learn more about interactive tables.';\n",
              "          element.innerHTML = '';\n",
              "          dataTable['output_type'] = 'display_data';\n",
              "          await google.colab.output.renderOutput(dataTable, element);\n",
              "          const docLink = document.createElement('div');\n",
              "          docLink.innerHTML = docLinkHtml;\n",
              "          element.appendChild(docLink);\n",
              "        }\n",
              "      </script>\n",
              "    </div>\n",
              "  </div>\n",
              "  "
            ]
          },
          "metadata": {},
          "execution_count": 63
        }
      ]
    },
    {
      "cell_type": "code",
      "source": [
        "df.to_excel(\"더베트맨영화리뷰.xlsx\", encoding=\"utf-8-sig\")"
      ],
      "metadata": {
        "id": "OcHRN7A3GMqf"
      },
      "execution_count": 64,
      "outputs": []
    },
    {
      "cell_type": "code",
      "source": [
        ""
      ],
      "metadata": {
        "id": "rtnkIvnRG5So"
      },
      "execution_count": null,
      "outputs": []
    }
  ]
}