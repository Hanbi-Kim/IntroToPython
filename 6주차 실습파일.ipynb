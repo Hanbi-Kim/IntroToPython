{
  "nbformat": 4,
  "nbformat_minor": 0,
  "metadata": {
    "colab": {
      "name": "Untitled4.ipynb",
      "provenance": []
    },
    "kernelspec": {
      "name": "python3",
      "display_name": "Python 3"
    },
    "language_info": {
      "name": "python"
    }
  },
  "cells": [
    {
      "cell_type": "markdown",
      "source": [
        "# Pandas"
      ],
      "metadata": {
        "id": "i013OH3ues73"
      }
    },
    {
      "cell_type": "code",
      "execution_count": null,
      "metadata": {
        "id": "xvTnDIjKesFI"
      },
      "outputs": [],
      "source": [
        "# 판다스 라이브러리 불러오기\n"
      ]
    },
    {
      "cell_type": "markdown",
      "source": [
        "# Series 시리즈 다루기\n",
        "\n",
        "Series: 일차원 배열로 어떤 데이터 유형이던지 담아 둘 수 있다. 각각의 데이터는 부여된 index에 따라 호출할 수 있다."
      ],
      "metadata": {
        "id": "OXzidkIOfHqe"
      }
    },
    {
      "cell_type": "code",
      "source": [
        "# 시리즈 만들기 01: 리스트/배열 형식으로 기본 시리즈 만들기.\n"
      ],
      "metadata": {
        "id": "wjvxhgBJe51K"
      },
      "execution_count": null,
      "outputs": []
    },
    {
      "cell_type": "code",
      "source": [
        "# 시리즈 인덱싱 : 기존에 배운 리스트 인덱싱과 동일합니다.\n"
      ],
      "metadata": {
        "id": "z02FII9Gk8zX"
      },
      "execution_count": null,
      "outputs": []
    },
    {
      "cell_type": "code",
      "source": [
        "# 실습: 인덱싱을 통해 my_series01 에서 세번째인 3.14를 출력해주세요.\n"
      ],
      "metadata": {
        "id": "TmP18A5jlMJR"
      },
      "execution_count": null,
      "outputs": []
    },
    {
      "cell_type": "code",
      "source": [
        "# 시리즈 만들기 02: 인덱스를 지정해주기.\n"
      ],
      "metadata": {
        "id": "uFxEvsHOgspd"
      },
      "execution_count": null,
      "outputs": []
    },
    {
      "cell_type": "code",
      "source": [
        "# 자신의 인덱스를 만든경우는 해당 인덱스를 사용해야 합니다.\n"
      ],
      "metadata": {
        "id": "hUf8RQ5PlFRA"
      },
      "execution_count": null,
      "outputs": []
    },
    {
      "cell_type": "code",
      "source": [
        "# 실습: 인덱싱을 통해 my_series02 에서 세번째인 중국을 출력해주세요.\n"
      ],
      "metadata": {
        "id": "S-F0JZE1lV0_"
      },
      "execution_count": null,
      "outputs": []
    },
    {
      "cell_type": "code",
      "source": [
        "# Dictionary Type, 딕셔너리 타입\n"
      ],
      "metadata": {
        "id": "_ZkHlQt6im69"
      },
      "execution_count": null,
      "outputs": []
    },
    {
      "cell_type": "code",
      "source": [
        "# 실습: my_dict의 타입 확인해보기\n"
      ],
      "metadata": {
        "id": "t513dlVli5R2"
      },
      "execution_count": null,
      "outputs": []
    },
    {
      "cell_type": "code",
      "source": [
        "# 딕셔너리의 키 값\n"
      ],
      "metadata": {
        "id": "M9ep5ZQHjD60"
      },
      "execution_count": null,
      "outputs": []
    },
    {
      "cell_type": "code",
      "source": [
        "# 딕셔너리의 벨류 값\n"
      ],
      "metadata": {
        "id": "f5fM5GHGi5NH"
      },
      "execution_count": null,
      "outputs": []
    },
    {
      "cell_type": "code",
      "source": [
        "# 시리즈 만들기 03: 딕셔너리타입을 통해 시리즈 만들기.\n"
      ],
      "metadata": {
        "id": "PnVqk5pmhb7V"
      },
      "execution_count": null,
      "outputs": []
    },
    {
      "cell_type": "code",
      "source": [
        "# 실습: 아래와 같은 출력이 나오게 my_series04를 만들어주세요.\n",
        "\n"
      ],
      "metadata": {
        "id": "xqIUyPkCjRWM"
      },
      "execution_count": null,
      "outputs": []
    },
    {
      "cell_type": "code",
      "source": [
        "# 실습 : 자신이 만든 시리즈에서 인덱스를 선택하여 초밥과 햄버거 두개를 출력해주세요.\n",
        "\n"
      ],
      "metadata": {
        "id": "6DUZegJYllvX"
      },
      "execution_count": null,
      "outputs": []
    },
    {
      "cell_type": "markdown",
      "source": [
        "# DataFrame 데이터프레임 다루기"
      ],
      "metadata": {
        "id": "Hrlvehkqkg1M"
      }
    },
    {
      "cell_type": "code",
      "source": [
        "# 시리즈를 딕셔너리 타입으로 데이터프레임 만들기.\n"
      ],
      "metadata": {
        "id": "Bvun2Co9kEpC"
      },
      "execution_count": null,
      "outputs": []
    },
    {
      "cell_type": "code",
      "source": [
        "# 리스트를 딕셔너리 타입으로 데이터프레임 만들기.\n"
      ],
      "metadata": {
        "id": "TGZsIJwznNFn"
      },
      "execution_count": null,
      "outputs": []
    },
    {
      "cell_type": "code",
      "source": [
        "# 실습: 아래와 같은 데이터프레임을 my_df03으로 만들어서 저장해주세요.\n"
      ],
      "metadata": {
        "id": "Jx8X10ONpVW6"
      },
      "execution_count": null,
      "outputs": []
    },
    {
      "cell_type": "markdown",
      "source": [
        "## 데이터프레임 행(column) 다루기"
      ],
      "metadata": {
        "id": "bCKIHpXtpCmG"
      }
    },
    {
      "cell_type": "code",
      "source": [
        "# 현재 행 이름 출력하기\n"
      ],
      "metadata": {
        "id": "TrRHoaEEnw_e"
      },
      "execution_count": null,
      "outputs": []
    },
    {
      "cell_type": "markdown",
      "source": [
        "## 콜롬 "
      ],
      "metadata": {
        "id": "un_OXnelqYUq"
      }
    },
    {
      "cell_type": "code",
      "source": [
        "# 행 선택하기\n"
      ],
      "metadata": {
        "id": "SfVI-0WzpGeZ"
      },
      "execution_count": null,
      "outputs": []
    },
    {
      "cell_type": "code",
      "source": [
        "# 여러 행 선택하기\n"
      ],
      "metadata": {
        "id": "27790PTUprt1"
      },
      "execution_count": null,
      "outputs": []
    },
    {
      "cell_type": "code",
      "source": [
        "# 실습: 행 선택하기를 응용하여 행 위치를 바꿔서 아래와 같이 출력해주세요.\n"
      ],
      "metadata": {
        "id": "_Mn-Oyp9pv46"
      },
      "execution_count": null,
      "outputs": []
    },
    {
      "cell_type": "markdown",
      "source": [
        "## 행 추가하기"
      ],
      "metadata": {
        "id": "SNGveAejqWBd"
      }
    },
    {
      "cell_type": "code",
      "source": [
        "# 행 이름을 새로 만들고, 해당 값들을 리스트로 지정해주기\n"
      ],
      "metadata": {
        "id": "6RIW_6fDp-oz"
      },
      "execution_count": null,
      "outputs": []
    },
    {
      "cell_type": "markdown",
      "source": [
        "## 행 제거하기"
      ],
      "metadata": {
        "id": "Lwmiz7aXrtLU"
      }
    },
    {
      "cell_type": "code",
      "source": [
        "# 제거하고 싶은 행을 선택하지 않기\n",
        "# my_df03 = my_df03[['나라', '수도', '대표음식']]\n"
      ],
      "metadata": {
        "id": "QwBQtvqPq_PF"
      },
      "execution_count": null,
      "outputs": []
    },
    {
      "cell_type": "markdown",
      "source": [
        "## 데이터프레임 인덱싱"
      ],
      "metadata": {
        "id": "EMwRTpHbsqCP"
      }
    },
    {
      "cell_type": "code",
      "source": [
        "# 인덱스 번호를 사용하여 선택하기\n"
      ],
      "metadata": {
        "id": "ii8MuXMlsFRz"
      },
      "execution_count": null,
      "outputs": []
    },
    {
      "cell_type": "code",
      "source": [
        "# : 슬라이싱을 통해 선택하기\n"
      ],
      "metadata": {
        "id": "GMGFKNj8suDk"
      },
      "execution_count": null,
      "outputs": []
    },
    {
      "cell_type": "code",
      "source": [
        "# 특정 인덱스 번호를 리스트로 만들어서 선택하기\n"
      ],
      "metadata": {
        "id": "5w-b6Uhms1AD"
      },
      "execution_count": null,
      "outputs": []
    },
    {
      "cell_type": "code",
      "source": [
        "# 행/열 둘 다 선택하기\n"
      ],
      "metadata": {
        "id": "NmsSUhV6s6SJ"
      },
      "execution_count": null,
      "outputs": []
    },
    {
      "cell_type": "code",
      "source": [
        "# 실습: 여러 행/열 둘 다 선택하기\n"
      ],
      "metadata": {
        "id": "WrsIk0rBtH2f"
      },
      "execution_count": null,
      "outputs": []
    },
    {
      "cell_type": "code",
      "source": [
        "# iloc를 활용하여 행/열 번호로 선택하기 iloc[열번호,행번호]\n",
        "#열번호가 0번이고 행번호가 1번인 데이터 선택\n"
      ],
      "metadata": {
        "id": "l9KgUghQtNxh"
      },
      "execution_count": null,
      "outputs": []
    },
    {
      "cell_type": "code",
      "source": [
        "# 실습: iloc를 활용하여 아래와 같이 출력하기\n"
      ],
      "metadata": {
        "id": "mULHpKcAtVH6"
      },
      "execution_count": null,
      "outputs": []
    },
    {
      "cell_type": "markdown",
      "source": [
        "## csv/excel 저장하고 불러오기"
      ],
      "metadata": {
        "id": "bY02VMLutwPd"
      }
    },
    {
      "cell_type": "markdown",
      "source": [
        "## 저장하기"
      ],
      "metadata": {
        "id": "JrpKv5lluUqE"
      }
    },
    {
      "cell_type": "code",
      "source": [
        "# 저장하고싶은데이터프레임변수명.to_csv('파일명.csv', encoding='한국어인경우, utf-8-sig')\n"
      ],
      "metadata": {
        "id": "NLC3VgYFtpwr"
      },
      "execution_count": null,
      "outputs": []
    },
    {
      "cell_type": "code",
      "source": [
        "# 저장하고싶은데이터프레임변수명.to_excel('파일명.xlsx', encoding='한국어인경우, utf-8-sig')\n"
      ],
      "metadata": {
        "id": "sQMxA-r8uE5y"
      },
      "execution_count": null,
      "outputs": []
    },
    {
      "cell_type": "markdown",
      "source": [
        "## 불러오기"
      ],
      "metadata": {
        "id": "JvLfw_kVuWWt"
      }
    },
    {
      "cell_type": "code",
      "source": [
        "# csv 파일 불러오기\n",
        "\n",
        "# 엑셀 파일 불러오기 \n"
      ],
      "metadata": {
        "id": "mRboEfGauKuK"
      },
      "execution_count": null,
      "outputs": []
    },
    {
      "cell_type": "code",
      "source": [
        ""
      ],
      "metadata": {
        "id": "nSbUK354uq11"
      },
      "execution_count": null,
      "outputs": []
    },
    {
      "cell_type": "code",
      "source": [
        "# 데이터 정보 확인하기 \n",
        "# 확인할것:\n",
        "# 1. 데이터의 유형\n",
        "# 2. NULL 데이터 존재유무\n"
      ],
      "metadata": {
        "id": "1TWDZ4UvvE5V"
      },
      "execution_count": null,
      "outputs": []
    },
    {
      "cell_type": "code",
      "source": [
        "# 기초 통계량 확인하기\n"
      ],
      "metadata": {
        "id": "ErmpddhQvWSi"
      },
      "execution_count": null,
      "outputs": []
    },
    {
      "cell_type": "code",
      "source": [
        "# 결측치 처리하기 \n",
        "# fillna() = 특정값으로 채우기 / dropna() = 제거하기\n",
        "# inplace=True는 데이터프레임 자체에 효과를 적용하게 해줌 df = df.fillna(0) 과 동일한 효과\n"
      ],
      "metadata": {
        "id": "lfp-GfpwvgEc"
      },
      "execution_count": null,
      "outputs": []
    },
    {
      "cell_type": "code",
      "source": [
        "# 결측치가 0으로 채워진 것을 확인\n"
      ],
      "metadata": {
        "id": "Jodj0vzXwHMO"
      },
      "execution_count": null,
      "outputs": []
    },
    {
      "cell_type": "code",
      "source": [
        ""
      ],
      "metadata": {
        "id": "6jorBCKSwJHd"
      },
      "execution_count": null,
      "outputs": []
    },
    {
      "cell_type": "code",
      "source": [
        "# 실습 : 연월일 행 제거하기\n"
      ],
      "metadata": {
        "id": "IACt9CwswPqv"
      },
      "execution_count": null,
      "outputs": []
    },
    {
      "cell_type": "markdown",
      "source": [
        "## 구간 평균/합 구하기"
      ],
      "metadata": {
        "id": "jmuJb2X2wt9n"
      }
    },
    {
      "cell_type": "code",
      "source": [
        "import numpy as np\n",
        "# axis=0 행 전체에 평균\n"
      ],
      "metadata": {
        "id": "VZk5POC4yIbM"
      },
      "execution_count": null,
      "outputs": []
    },
    {
      "cell_type": "code",
      "source": [
        "# axis=0 행 전체에 합\n"
      ],
      "metadata": {
        "id": "eOIKlFNrySQ4"
      },
      "execution_count": null,
      "outputs": []
    },
    {
      "cell_type": "code",
      "source": [
        ""
      ],
      "metadata": {
        "id": "weVJT6r50eG2"
      },
      "execution_count": null,
      "outputs": []
    },
    {
      "cell_type": "code",
      "source": [
        ""
      ],
      "metadata": {
        "id": "Up8e-JE202js"
      },
      "execution_count": null,
      "outputs": []
    },
    {
      "cell_type": "code",
      "source": [
        "# axis=1 열 전체에 평균\n"
      ],
      "metadata": {
        "id": "FHLu-lQCx5Xw"
      },
      "execution_count": null,
      "outputs": []
    },
    {
      "cell_type": "code",
      "source": [
        "# axis=1 열 전체에 합\n"
      ],
      "metadata": {
        "id": "GQc12sLBycTk"
      },
      "execution_count": null,
      "outputs": []
    },
    {
      "cell_type": "code",
      "source": [
        ""
      ],
      "metadata": {
        "id": "BeCrWpmsznq3"
      },
      "execution_count": null,
      "outputs": []
    },
    {
      "cell_type": "code",
      "source": [
        ""
      ],
      "metadata": {
        "id": "pQsv2tgdyhTY"
      },
      "execution_count": null,
      "outputs": []
    },
    {
      "cell_type": "code",
      "source": [
        ""
      ],
      "metadata": {
        "id": "NGbUdRo80KO_"
      },
      "execution_count": null,
      "outputs": []
    },
    {
      "cell_type": "code",
      "source": [
        "# df['10대'] = df.iloc[:,0] + df.iloc[:,1]\n",
        "# df['20대'] = df.iloc[:,2] + df.iloc[:,3]\n",
        "# df['30대'] = df.iloc[:,4] + df.iloc[:,5]\n",
        "# df['40대'] = df.iloc[:,6] + df.iloc[:,7]\n",
        "# df['50대'] = df.iloc[:,8] + df.iloc[:,9]\n",
        "# df['60대'] = df.iloc[:,10] + df.iloc[:,11]\n"
      ],
      "metadata": {
        "id": "bAel3eY61zOm"
      },
      "execution_count": null,
      "outputs": []
    },
    {
      "cell_type": "code",
      "source": [
        ""
      ],
      "metadata": {
        "id": "2xnIJjzf2bLH"
      },
      "execution_count": null,
      "outputs": []
    },
    {
      "cell_type": "code",
      "source": [
        "import matplotlib.pyplot as plt\n",
        "# 그래프 사이즈 조절\n",
        "\n",
        "# 데이터 입력\n",
        "\n",
        "# 파이 차트에 대한 설정 \n",
        "\n",
        "# 타이틀 및 축 설정\n",
        "\n",
        "# 그래프 보여주기 \n"
      ],
      "metadata": {
        "id": "HecBirkw3CN2"
      },
      "execution_count": null,
      "outputs": []
    },
    {
      "cell_type": "code",
      "source": [
        ""
      ],
      "metadata": {
        "id": "qXxu9ysa3F5J"
      },
      "execution_count": null,
      "outputs": []
    }
  ]
}