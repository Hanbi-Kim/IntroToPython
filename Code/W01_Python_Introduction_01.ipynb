{
  "nbformat": 4,
  "nbformat_minor": 0,
  "metadata": {
    "colab": {
      "name": "W01_Python Introduction 01.ipynb",
      "provenance": [],
      "collapsed_sections": [],
      "toc_visible": true,
      "authorship_tag": "ABX9TyPdPxJlEsZ69l5F9bUb4cO9",
      "include_colab_link": true
    },
    "kernelspec": {
      "name": "python3",
      "display_name": "Python 3"
    },
    "language_info": {
      "name": "python"
    }
  },
  "cells": [
    {
      "cell_type": "markdown",
      "metadata": {
        "id": "view-in-github",
        "colab_type": "text"
      },
      "source": [
        "<a href=\"https://colab.research.google.com/github/Hanbi-Kim/IntroToPython/blob/main/Code/W01_Python_Introduction_01.ipynb\" target=\"_parent\"><img src=\"https://colab.research.google.com/assets/colab-badge.svg\" alt=\"Open In Colab\"/></a>"
      ]
    },
    {
      "cell_type": "markdown",
      "source": [
        "# Chapter 1. 코랩 작업 환경 구성하기"
      ],
      "metadata": {
        "id": "a7PNT6kILnEq"
      }
    },
    {
      "cell_type": "code",
      "execution_count": null,
      "metadata": {
        "colab": {
          "base_uri": "https://localhost:8080/"
        },
        "id": "BCOA706CLDDo",
        "outputId": "63ae72fd-35df-4881-94b0-e4b84ea9ba08"
      },
      "outputs": [
        {
          "output_type": "stream",
          "name": "stdout",
          "text": [
            "Mounted at /content/gdrive\n"
          ]
        }
      ],
      "source": [
        "# 구글 드라이브와 연동하기.\n",
        "from google.colab import drive \n",
        "drive.mount('/content/gdrive')"
      ]
    },
    {
      "cell_type": "code",
      "source": [
        "# 현재 폴더 안에 파일 확인하기.\n",
        "! dir"
      ],
      "metadata": {
        "colab": {
          "base_uri": "https://localhost:8080/"
        },
        "id": "nfqMpbp2LeF3",
        "outputId": "a7c8af1d-8036-4e82-8ed7-e841437acd34"
      },
      "execution_count": null,
      "outputs": [
        {
          "output_type": "stream",
          "name": "stdout",
          "text": [
            "sample_data\n"
          ]
        }
      ]
    },
    {
      "cell_type": "code",
      "source": [
        "# 현재 경로 확인하기.\n",
        "! pwd"
      ],
      "metadata": {
        "colab": {
          "base_uri": "https://localhost:8080/"
        },
        "id": "DaM4iS5MLvfL",
        "outputId": "c209d010-1473-4c26-a197-a6f349d3f3cf"
      },
      "execution_count": null,
      "outputs": [
        {
          "output_type": "stream",
          "name": "stdout",
          "text": [
            "/content\n"
          ]
        }
      ]
    },
    {
      "cell_type": "code",
      "source": [
        "# 작업환경 경로 이동하기.\n",
        "% cd ./gdrive"
      ],
      "metadata": {
        "colab": {
          "base_uri": "https://localhost:8080/"
        },
        "id": "dTFQ3CdvLxnP",
        "outputId": "22f62376-b352-4913-b4b6-2408e2a254eb"
      },
      "execution_count": null,
      "outputs": [
        {
          "output_type": "stream",
          "name": "stdout",
          "text": [
            "/content/gdrive\n"
          ]
        }
      ]
    },
    {
      "cell_type": "markdown",
      "source": [
        "### 주석 처리"
      ],
      "metadata": {
        "id": "sQ9pcPFbqv_1"
      }
    },
    {
      "cell_type": "markdown",
      "source": [
        "1. 텍스트 셀을 만들어서 주석처리 하기"
      ],
      "metadata": {
        "id": "BoggT-7Yqymq"
      }
    },
    {
      "cell_type": "code",
      "source": [
        "# 2. #을 이용하여 주석처리하기. ( 단축키: Ctrl + /)"
      ],
      "metadata": {
        "id": "AZ0egUk9q2NL"
      },
      "execution_count": null,
      "outputs": []
    },
    {
      "cell_type": "markdown",
      "source": [
        "# Chapter 2. 변수(Variable) 생성하기"
      ],
      "metadata": {
        "id": "nx8T1jlSM3Pf"
      }
    },
    {
      "cell_type": "markdown",
      "source": [
        "### 2-1 변수 만들고 출력하기. [ print() ]"
      ],
      "metadata": {
        "id": "XXsqggurgLFf"
      }
    },
    {
      "cell_type": "markdown",
      "source": [
        "\"=\" 기호가 수학적 의미의 \"같다\"(EQUAL)가 아닌 프로그래밍에서는 변수에 \"할당한다\"(ASSIGN)는 의미로 쓰인다는 것을 이해하기."
      ],
      "metadata": {
        "id": "vsCtk_MFNMtC"
      }
    },
    {
      "cell_type": "code",
      "source": [
        "# a 라는 변수에 숫자 1을 할당하기.\n",
        "a = 1"
      ],
      "metadata": {
        "id": "DGV8PCf_NBwC"
      },
      "execution_count": null,
      "outputs": []
    },
    {
      "cell_type": "code",
      "source": [
        "# 변수 a에는 1이 저장되었음으로, print(a)의 경우 변수 a에 저장된 1을 출력함\n",
        "print(a)"
      ],
      "metadata": {
        "colab": {
          "base_uri": "https://localhost:8080/"
        },
        "id": "XqEVHCW7NR6V",
        "outputId": "44871ec6-4c20-4cb4-b365-6d463f28ef17"
      },
      "execution_count": null,
      "outputs": [
        {
          "output_type": "stream",
          "name": "stdout",
          "text": [
            "1\n"
          ]
        }
      ]
    },
    {
      "cell_type": "code",
      "source": [
        "# a 라는 변수에 1을 더하고, 해당 값을 다시 a에 할당해줌\n",
        "a = a + 1"
      ],
      "metadata": {
        "id": "zg6ZiDQtNYah"
      },
      "execution_count": null,
      "outputs": []
    },
    {
      "cell_type": "code",
      "source": [
        "# 원래 a에 저당된 1에 1이 더해짐으로 2가 출력됨\n",
        "print(a)"
      ],
      "metadata": {
        "colab": {
          "base_uri": "https://localhost:8080/"
        },
        "id": "m0_EotvWNvHg",
        "outputId": "a9d94f80-9c8b-4652-cc44-3a08879ee249"
      },
      "execution_count": null,
      "outputs": [
        {
          "output_type": "stream",
          "name": "stdout",
          "text": [
            "2\n"
          ]
        }
      ]
    },
    {
      "cell_type": "code",
      "source": [
        "# 문자 데이터를 변수에 지정하기\n",
        "sentence = 'Hello, World!'"
      ],
      "metadata": {
        "id": "s6f-w0x8gy5C"
      },
      "execution_count": null,
      "outputs": []
    },
    {
      "cell_type": "code",
      "source": [
        "# sentence 변수에 저장된 문자를 출력하기.\n",
        "print(sentence)"
      ],
      "metadata": {
        "colab": {
          "base_uri": "https://localhost:8080/"
        },
        "id": "kEVvjgjqg7sW",
        "outputId": "a80de536-db3c-435c-a719-111ea831373f"
      },
      "execution_count": null,
      "outputs": [
        {
          "output_type": "stream",
          "name": "stdout",
          "text": [
            "Hello, World!\n"
          ]
        }
      ]
    },
    {
      "cell_type": "markdown",
      "source": [
        "### 2-2 변수 이름으로 사용할 수 없는 단어."
      ],
      "metadata": {
        "id": "1ok5C_ezgPZk"
      }
    },
    {
      "cell_type": "code",
      "source": [
        "# for / in / def 등 파이썬 프로그래밍에서 문법 용어로 사용되는 단어는 변수로 사용할 수 없다.\n",
        "# \"invalid syntax\"는 파이썬 문법에 맞지 않다는 오류 신호이다. \n",
        "for = 4 # 코랩에서 보라색으로 색칠된것을 볼 수 있다."
      ],
      "metadata": {
        "colab": {
          "base_uri": "https://localhost:8080/",
          "height": 137
        },
        "id": "U5lKS_Y5NwMt",
        "outputId": "21d6148b-02c1-4935-874e-653b40ef9748"
      },
      "execution_count": null,
      "outputs": [
        {
          "output_type": "error",
          "ename": "SyntaxError",
          "evalue": "ignored",
          "traceback": [
            "\u001b[0;36m  File \u001b[0;32m\"<ipython-input-26-7b12443457ee>\"\u001b[0;36m, line \u001b[0;32m1\u001b[0m\n\u001b[0;31m    for = 4\u001b[0m\n\u001b[0m        ^\u001b[0m\n\u001b[0;31mSyntaxError\u001b[0m\u001b[0;31m:\u001b[0m invalid syntax\n"
          ]
        }
      ]
    },
    {
      "cell_type": "code",
      "source": [
        "# 4라는 변수를 four에 할당하고 출력하기\n",
        "four = 4\n",
        "print(four)"
      ],
      "metadata": {
        "colab": {
          "base_uri": "https://localhost:8080/"
        },
        "id": "gUCqdlCfOQmg",
        "outputId": "6d517cd6-fc26-47e2-efda-3ebe19f0d90a"
      },
      "execution_count": null,
      "outputs": [
        {
          "output_type": "stream",
          "name": "stdout",
          "text": [
            "4\n"
          ]
        }
      ]
    },
    {
      "cell_type": "markdown",
      "source": [
        "### 2-3 변수 이름 만들기."
      ],
      "metadata": {
        "id": "npCs8xEqgVIu"
      }
    },
    {
      "cell_type": "code",
      "source": [
        "# 변수 이름은 최대한 한번에 알아보기 쉬운 것으로 아래와 같은 방법으로 설정하자.\n",
        "myHeight = 173\n",
        "my_height = 173 #파이썬에서는 _ 를 활용하여 띄여쓰기를 하는 방법 선호"
      ],
      "metadata": {
        "id": "KKGTLM3KOnVb"
      },
      "execution_count": null,
      "outputs": []
    },
    {
      "cell_type": "code",
      "source": [
        "print(my_height)"
      ],
      "metadata": {
        "colab": {
          "base_uri": "https://localhost:8080/"
        },
        "id": "pmGmNKgJPESb",
        "outputId": "8eac55ef-6056-4642-f8d7-d1787ea41029"
      },
      "execution_count": null,
      "outputs": [
        {
          "output_type": "stream",
          "name": "stdout",
          "text": [
            "173\n"
          ]
        }
      ]
    },
    {
      "cell_type": "markdown",
      "source": [
        "### 2-4 여러 변수 지정하기."
      ],
      "metadata": {
        "id": "2glvQ3higchd"
      }
    },
    {
      "cell_type": "code",
      "source": [
        "# 여러 변수 한번에 지정해주기.\n",
        "a = b = c = 2\n",
        "e, f, g = 3, 4, 5"
      ],
      "metadata": {
        "id": "9fhd4iZ9PHc3"
      },
      "execution_count": null,
      "outputs": []
    },
    {
      "cell_type": "code",
      "source": [
        "# a,b,c 의 경우 2 라는 숫자가 동일하게 저장됨\n",
        "print(a,b,c)"
      ],
      "metadata": {
        "colab": {
          "base_uri": "https://localhost:8080/"
        },
        "id": "ME1wkcnlPV_R",
        "outputId": "d522c10a-75b8-422f-b6c6-66b671df0605"
      },
      "execution_count": null,
      "outputs": [
        {
          "output_type": "stream",
          "name": "stdout",
          "text": [
            "2 2 2\n"
          ]
        }
      ]
    },
    {
      "cell_type": "code",
      "source": [
        "# e, f, g 에는 각각 3, 4, 5 가 저장됨\n",
        "print(e,f,g)"
      ],
      "metadata": {
        "colab": {
          "base_uri": "https://localhost:8080/"
        },
        "id": "Egwb_3diPX3c",
        "outputId": "fbc5a25a-d1b1-4860-ba62-39c9845726c9"
      },
      "execution_count": null,
      "outputs": [
        {
          "output_type": "stream",
          "name": "stdout",
          "text": [
            "3 4 5\n"
          ]
        }
      ]
    },
    {
      "cell_type": "markdown",
      "source": [
        "### 실습: my_name 변수를 생성하고 자신의 이름을 저장하고 이를 출력해보기."
      ],
      "metadata": {
        "id": "w78lq5NzficC"
      }
    },
    {
      "cell_type": "code",
      "source": [
        ""
      ],
      "metadata": {
        "id": "ldb9M4tfgBYQ"
      },
      "execution_count": null,
      "outputs": []
    },
    {
      "cell_type": "markdown",
      "source": [
        "# Chapter 3. 데이터 유형 01\n",
        "파이썬에서 사용되는 데이터의 타입을 이해하고 활용하기"
      ],
      "metadata": {
        "id": "ITkJAfSkPwbX"
      }
    },
    {
      "cell_type": "markdown",
      "source": [
        "## 3-1 정수 타입 (INT)"
      ],
      "metadata": {
        "id": "9iPmWdJkQhqi"
      }
    },
    {
      "cell_type": "code",
      "source": [
        "a = 15"
      ],
      "metadata": {
        "id": "kb48O_QSP3JA"
      },
      "execution_count": null,
      "outputs": []
    },
    {
      "cell_type": "code",
      "source": [
        "# type() 함수를 통하여, 변수의 데이터 타입을 확인할 수 있다.\n",
        "type(a)"
      ],
      "metadata": {
        "colab": {
          "base_uri": "https://localhost:8080/"
        },
        "id": "qUfiYHUIQrls",
        "outputId": "09b285c5-aeae-4983-ba0c-3ed5644cb911"
      },
      "execution_count": null,
      "outputs": [
        {
          "output_type": "execute_result",
          "data": {
            "text/plain": [
              "int"
            ]
          },
          "metadata": {},
          "execution_count": 53
        }
      ]
    },
    {
      "cell_type": "markdown",
      "source": [
        "### 실습 01: 변수 b와 c의 데이터 타입을 예측하고 type() 통해 확인하기."
      ],
      "metadata": {
        "id": "E8-6GDkVQ5Dl"
      }
    },
    {
      "cell_type": "code",
      "source": [
        "b = 0\n",
        "c = -100"
      ],
      "metadata": {
        "id": "BU12-Vs2UWhc"
      },
      "execution_count": null,
      "outputs": []
    },
    {
      "cell_type": "code",
      "source": [
        ""
      ],
      "metadata": {
        "id": "e0SF0QH_UWTu"
      },
      "execution_count": null,
      "outputs": []
    },
    {
      "cell_type": "code",
      "source": [
        ""
      ],
      "metadata": {
        "id": "bb9vlIJtU4I1"
      },
      "execution_count": null,
      "outputs": []
    },
    {
      "cell_type": "markdown",
      "source": [
        "## 3-2 실수형 타입 (Float)"
      ],
      "metadata": {
        "id": "z6HcILnyRVPj"
      }
    },
    {
      "cell_type": "code",
      "source": [
        "a = 3.14"
      ],
      "metadata": {
        "id": "sh2Hs-0bRJzd"
      },
      "execution_count": null,
      "outputs": []
    },
    {
      "cell_type": "code",
      "source": [
        "# 3.14 가 저장된 변수 a의 타입이 \"float\" 실수형인것을 확인하기\n",
        "type(a)"
      ],
      "metadata": {
        "colab": {
          "base_uri": "https://localhost:8080/"
        },
        "id": "2Ex0h89dRnsL",
        "outputId": "2a584f71-59b3-46e3-f467-ecf3e7d64880"
      },
      "execution_count": null,
      "outputs": [
        {
          "output_type": "execute_result",
          "data": {
            "text/plain": [
              "float"
            ]
          },
          "metadata": {},
          "execution_count": 50
        }
      ]
    },
    {
      "cell_type": "markdown",
      "source": [
        "### 실습 02: 변수 b와 c의 데이터 타입 예측하고 type()통해 확인하기."
      ],
      "metadata": {
        "id": "UZwABC82UYKM"
      }
    },
    {
      "cell_type": "code",
      "source": [
        "b = -12.214215\n",
        "c = 1.0"
      ],
      "metadata": {
        "id": "XbtScoGjUy_Z"
      },
      "execution_count": null,
      "outputs": []
    },
    {
      "cell_type": "code",
      "source": [
        ""
      ],
      "metadata": {
        "id": "f0XZG_KrUXfZ"
      },
      "execution_count": null,
      "outputs": []
    },
    {
      "cell_type": "code",
      "source": [
        ""
      ],
      "metadata": {
        "id": "0ld6NgyhUXW4"
      },
      "execution_count": null,
      "outputs": []
    },
    {
      "cell_type": "markdown",
      "source": [
        "## 3-3 문자열 타입 (String)"
      ],
      "metadata": {
        "id": "1qqW7Tp1R91Q"
      }
    },
    {
      "cell_type": "code",
      "source": [
        "# a 라는 변수에 '' 를 이용하여 문자열 타입의 데이터를 할당함\n",
        "a = 'students'\n",
        "type(a)"
      ],
      "metadata": {
        "colab": {
          "base_uri": "https://localhost:8080/"
        },
        "id": "UWgIhawVSrwl",
        "outputId": "01628ccf-10e7-4e2b-b094-eb5bfde3e3ed"
      },
      "execution_count": null,
      "outputs": [
        {
          "output_type": "execute_result",
          "data": {
            "text/plain": [
              "str"
            ]
          },
          "metadata": {},
          "execution_count": 45
        }
      ]
    },
    {
      "cell_type": "markdown",
      "source": [
        "### 실습03: b,c,d 변수의 데이터 타입을 예측해보고 type() 통해서 결과를 확인하기."
      ],
      "metadata": {
        "id": "FAfP6mW1Sl6O"
      }
    },
    {
      "cell_type": "code",
      "source": [
        "b = \"나는 학생입니다.\" # \"\" 를 사용하여 데이터를 만든 경우\n",
        "c = '0.000123' # 숫자를 입력한 경우\n",
        "d = b # 또 다른 변수를 입력한 경우"
      ],
      "metadata": {
        "id": "rQRFaWcmSIAk"
      },
      "execution_count": null,
      "outputs": []
    },
    {
      "cell_type": "code",
      "source": [
        ""
      ],
      "metadata": {
        "id": "o4AZEkCpU746"
      },
      "execution_count": null,
      "outputs": []
    },
    {
      "cell_type": "code",
      "source": [
        ""
      ],
      "metadata": {
        "id": "BgnS-fyvU7xg"
      },
      "execution_count": null,
      "outputs": []
    },
    {
      "cell_type": "code",
      "source": [
        ""
      ],
      "metadata": {
        "id": "rUuiptEkU7tt"
      },
      "execution_count": null,
      "outputs": []
    },
    {
      "cell_type": "markdown",
      "source": [
        "## 3-4 불리안 타입 (Boolean)"
      ],
      "metadata": {
        "id": "wvHSqP-0TTtl"
      }
    },
    {
      "cell_type": "code",
      "source": [
        "# True/False 두개의 불리안 타입의 경우, 프로그래밍에서 \"yes\"/\"no\"의 개념으로 이용된다.\n",
        "a = True\n",
        "b = False"
      ],
      "metadata": {
        "id": "ulVsgi45TTOF"
      },
      "execution_count": null,
      "outputs": []
    },
    {
      "cell_type": "code",
      "source": [
        "type(a)"
      ],
      "metadata": {
        "colab": {
          "base_uri": "https://localhost:8080/"
        },
        "id": "nZdQyc00ScDp",
        "outputId": "e7fa09fc-3664-4411-9b08-878665203cdf"
      },
      "execution_count": null,
      "outputs": [
        {
          "output_type": "execute_result",
          "data": {
            "text/plain": [
              "bool"
            ]
          },
          "metadata": {},
          "execution_count": 47
        }
      ]
    },
    {
      "cell_type": "markdown",
      "source": [
        "# Chapter 4. 데이터 유형 변경 (Casting)"
      ],
      "metadata": {
        "id": "v5_GwwysT_KW"
      }
    },
    {
      "cell_type": "markdown",
      "source": [
        "### 4-1 정수형 타입을 실수형 타입으로 변환 [ float() ]"
      ],
      "metadata": {
        "id": "9QAIDhetWlHK"
      }
    },
    {
      "cell_type": "code",
      "source": [
        "# 변수 a 에는 1이 저장되어 데이터 유형이 정수형임을 확인\n",
        "a = 1\n",
        "type(a)"
      ],
      "metadata": {
        "colab": {
          "base_uri": "https://localhost:8080/"
        },
        "id": "02oq5aayTcBu",
        "outputId": "1b1adf85-3726-4216-b4c5-47aa335da863"
      },
      "execution_count": null,
      "outputs": [
        {
          "output_type": "execute_result",
          "data": {
            "text/plain": [
              "int"
            ]
          },
          "metadata": {},
          "execution_count": 57
        }
      ]
    },
    {
      "cell_type": "code",
      "source": [
        "# float()을 통해 변수 a의 유형을 실수형으로 변경하고 이를 a에 다시 저장함\n",
        "a = float(a)\n",
        "\n",
        "# 변수 a 의 데이터 유형이 실수형으로 변경되었다.\n",
        "type(a)"
      ],
      "metadata": {
        "colab": {
          "base_uri": "https://localhost:8080/"
        },
        "id": "2nRorgVsUOAU",
        "outputId": "8dc5987e-e54b-4a16-d3eb-b36648cd0fde"
      },
      "execution_count": null,
      "outputs": [
        {
          "output_type": "execute_result",
          "data": {
            "text/plain": [
              "float"
            ]
          },
          "metadata": {},
          "execution_count": 64
        }
      ]
    },
    {
      "cell_type": "code",
      "source": [
        "# a 의 값도 1에서 1.0으로 바뀐 것을 볼 수 있다.\n",
        "print(a)"
      ],
      "metadata": {
        "colab": {
          "base_uri": "https://localhost:8080/"
        },
        "id": "tAsdUfhTVUXs",
        "outputId": "9950614a-12fc-435d-cfdd-440c67fc2b5e"
      },
      "execution_count": null,
      "outputs": [
        {
          "output_type": "stream",
          "name": "stdout",
          "text": [
            "1.0\n"
          ]
        }
      ]
    },
    {
      "cell_type": "markdown",
      "source": [
        "### 4-2 정수형 타입을 문자열로 변환 [ str() ]"
      ],
      "metadata": {
        "id": "24XlxGpSXCSY"
      }
    },
    {
      "cell_type": "code",
      "source": [
        "# str()을 통해 변수 a의 유형을 문자열로 변경하고 이를 a에 다시 저장함\n",
        "a = str(a)\n",
        "\n",
        "# 변수 a 의 데이터 유형이 문자열로 변경되었다.\n",
        "type(a)"
      ],
      "metadata": {
        "colab": {
          "base_uri": "https://localhost:8080/"
        },
        "id": "Y45xSCAsVWVk",
        "outputId": "dc776954-49c0-40a7-f3b0-eef9e1735143"
      },
      "execution_count": null,
      "outputs": [
        {
          "output_type": "execute_result",
          "data": {
            "text/plain": [
              "str"
            ]
          },
          "metadata": {},
          "execution_count": 66
        }
      ]
    },
    {
      "cell_type": "code",
      "source": [
        "# 변수 a에 '1234' 라는 문자열이 저장되었다.\n",
        "a = '1234'\n",
        "type(a)"
      ],
      "metadata": {
        "colab": {
          "base_uri": "https://localhost:8080/"
        },
        "id": "xEtGm4ToVm95",
        "outputId": "13e5650c-cdbd-4ecd-c433-a803aa70e5fd"
      },
      "execution_count": null,
      "outputs": [
        {
          "output_type": "execute_result",
          "data": {
            "text/plain": [
              "str"
            ]
          },
          "metadata": {},
          "execution_count": 71
        }
      ]
    },
    {
      "cell_type": "code",
      "source": [
        "# 문자열 '1234'의 경우 문자에 숫자만 포함됨으로 이를 정수형으로 변경할 수 있다.\n",
        "a = int(a)\n",
        "type(a)"
      ],
      "metadata": {
        "colab": {
          "base_uri": "https://localhost:8080/"
        },
        "id": "JcNvF6ZaWDb4",
        "outputId": "161181bc-758b-4f79-a6ea-968f82d28aeb"
      },
      "execution_count": null,
      "outputs": [
        {
          "output_type": "execute_result",
          "data": {
            "text/plain": [
              "int"
            ]
          },
          "metadata": {},
          "execution_count": 73
        }
      ]
    },
    {
      "cell_type": "markdown",
      "source": [
        "### 4-3 실수형 타입을 정수형으로 변환 [ int() , round() ]"
      ],
      "metadata": {
        "id": "PIgn73c2XQFf"
      }
    },
    {
      "cell_type": "code",
      "source": [
        "# 변수 a 에는 3.9999가 저장되어 데이터 유형이 실수형임을 확인\n",
        "a = 3.9999\n",
        "type(a)"
      ],
      "metadata": {
        "colab": {
          "base_uri": "https://localhost:8080/"
        },
        "id": "S4V3KgRFXOjf",
        "outputId": "c4334f0b-0d43-4cfb-e288-ad1c04b28db6"
      },
      "execution_count": null,
      "outputs": [
        {
          "output_type": "execute_result",
          "data": {
            "text/plain": [
              "float"
            ]
          },
          "metadata": {},
          "execution_count": 74
        }
      ]
    },
    {
      "cell_type": "code",
      "source": [
        "# a 의 타입을 정수형으로 변환하고 이를 다시 a에 저장해줌\n",
        "a = int(a)\n",
        "type(a)"
      ],
      "metadata": {
        "colab": {
          "base_uri": "https://localhost:8080/"
        },
        "id": "pluU5DS4XhIC",
        "outputId": "70d1252c-e366-4f50-8e9d-f3843257805e"
      },
      "execution_count": null,
      "outputs": [
        {
          "output_type": "execute_result",
          "data": {
            "text/plain": [
              "int"
            ]
          },
          "metadata": {},
          "execution_count": 75
        }
      ]
    },
    {
      "cell_type": "code",
      "source": [
        "# 실수형에서 정수형으로 변환이 이러나는 경우 소수점 아래 자리를 버림\n",
        "# 따라서, 3.9999 경우 3 으로 변환됨.\n",
        "print(a)"
      ],
      "metadata": {
        "colab": {
          "base_uri": "https://localhost:8080/"
        },
        "id": "P7u-7bZYXkK1",
        "outputId": "f9e21d2a-ac86-4bb3-b825-b39dda0b3290"
      },
      "execution_count": null,
      "outputs": [
        {
          "output_type": "stream",
          "name": "stdout",
          "text": [
            "3\n"
          ]
        }
      ]
    },
    {
      "cell_type": "code",
      "source": [
        "# 반올림을 하고 싶은 경우는 round()를 활용하여 해당 숫자를 반올림할 수 있다. \n",
        "a = 3.9999\n",
        "a = round(a)\n",
        "print(a)"
      ],
      "metadata": {
        "colab": {
          "base_uri": "https://localhost:8080/"
        },
        "id": "jekhoXEQXqCH",
        "outputId": "5e0111ec-6ee0-4cb5-fad5-235b638a4321"
      },
      "execution_count": null,
      "outputs": [
        {
          "output_type": "stream",
          "name": "stdout",
          "text": [
            "4\n"
          ]
        }
      ]
    },
    {
      "cell_type": "markdown",
      "source": [
        "### 4-4 문자열의 정수형/실수형 변환 "
      ],
      "metadata": {
        "id": "c9-p3sTvYH65"
      }
    },
    {
      "cell_type": "code",
      "source": [
        "# 변수 a 에 '1234' 라는 숫자만 포함하고 있는 문자열 생성\n",
        "a = '1234'\n",
        "\n",
        "# 현재 a 의 유형은 문자열임을 확인\n",
        "type(a)"
      ],
      "metadata": {
        "colab": {
          "base_uri": "https://localhost:8080/"
        },
        "id": "gzLugweEX57J",
        "outputId": "8432e6dc-123b-47e6-b533-9dc7d82aaa2a"
      },
      "execution_count": null,
      "outputs": [
        {
          "output_type": "execute_result",
          "data": {
            "text/plain": [
              "str"
            ]
          },
          "metadata": {},
          "execution_count": 78
        }
      ]
    },
    {
      "cell_type": "code",
      "source": [
        "# 변수 a 는 숫자만 포함하고 있음으로 이를 정수형으로 변환하여 a_int 라는 변수에 저장\n",
        "a_int = int(a)\n",
        "\n",
        "# a_int의 타입이 정수혐임을 확인\n",
        "type(a_int)"
      ],
      "metadata": {
        "colab": {
          "base_uri": "https://localhost:8080/"
        },
        "id": "V9Aa2d_1YZ4y",
        "outputId": "450653ed-6c00-4f7a-fca4-9b5da3cba7fb"
      },
      "execution_count": null,
      "outputs": [
        {
          "output_type": "execute_result",
          "data": {
            "text/plain": [
              "int"
            ]
          },
          "metadata": {},
          "execution_count": 79
        }
      ]
    },
    {
      "cell_type": "code",
      "source": [
        "# 변수 a 는 숫자만 포함하고 있음으로 이를 실수형으로 변환하여 a_float 라는 변수에 저장\n",
        "a_float = float(a)\n",
        "\n",
        "# a_int의 타입이 실수형임을 확인\n",
        "type(a_float)"
      ],
      "metadata": {
        "colab": {
          "base_uri": "https://localhost:8080/"
        },
        "id": "ehdLfHn8YrB-",
        "outputId": "51259de9-916d-4bf5-d698-6fe89790da71"
      },
      "execution_count": null,
      "outputs": [
        {
          "output_type": "execute_result",
          "data": {
            "text/plain": [
              "float"
            ]
          },
          "metadata": {},
          "execution_count": 82
        }
      ]
    },
    {
      "cell_type": "code",
      "source": [
        "# 변수 a 에 'student' 라는 문자를 포함하고 있는 문자열 생성\n",
        "a = 'student'\n",
        "\n",
        "# 현재 a 의 유형은 문자열임을 확인\n",
        "type(a)"
      ],
      "metadata": {
        "colab": {
          "base_uri": "https://localhost:8080/"
        },
        "id": "zQ60-HAOYv_L",
        "outputId": "7874727a-3873-4844-ea73-b27d9bb53b47"
      },
      "execution_count": null,
      "outputs": [
        {
          "output_type": "execute_result",
          "data": {
            "text/plain": [
              "str"
            ]
          },
          "metadata": {},
          "execution_count": 83
        }
      ]
    },
    {
      "cell_type": "code",
      "source": [
        "# 문자를 가지고 있는 문자열은 정수형/실수형으로 변경할시 에러 발생\n",
        "# ValueError: 프로그래밍 과정에서 지정된 값이 잘못된 경우 발생 \n",
        "# 에러 내용: 'student'라는 문자열 변수를 10진법의 정수형으로 변경할 수 없다.\n",
        "int(a)"
      ],
      "metadata": {
        "colab": {
          "base_uri": "https://localhost:8080/",
          "height": 174
        },
        "id": "SzajnAKcY3DQ",
        "outputId": "9bcee479-181e-4953-a670-bffde72aa47d"
      },
      "execution_count": null,
      "outputs": [
        {
          "output_type": "error",
          "ename": "ValueError",
          "evalue": "ignored",
          "traceback": [
            "\u001b[0;31m---------------------------------------------------------------------------\u001b[0m",
            "\u001b[0;31mValueError\u001b[0m                                Traceback (most recent call last)",
            "\u001b[0;32m<ipython-input-84-8b2ab3991dae>\u001b[0m in \u001b[0;36m<module>\u001b[0;34m()\u001b[0m\n\u001b[0;32m----> 1\u001b[0;31m \u001b[0mint\u001b[0m\u001b[0;34m(\u001b[0m\u001b[0ma\u001b[0m\u001b[0;34m)\u001b[0m\u001b[0;34m\u001b[0m\u001b[0;34m\u001b[0m\u001b[0m\n\u001b[0m",
            "\u001b[0;31mValueError\u001b[0m: invalid literal for int() with base 10: 'student'"
          ]
        }
      ]
    },
    {
      "cell_type": "markdown",
      "source": [
        "### 4-5 Casting 활용 이해하기 [ input() ]"
      ],
      "metadata": {
        "id": "-pOuyR8hZsLn"
      }
    },
    {
      "cell_type": "code",
      "source": [
        "# input() 을 통해 사용자의 입력 값을 지정된 변수에 저장할 수 있다.\n",
        "my_height = input(\"당신의 키를 입력해주세요. \")"
      ],
      "metadata": {
        "colab": {
          "base_uri": "https://localhost:8080/"
        },
        "id": "8Wovluh-Y7gC",
        "outputId": "cbc313df-7753-4344-bd27-35c896e1bdbf"
      },
      "execution_count": null,
      "outputs": [
        {
          "name": "stdout",
          "output_type": "stream",
          "text": [
            "당신의 키를 입력해주세요. 173\n"
          ]
        }
      ]
    },
    {
      "cell_type": "code",
      "source": [
        "# 위에서 input()을 통해 입력받은 값을 my_height라는 변수에 저장하고 이를 출력함\n",
        "print(my_height)"
      ],
      "metadata": {
        "colab": {
          "base_uri": "https://localhost:8080/"
        },
        "id": "zI4V-bCxaEIW",
        "outputId": "96c002f8-1cdc-4b6f-88a2-e6852ce1ce21"
      },
      "execution_count": null,
      "outputs": [
        {
          "output_type": "stream",
          "name": "stdout",
          "text": [
            "173\n"
          ]
        }
      ]
    },
    {
      "cell_type": "code",
      "source": [
        "# input()으로 입력받은 값은 숫자든 문자든 문자열로 취급함\n",
        "# 따라서, 추후 키를 더하거나 곱하거나 하는 숫자로 활용하고 싶은 경우, casting을 통하여 정수형/실수형 등으로 변경해줘야함\n",
        "type(my_height)"
      ],
      "metadata": {
        "colab": {
          "base_uri": "https://localhost:8080/"
        },
        "id": "zQ1bTpLxaHaL",
        "outputId": "a02c1b57-a996-415f-a079-c852ff2b6c5b"
      },
      "execution_count": null,
      "outputs": [
        {
          "output_type": "execute_result",
          "data": {
            "text/plain": [
              "str"
            ]
          },
          "metadata": {},
          "execution_count": 87
        }
      ]
    },
    {
      "cell_type": "markdown",
      "source": [
        "#### 실습04: 입력받은 두 값을 더하는 계산기 프로그래밍 짜보기.\n",
        "\n",
        "단계별 실습\n",
        "1. input()을 통해 첫번째 입력받을 숫자를 변수 a 에 저장하기.\n",
        "2. input()을 통해 두번째 입력받을 숫자를 변수 b 에 저장하기.\n",
        "3. a,b를 각각 정수형으로 변환하여 a,b에 다시 저장하기.\n",
        "4. 정수형으로 변환된 a와 b를 더하여 새로운 변수 c 에 저장하기.\n",
        "5. 최종적으로 결과 c 출력하기."
      ],
      "metadata": {
        "id": "fdA-4_GxazMu"
      }
    },
    {
      "cell_type": "code",
      "source": [
        ""
      ],
      "metadata": {
        "id": "QwIr7JkxszX6"
      },
      "execution_count": null,
      "outputs": []
    },
    {
      "cell_type": "markdown",
      "source": [
        "## Chapter 5. 연산자"
      ],
      "metadata": {
        "id": "5gLEF3dggvtR"
      }
    },
    {
      "cell_type": "markdown",
      "source": [
        "### 5-1 산술 연산자"
      ],
      "metadata": {
        "id": "CobDSZHNg6F_"
      }
    },
    {
      "cell_type": "code",
      "source": [
        "3 + 5"
      ],
      "metadata": {
        "colab": {
          "base_uri": "https://localhost:8080/"
        },
        "id": "NLwPRqTqg8kk",
        "outputId": "c976fd52-9bcb-4775-c89f-98f81bbc2018"
      },
      "execution_count": null,
      "outputs": [
        {
          "output_type": "execute_result",
          "data": {
            "text/plain": [
              "8"
            ]
          },
          "metadata": {},
          "execution_count": 122
        }
      ]
    },
    {
      "cell_type": "code",
      "source": [
        "5 - 2"
      ],
      "metadata": {
        "colab": {
          "base_uri": "https://localhost:8080/"
        },
        "id": "w4CrWaVdhB11",
        "outputId": "fb0a9e80-30e3-457c-bd6a-c9d51262b67b"
      },
      "execution_count": null,
      "outputs": [
        {
          "output_type": "execute_result",
          "data": {
            "text/plain": [
              "3"
            ]
          },
          "metadata": {},
          "execution_count": 125
        }
      ]
    },
    {
      "cell_type": "code",
      "source": [
        "3 * 5"
      ],
      "metadata": {
        "colab": {
          "base_uri": "https://localhost:8080/"
        },
        "id": "r-DVPDOzg8ib",
        "outputId": "5366c456-acbd-49f9-ffaf-cd45424bec61"
      },
      "execution_count": null,
      "outputs": [
        {
          "output_type": "execute_result",
          "data": {
            "text/plain": [
              "15"
            ]
          },
          "metadata": {},
          "execution_count": 123
        }
      ]
    },
    {
      "cell_type": "code",
      "source": [
        "# 3의 4승 \n",
        "3 ** 4"
      ],
      "metadata": {
        "colab": {
          "base_uri": "https://localhost:8080/"
        },
        "id": "o8kQUqWCg8cA",
        "outputId": "ca018b9a-5c80-425e-e16e-a2b607def4a0"
      },
      "execution_count": null,
      "outputs": [
        {
          "output_type": "execute_result",
          "data": {
            "text/plain": [
              "81"
            ]
          },
          "metadata": {},
          "execution_count": 126
        }
      ]
    },
    {
      "cell_type": "markdown",
      "source": [
        "<img src=\"https://img.hani.co.kr/imgdb/resize/2007/0423/04088596_20070423.JPG\">"
      ],
      "metadata": {
        "id": "en1fO1Sih56F"
      }
    },
    {
      "cell_type": "code",
      "source": [
        "# 딱 나누어 떨어지지 않으면 소수점으로 나눔\n",
        "74 / 3"
      ],
      "metadata": {
        "colab": {
          "base_uri": "https://localhost:8080/"
        },
        "id": "BImzEX23g8fA",
        "outputId": "844b7782-99e9-427e-df17-ebb1d6b6d1f7"
      },
      "execution_count": null,
      "outputs": [
        {
          "output_type": "execute_result",
          "data": {
            "text/plain": [
              "24.666666666666668"
            ]
          },
          "metadata": {},
          "execution_count": 131
        }
      ]
    },
    {
      "cell_type": "code",
      "source": [
        "# 소수점 전까지 나눔\n",
        "74 // 3"
      ],
      "metadata": {
        "colab": {
          "base_uri": "https://localhost:8080/"
        },
        "id": "ixmHbZ0_hS_I",
        "outputId": "d26e602f-311f-4755-984b-57ee175144a6"
      },
      "execution_count": null,
      "outputs": [
        {
          "output_type": "execute_result",
          "data": {
            "text/plain": [
              "24"
            ]
          },
          "metadata": {},
          "execution_count": 134
        }
      ]
    },
    {
      "cell_type": "code",
      "source": [
        "# 나눈 후 나머지 값\n",
        "74 % 3"
      ],
      "metadata": {
        "colab": {
          "base_uri": "https://localhost:8080/"
        },
        "id": "byFhUK1IhS8D",
        "outputId": "0925c5c1-4619-45ea-f390-91abeed7e934"
      },
      "execution_count": null,
      "outputs": [
        {
          "output_type": "execute_result",
          "data": {
            "text/plain": [
              "2"
            ]
          },
          "metadata": {},
          "execution_count": 133
        }
      ]
    },
    {
      "cell_type": "markdown",
      "source": [
        "### 5-2 할당 연산자"
      ],
      "metadata": {
        "id": "mvfGo2Goipb9"
      }
    },
    {
      "cell_type": "code",
      "source": [
        "a = 1"
      ],
      "metadata": {
        "id": "trqW_u4Aio3U"
      },
      "execution_count": null,
      "outputs": []
    },
    {
      "cell_type": "code",
      "source": [
        "# a = a + 1 과 동일\n",
        "a += 1\n",
        "print(a)"
      ],
      "metadata": {
        "colab": {
          "base_uri": "https://localhost:8080/"
        },
        "id": "MYRddT0PiupF",
        "outputId": "6af3fc86-a632-4a27-8781-eb09f795fe5b"
      },
      "execution_count": null,
      "outputs": [
        {
          "output_type": "stream",
          "name": "stdout",
          "text": [
            "2\n"
          ]
        }
      ]
    },
    {
      "cell_type": "code",
      "source": [
        "# a = a - 1 과 동일\n",
        "a -= 1\n",
        "print(a)"
      ],
      "metadata": {
        "colab": {
          "base_uri": "https://localhost:8080/"
        },
        "id": "-K4C7-ixiulu",
        "outputId": "700545d5-220c-4738-81a4-a80d4958cbd8"
      },
      "execution_count": null,
      "outputs": [
        {
          "output_type": "stream",
          "name": "stdout",
          "text": [
            "1\n"
          ]
        }
      ]
    },
    {
      "cell_type": "markdown",
      "source": [
        "### 5-3 비교 연산자"
      ],
      "metadata": {
        "id": "zbRhcwPJi9V-"
      }
    },
    {
      "cell_type": "code",
      "source": [
        "1 > 2"
      ],
      "metadata": {
        "colab": {
          "base_uri": "https://localhost:8080/"
        },
        "id": "EZ7-1JMdi8xy",
        "outputId": "bbc60724-9ea9-420f-b765-ceb6923fcaf7"
      },
      "execution_count": null,
      "outputs": [
        {
          "output_type": "execute_result",
          "data": {
            "text/plain": [
              "False"
            ]
          },
          "metadata": {},
          "execution_count": 141
        }
      ]
    },
    {
      "cell_type": "code",
      "source": [
        "1 >= 2"
      ],
      "metadata": {
        "colab": {
          "base_uri": "https://localhost:8080/"
        },
        "id": "Pvc0PWwdjKiX",
        "outputId": "8d5f4e70-1578-4cc5-fc04-d9834984120f"
      },
      "execution_count": null,
      "outputs": [
        {
          "output_type": "execute_result",
          "data": {
            "text/plain": [
              "False"
            ]
          },
          "metadata": {},
          "execution_count": 147
        }
      ]
    },
    {
      "cell_type": "code",
      "source": [
        "1 <  2"
      ],
      "metadata": {
        "colab": {
          "base_uri": "https://localhost:8080/"
        },
        "id": "Y4EmpHieiuhc",
        "outputId": "0187d422-bd3d-462d-a49d-1733d995b11d"
      },
      "execution_count": null,
      "outputs": [
        {
          "output_type": "execute_result",
          "data": {
            "text/plain": [
              "True"
            ]
          },
          "metadata": {},
          "execution_count": 142
        }
      ]
    },
    {
      "cell_type": "code",
      "source": [
        "1 <= 2"
      ],
      "metadata": {
        "colab": {
          "base_uri": "https://localhost:8080/"
        },
        "id": "tpCRl38UjEbI",
        "outputId": "f2238e56-3b2e-463a-a163-35dcbd90b404"
      },
      "execution_count": null,
      "outputs": [
        {
          "output_type": "execute_result",
          "data": {
            "text/plain": [
              "True"
            ]
          },
          "metadata": {},
          "execution_count": 146
        }
      ]
    },
    {
      "cell_type": "code",
      "source": [
        "1 == 2"
      ],
      "metadata": {
        "colab": {
          "base_uri": "https://localhost:8080/"
        },
        "id": "2PVib6oziuel",
        "outputId": "0ac5f820-98b8-4392-c558-22bb5b1e8af6"
      },
      "execution_count": null,
      "outputs": [
        {
          "output_type": "execute_result",
          "data": {
            "text/plain": [
              "False"
            ]
          },
          "metadata": {},
          "execution_count": 143
        }
      ]
    },
    {
      "cell_type": "code",
      "source": [
        "1 != 2"
      ],
      "metadata": {
        "colab": {
          "base_uri": "https://localhost:8080/"
        },
        "id": "HaLDeuFCjEdQ",
        "outputId": "e387cf42-98a4-4c19-f3cb-76ca20a8e675"
      },
      "execution_count": null,
      "outputs": [
        {
          "output_type": "execute_result",
          "data": {
            "text/plain": [
              "True"
            ]
          },
          "metadata": {},
          "execution_count": 144
        }
      ]
    },
    {
      "cell_type": "markdown",
      "source": [
        "### 5-3 논리 연산자"
      ],
      "metadata": {
        "id": "WxqCF4vnjUMa"
      }
    },
    {
      "cell_type": "code",
      "source": [
        "x = 10\n",
        "\n",
        "# 동시에 만족하여야 함\n",
        "x > 1 and x < 5 "
      ],
      "metadata": {
        "colab": {
          "base_uri": "https://localhost:8080/"
        },
        "id": "NXAsCZ11jTao",
        "outputId": "eeeb1a83-23e9-4f56-adeb-5447aff2ff62"
      },
      "execution_count": null,
      "outputs": [
        {
          "output_type": "execute_result",
          "data": {
            "text/plain": [
              "False"
            ]
          },
          "metadata": {},
          "execution_count": 148
        }
      ]
    },
    {
      "cell_type": "code",
      "source": [
        "x = 10\n",
        "\n",
        "# 하나만 만족해도 됨\n",
        "x > 1 or x < 5 "
      ],
      "metadata": {
        "colab": {
          "base_uri": "https://localhost:8080/"
        },
        "id": "9Dwk2CU5jEYL",
        "outputId": "eeb6179b-faf5-4966-9360-201d98cf4d1a"
      },
      "execution_count": null,
      "outputs": [
        {
          "output_type": "execute_result",
          "data": {
            "text/plain": [
              "True"
            ]
          },
          "metadata": {},
          "execution_count": 149
        }
      ]
    },
    {
      "cell_type": "markdown",
      "source": [
        "## Chapter 6. 문자열 다루기"
      ],
      "metadata": {
        "id": "0q70QfUCkht1"
      }
    },
    {
      "cell_type": "markdown",
      "source": [
        "### 6-1 문자열 인덱싱 (Indexing) [ len() ]"
      ],
      "metadata": {
        "id": "UKUiPzY6krCv"
      }
    },
    {
      "cell_type": "code",
      "source": [
        "sentence = \"I am a student.\""
      ],
      "metadata": {
        "id": "kI2z_8dvkyLm"
      },
      "execution_count": null,
      "outputs": []
    },
    {
      "cell_type": "code",
      "source": [
        "# 파이썬의 시작은 0 부터 시작\n",
        "sentence[0]"
      ],
      "metadata": {
        "colab": {
          "base_uri": "https://localhost:8080/",
          "height": 35
        },
        "id": "F7B9fslPkyJT",
        "outputId": "b82bce8e-b0a9-47f1-9af4-a4f367f596d9"
      },
      "execution_count": null,
      "outputs": [
        {
          "output_type": "execute_result",
          "data": {
            "text/plain": [
              "'I'"
            ],
            "application/vnd.google.colaboratory.intrinsic+json": {
              "type": "string"
            }
          },
          "metadata": {},
          "execution_count": 151
        }
      ]
    },
    {
      "cell_type": "code",
      "source": [
        "# 파이썬에서 마지막은 -1 부터 시작 \n",
        "sentence[-1]"
      ],
      "metadata": {
        "colab": {
          "base_uri": "https://localhost:8080/",
          "height": 35
        },
        "id": "jXanEiGYkyGL",
        "outputId": "71cd985d-1c05-4026-a3fd-cf54f6350421"
      },
      "execution_count": null,
      "outputs": [
        {
          "output_type": "execute_result",
          "data": {
            "text/plain": [
              "'.'"
            ],
            "application/vnd.google.colaboratory.intrinsic+json": {
              "type": "string"
            }
          },
          "metadata": {},
          "execution_count": 153
        }
      ]
    },
    {
      "cell_type": "code",
      "source": [
        "# 띄여쓰기, 공백도 문자로 포함 \n",
        "sentence[1]"
      ],
      "metadata": {
        "colab": {
          "base_uri": "https://localhost:8080/",
          "height": 35
        },
        "id": "KBzg7dQekyDW",
        "outputId": "cc4e0e45-7dea-4a8f-d0b0-c78a8c041b10"
      },
      "execution_count": null,
      "outputs": [
        {
          "output_type": "execute_result",
          "data": {
            "text/plain": [
              "' '"
            ],
            "application/vnd.google.colaboratory.intrinsic+json": {
              "type": "string"
            }
          },
          "metadata": {},
          "execution_count": 154
        }
      ]
    },
    {
      "cell_type": "code",
      "source": [
        "# 문자열 전체 길이 확인하기\n",
        "len(sentence)"
      ],
      "metadata": {
        "colab": {
          "base_uri": "https://localhost:8080/"
        },
        "id": "0taQMGy9kyAZ",
        "outputId": "dbe9ec06-fcb9-425c-dcb5-74caa4f3e11d"
      },
      "execution_count": null,
      "outputs": [
        {
          "output_type": "execute_result",
          "data": {
            "text/plain": [
              "15"
            ]
          },
          "metadata": {},
          "execution_count": 155
        }
      ]
    },
    {
      "cell_type": "markdown",
      "source": [
        "### 6-2 문자열 슬라이싱 (Slicing)"
      ],
      "metadata": {
        "id": "vJew0z-alNi8"
      }
    },
    {
      "cell_type": "code",
      "source": [
        "# 첫번째부터 다섯번째 까지 (다섯번째 포함 안됨)\n",
        "sentence[0:5]"
      ],
      "metadata": {
        "colab": {
          "base_uri": "https://localhost:8080/",
          "height": 35
        },
        "id": "zGXk6-2flMN1",
        "outputId": "2a4d6d0f-2991-4ac2-f214-8858a63be8e4"
      },
      "execution_count": null,
      "outputs": [
        {
          "output_type": "execute_result",
          "data": {
            "text/plain": [
              "'I am '"
            ],
            "application/vnd.google.colaboratory.intrinsic+json": {
              "type": "string"
            }
          },
          "metadata": {},
          "execution_count": 157
        }
      ]
    },
    {
      "cell_type": "code",
      "source": [
        "# 0 인 경우는 생략 가능\n",
        "sentence[:5]"
      ],
      "metadata": {
        "colab": {
          "base_uri": "https://localhost:8080/",
          "height": 35
        },
        "id": "cn1COE8Mkx9V",
        "outputId": "52b9b0bf-7a24-4109-c34e-741882860e53"
      },
      "execution_count": null,
      "outputs": [
        {
          "output_type": "execute_result",
          "data": {
            "text/plain": [
              "'I am '"
            ],
            "application/vnd.google.colaboratory.intrinsic+json": {
              "type": "string"
            }
          },
          "metadata": {},
          "execution_count": 158
        }
      ]
    },
    {
      "cell_type": "code",
      "source": [
        "# 다섯번째 부터 마지막까지 (마지막 포함 안됨)\n",
        "sentence[5:-1]"
      ],
      "metadata": {
        "colab": {
          "base_uri": "https://localhost:8080/",
          "height": 35
        },
        "id": "u4QpFKRMlj2A",
        "outputId": "33f027a9-f26d-4014-e732-5b2f11a75eb5"
      },
      "execution_count": null,
      "outputs": [
        {
          "output_type": "execute_result",
          "data": {
            "text/plain": [
              "'a student'"
            ],
            "application/vnd.google.colaboratory.intrinsic+json": {
              "type": "string"
            }
          },
          "metadata": {},
          "execution_count": 159
        }
      ]
    },
    {
      "cell_type": "code",
      "source": [
        "# 끝 번호 생략시 끝까지 진행\n",
        "sentence[5:]"
      ],
      "metadata": {
        "colab": {
          "base_uri": "https://localhost:8080/",
          "height": 35
        },
        "id": "618ON8valjyr",
        "outputId": "e220240a-5043-4894-931a-17a27540f013"
      },
      "execution_count": null,
      "outputs": [
        {
          "output_type": "execute_result",
          "data": {
            "text/plain": [
              "'a student.'"
            ],
            "application/vnd.google.colaboratory.intrinsic+json": {
              "type": "string"
            }
          },
          "metadata": {},
          "execution_count": 160
        }
      ]
    },
    {
      "cell_type": "markdown",
      "source": [
        "### 6-3 문자열 합치기 (Concatenation)"
      ],
      "metadata": {
        "id": "MyLKNNrlm3uh"
      }
    },
    {
      "cell_type": "code",
      "source": [
        "first_word = \"Hello\"\n",
        "second_word = \"World!\""
      ],
      "metadata": {
        "id": "obJaRzaYm1xt"
      },
      "execution_count": null,
      "outputs": []
    },
    {
      "cell_type": "code",
      "source": [
        "first_word + second_word"
      ],
      "metadata": {
        "colab": {
          "base_uri": "https://localhost:8080/",
          "height": 35
        },
        "id": "AOjQjOIHnEKq",
        "outputId": "99dbeb11-429d-4431-896e-4cdd089a7356"
      },
      "execution_count": null,
      "outputs": [
        {
          "output_type": "execute_result",
          "data": {
            "text/plain": [
              "'HelloWorld!'"
            ],
            "application/vnd.google.colaboratory.intrinsic+json": {
              "type": "string"
            }
          },
          "metadata": {},
          "execution_count": 166
        }
      ]
    },
    {
      "cell_type": "markdown",
      "source": [
        "#### 실습05: 앞선 \"Hello\" 와 \"World!\"를 중간에 띄여쓰기를 추가하여 문장으로 합치기"
      ],
      "metadata": {
        "id": "PLD1MfLjnMdZ"
      }
    },
    {
      "cell_type": "code",
      "source": [
        ""
      ],
      "metadata": {
        "id": "KqI48ex3nKYY"
      },
      "execution_count": null,
      "outputs": []
    },
    {
      "cell_type": "markdown",
      "source": [
        "### 6-4 문자열 수정 [ .upper() .lower() .replace() ]"
      ],
      "metadata": {
        "id": "RELJFC2fl7NS"
      }
    },
    {
      "cell_type": "code",
      "source": [
        "sentence.upper()"
      ],
      "metadata": {
        "colab": {
          "base_uri": "https://localhost:8080/",
          "height": 35
        },
        "id": "nR4Rg4lWl6KX",
        "outputId": "b11091af-87c8-429f-af59-ef1f6ac41b43"
      },
      "execution_count": null,
      "outputs": [
        {
          "output_type": "execute_result",
          "data": {
            "text/plain": [
              "'I AM A STUDENT.'"
            ],
            "application/vnd.google.colaboratory.intrinsic+json": {
              "type": "string"
            }
          },
          "metadata": {},
          "execution_count": 161
        }
      ]
    },
    {
      "cell_type": "code",
      "source": [
        "sentence.lower()"
      ],
      "metadata": {
        "colab": {
          "base_uri": "https://localhost:8080/",
          "height": 35
        },
        "id": "rhBC5gyflju5",
        "outputId": "ae8f7364-5235-413f-ddba-49352582bbb2"
      },
      "execution_count": null,
      "outputs": [
        {
          "output_type": "execute_result",
          "data": {
            "text/plain": [
              "'i am a student.'"
            ],
            "application/vnd.google.colaboratory.intrinsic+json": {
              "type": "string"
            }
          },
          "metadata": {},
          "execution_count": 162
        }
      ]
    },
    {
      "cell_type": "code",
      "source": [
        "sentence.replace('.','!')"
      ],
      "metadata": {
        "colab": {
          "base_uri": "https://localhost:8080/",
          "height": 35
        },
        "id": "Cjy0-ZNkljrY",
        "outputId": "066011da-fc4d-4671-e4a6-e283652ff85d"
      },
      "execution_count": null,
      "outputs": [
        {
          "output_type": "execute_result",
          "data": {
            "text/plain": [
              "'I am a student!'"
            ],
            "application/vnd.google.colaboratory.intrinsic+json": {
              "type": "string"
            }
          },
          "metadata": {},
          "execution_count": 163
        }
      ]
    },
    {
      "cell_type": "markdown",
      "source": [
        "#### 실습06: 문장 첫 글자만 대문자로 변환하기."
      ],
      "metadata": {
        "id": "DIDUdXLCmOXh"
      }
    },
    {
      "cell_type": "code",
      "source": [
        "# 해당 문장의 첫글자를 대문자로 변환하기.\n",
        "sentence = 'i go to school.'"
      ],
      "metadata": {
        "id": "2o4kfzfnmN5o"
      },
      "execution_count": null,
      "outputs": []
    },
    {
      "cell_type": "code",
      "source": [
        ""
      ],
      "metadata": {
        "id": "EEcQHcsamN2u"
      },
      "execution_count": null,
      "outputs": []
    },
    {
      "cell_type": "markdown",
      "source": [
        "## Chapter 7. 데이터 유형 02"
      ],
      "metadata": {
        "id": "Ag7mxpk8boit"
      }
    },
    {
      "cell_type": "markdown",
      "source": [
        "### 7-1 리스트 타입 (List)"
      ],
      "metadata": {
        "id": "K7EKJQU3buFi"
      }
    },
    {
      "cell_type": "code",
      "source": [
        "my_list = []\n",
        "my_list1 = list((1, 2, 3, 4, 5, 6))\n",
        "my_list2 = list(['a', 'b', 'c', 'd', 'e'])\n",
        "my_list3 = [1, 'abc', '124', 3.1245, '나는 학생입니다.']"
      ],
      "metadata": {
        "id": "1inZ02g9aP6T"
      },
      "execution_count": null,
      "outputs": []
    },
    {
      "cell_type": "code",
      "source": [
        "type(my_list)"
      ],
      "metadata": {
        "colab": {
          "base_uri": "https://localhost:8080/"
        },
        "id": "OzMn-wdocUyV",
        "outputId": "4ab1386f-9886-4a02-8c13-7c6a3f87223a"
      },
      "execution_count": null,
      "outputs": [
        {
          "output_type": "execute_result",
          "data": {
            "text/plain": [
              "list"
            ]
          },
          "metadata": {},
          "execution_count": 8
        }
      ]
    },
    {
      "cell_type": "code",
      "source": [
        "type(my_list1)"
      ],
      "metadata": {
        "colab": {
          "base_uri": "https://localhost:8080/"
        },
        "id": "ELx64CeZmR6T",
        "outputId": "4d2d7736-25ec-4e2f-9875-120cb66a3488"
      },
      "execution_count": null,
      "outputs": [
        {
          "output_type": "execute_result",
          "data": {
            "text/plain": [
              "list"
            ]
          },
          "metadata": {},
          "execution_count": 6
        }
      ]
    },
    {
      "cell_type": "code",
      "source": [
        "type(my_list2)"
      ],
      "metadata": {
        "colab": {
          "base_uri": "https://localhost:8080/"
        },
        "id": "oSravgZZmW9S",
        "outputId": "4f918d54-9d9a-4d3d-e994-299b44d3a23b"
      },
      "execution_count": null,
      "outputs": [
        {
          "output_type": "execute_result",
          "data": {
            "text/plain": [
              "list"
            ]
          },
          "metadata": {},
          "execution_count": 9
        }
      ]
    },
    {
      "cell_type": "markdown",
      "source": [
        "### 7-2 튜플 타입 (Tuple)"
      ],
      "metadata": {
        "id": "DPdjg2hkcghN"
      }
    },
    {
      "cell_type": "markdown",
      "source": [
        "리스트와 튜플의 차이:\n",
        "리스트는 수정이 가능하지만, 튜플은 수정할 수 없음."
      ],
      "metadata": {
        "id": "qPpmKiwrc1Rr"
      }
    },
    {
      "cell_type": "code",
      "source": [
        "my_tuple = ()\n",
        "my_tuple1 = tuple((1,2,3,4))\n",
        "my_tuple2 = ('a', 'b', 'c')\n",
        "my_tuple3 = (1, 3.14, 'abc')"
      ],
      "metadata": {
        "id": "qx3hTCI0cJ56"
      },
      "execution_count": null,
      "outputs": []
    },
    {
      "cell_type": "code",
      "source": [
        "type(my_tuple)"
      ],
      "metadata": {
        "colab": {
          "base_uri": "https://localhost:8080/"
        },
        "id": "fAamUIHDcm0t",
        "outputId": "e41fd43c-cad3-4ced-8984-92c480dcc93f"
      },
      "execution_count": null,
      "outputs": [
        {
          "output_type": "execute_result",
          "data": {
            "text/plain": [
              "tuple"
            ]
          },
          "metadata": {},
          "execution_count": 99
        }
      ]
    },
    {
      "cell_type": "markdown",
      "source": [
        "### 7-3 레인지 타입 (Range)"
      ],
      "metadata": {
        "id": "YxjjLdwYc8qD"
      }
    },
    {
      "cell_type": "markdown",
      "source": [
        "파이썬의 시작은 0 부터 시작 <br>\n",
        "range(4) = 0 부터 4 까지 = 리스트 [0, 1, 2, 3 ] 처럼 생각 <br>\n",
        "range(1,5) = 1 부터 5 까지 = 리스트 [1, 2, 3, 4 ] 처럼 생각 <br>\n",
        "range(1, 5, 2) = 1 부터 5 까지 2씩 건너뛰며 = 리스트 [1, 3] 처럼 생각 "
      ],
      "metadata": {
        "id": "v7wpJrVgdKTH"
      }
    },
    {
      "cell_type": "code",
      "source": [
        "my_range = range(4)\n",
        "my_range1 = range(1,5)\n",
        "my_range2 = range(1, 5, 2)"
      ],
      "metadata": {
        "id": "CYzjYW0wcvhR"
      },
      "execution_count": null,
      "outputs": []
    },
    {
      "cell_type": "code",
      "source": [
        "type(my_range)"
      ],
      "metadata": {
        "colab": {
          "base_uri": "https://localhost:8080/"
        },
        "id": "3vICwV3IdvbE",
        "outputId": "791e0100-240a-4732-a47d-fb0915e2f695"
      },
      "execution_count": null,
      "outputs": [
        {
          "output_type": "execute_result",
          "data": {
            "text/plain": [
              "range"
            ]
          },
          "metadata": {},
          "execution_count": 104
        }
      ]
    },
    {
      "cell_type": "markdown",
      "source": [
        "### 7-4 셋 타입 (Set)"
      ],
      "metadata": {
        "id": "0pZVXMOqeTSv"
      }
    },
    {
      "cell_type": "markdown",
      "source": [
        "셋과 리스트의 차이: 셋은 중복 값을 갖지 않는다."
      ],
      "metadata": {
        "id": "P-vqRPUIeY-T"
      }
    },
    {
      "cell_type": "code",
      "source": [
        "my_set1 = {1,2,3,4}\n",
        "my_set2 = {1,2,3,4,1,2,3}\n",
        "my_set = set((1,2,3,4))"
      ],
      "metadata": {
        "id": "zkpl6Dqnd8tM"
      },
      "execution_count": null,
      "outputs": []
    },
    {
      "cell_type": "code",
      "source": [
        "type(my_set1)"
      ],
      "metadata": {
        "colab": {
          "base_uri": "https://localhost:8080/"
        },
        "id": "S_DK3xkwev5m",
        "outputId": "164e473c-8380-4eb8-a9e4-68fa3a29ed03"
      },
      "execution_count": null,
      "outputs": [
        {
          "output_type": "execute_result",
          "data": {
            "text/plain": [
              "set"
            ]
          },
          "metadata": {},
          "execution_count": 107
        }
      ]
    },
    {
      "cell_type": "code",
      "source": [
        "print(my_set1)"
      ],
      "metadata": {
        "colab": {
          "base_uri": "https://localhost:8080/"
        },
        "id": "Rj3iHyw1exO3",
        "outputId": "c8280a6a-9655-4fa9-d12f-d5ae3a8a6d6b"
      },
      "execution_count": null,
      "outputs": [
        {
          "output_type": "stream",
          "name": "stdout",
          "text": [
            "{1, 2, 3, 4}\n"
          ]
        }
      ]
    },
    {
      "cell_type": "code",
      "source": [
        "# my_set1는 1,2,3,4,1,2,3 이지만, 1,2,3은 중복임으로 제거됨\n",
        "print(my_set2)"
      ],
      "metadata": {
        "colab": {
          "base_uri": "https://localhost:8080/"
        },
        "id": "SRFsv3TUe27W",
        "outputId": "ba3168e3-366d-4c03-b715-39c9deecdce6"
      },
      "execution_count": null,
      "outputs": [
        {
          "output_type": "stream",
          "name": "stdout",
          "text": [
            "{1, 2, 3, 4}\n"
          ]
        }
      ]
    },
    {
      "cell_type": "markdown",
      "source": [
        "### 7-5 딕셔너리 타입 (Dict)"
      ],
      "metadata": {
        "id": "GvFFbYcdfCiy"
      }
    },
    {
      "cell_type": "markdown",
      "source": [
        "{key1:value1, key2:value2, .......}로 정의한다."
      ],
      "metadata": {
        "id": "goqQ8Mh3fHiu"
      }
    },
    {
      "cell_type": "code",
      "source": [
        "my_dict = {\n",
        "           '대한민국':'서울',\n",
        "           '일본':'도쿄',\n",
        "           '미국':'워싱턴DC'\n",
        "           }\n",
        "type(my_dict)"
      ],
      "metadata": {
        "colab": {
          "base_uri": "https://localhost:8080/"
        },
        "id": "lOn4wnC-e4Q7",
        "outputId": "acdef69d-f6d0-4ba9-a7a7-5db2b9efbd06"
      },
      "execution_count": null,
      "outputs": [
        {
          "output_type": "execute_result",
          "data": {
            "text/plain": [
              "dict"
            ]
          },
          "metadata": {},
          "execution_count": 121
        }
      ]
    },
    {
      "cell_type": "code",
      "source": [
        "# 딕셔너리의 키값들 확인하기\n",
        "my_dict.keys()"
      ],
      "metadata": {
        "colab": {
          "base_uri": "https://localhost:8080/"
        },
        "id": "gp6mXmYzfvTJ",
        "outputId": "05377ed6-92e0-40b3-bee1-f21f6529851d"
      },
      "execution_count": null,
      "outputs": [
        {
          "output_type": "execute_result",
          "data": {
            "text/plain": [
              "dict_keys(['대한민국', '일본', '미국'])"
            ]
          },
          "metadata": {},
          "execution_count": 119
        }
      ]
    },
    {
      "cell_type": "code",
      "source": [
        "# 딕셔너리의 벨류값들 확인하기\n",
        "my_dict.values()"
      ],
      "metadata": {
        "colab": {
          "base_uri": "https://localhost:8080/"
        },
        "id": "vd6Dm1rBfzw6",
        "outputId": "87481955-b602-42ad-fa8c-673775bce667"
      },
      "execution_count": null,
      "outputs": [
        {
          "output_type": "execute_result",
          "data": {
            "text/plain": [
              "dict_values(['서울', '도쿄', '워싱턴DC'])"
            ]
          },
          "metadata": {},
          "execution_count": 120
        }
      ]
    },
    {
      "cell_type": "markdown",
      "source": [
        "## Chapter 8. 리스트 다루기"
      ],
      "metadata": {
        "id": "J4-e_0bun46-"
      }
    },
    {
      "cell_type": "code",
      "source": [
        "my_list = [1, 2, 3, 4, 5, 6]"
      ],
      "metadata": {
        "id": "QtDlCR0MgDsQ"
      },
      "execution_count": null,
      "outputs": []
    },
    {
      "cell_type": "markdown",
      "source": [
        "### 8-1 리스트 인덱싱/슬라이싱"
      ],
      "metadata": {
        "id": "LfUh8wyBoDZ-"
      }
    },
    {
      "cell_type": "markdown",
      "source": [
        "앞선 문자열 다루기 부분의 인덱싱/슬라이싱 부분과 똑같이 작용"
      ],
      "metadata": {
        "id": "jffSRLYToOyh"
      }
    },
    {
      "cell_type": "code",
      "source": [
        "my_list[0]"
      ],
      "metadata": {
        "colab": {
          "base_uri": "https://localhost:8080/"
        },
        "id": "qBe76h0DoB_M",
        "outputId": "9d2baae9-bec2-4ed7-ea34-2e375787f48f"
      },
      "execution_count": null,
      "outputs": [
        {
          "output_type": "execute_result",
          "data": {
            "text/plain": [
              "1"
            ]
          },
          "metadata": {},
          "execution_count": 168
        }
      ]
    },
    {
      "cell_type": "code",
      "source": [
        "my_list[-1]"
      ],
      "metadata": {
        "colab": {
          "base_uri": "https://localhost:8080/"
        },
        "id": "QI4HdbcloHgf",
        "outputId": "e8564698-0ff5-4c87-a2d4-7dcd75a0185e"
      },
      "execution_count": null,
      "outputs": [
        {
          "output_type": "execute_result",
          "data": {
            "text/plain": [
              "6"
            ]
          },
          "metadata": {},
          "execution_count": 169
        }
      ]
    },
    {
      "cell_type": "code",
      "source": [
        "my_list[3:5]"
      ],
      "metadata": {
        "colab": {
          "base_uri": "https://localhost:8080/"
        },
        "id": "veFivEFooJAd",
        "outputId": "128ee62c-ef29-4cc4-916b-0c0a73a9443c"
      },
      "execution_count": null,
      "outputs": [
        {
          "output_type": "execute_result",
          "data": {
            "text/plain": [
              "[4, 5]"
            ]
          },
          "metadata": {},
          "execution_count": 170
        }
      ]
    },
    {
      "cell_type": "code",
      "source": [
        "len(my_list)"
      ],
      "metadata": {
        "colab": {
          "base_uri": "https://localhost:8080/"
        },
        "id": "hIUky41poLIC",
        "outputId": "8dbfab13-1d54-4b8f-a011-02f1a5a3fd62"
      },
      "execution_count": null,
      "outputs": [
        {
          "output_type": "execute_result",
          "data": {
            "text/plain": [
              "6"
            ]
          },
          "metadata": {},
          "execution_count": 171
        }
      ]
    },
    {
      "cell_type": "markdown",
      "source": [
        "### 8-2 리스트 아이템 변경하기"
      ],
      "metadata": {
        "id": "HmvHXhCeocW1"
      }
    },
    {
      "cell_type": "code",
      "source": [
        "my_list"
      ],
      "metadata": {
        "colab": {
          "base_uri": "https://localhost:8080/"
        },
        "id": "SCviBjt1obGv",
        "outputId": "f2d5ab6b-179b-4a66-9a0c-5002a52dd387"
      },
      "execution_count": null,
      "outputs": [
        {
          "output_type": "execute_result",
          "data": {
            "text/plain": [
              "[1, 2, 3, 4, 5, 6]"
            ]
          },
          "metadata": {},
          "execution_count": 172
        }
      ]
    },
    {
      "cell_type": "code",
      "source": [
        "# my_list에 네번째 (파이썬은 0부터 시작함으로 3) 아이템 확인\n",
        "my_list[3]"
      ],
      "metadata": {
        "colab": {
          "base_uri": "https://localhost:8080/"
        },
        "id": "6eXuSgvmoLvB",
        "outputId": "4cb24319-a844-4c37-9022-d55d5fadf4f1"
      },
      "execution_count": null,
      "outputs": [
        {
          "output_type": "execute_result",
          "data": {
            "text/plain": [
              "4"
            ]
          },
          "metadata": {},
          "execution_count": 174
        }
      ]
    },
    {
      "cell_type": "code",
      "source": [
        "# my_list의 네번째 아이템을 15로 변경하여 저장\n",
        "my_list[3] = 15"
      ],
      "metadata": {
        "id": "4spZ44mNoldB"
      },
      "execution_count": null,
      "outputs": []
    },
    {
      "cell_type": "code",
      "source": [
        "# 네번째 아이템인 4가 15로 변경됨을 확인\n",
        "my_list"
      ],
      "metadata": {
        "colab": {
          "base_uri": "https://localhost:8080/"
        },
        "id": "U-FnQFvCoypZ",
        "outputId": "77538d8d-d2ce-490c-a9ae-6295d11df481"
      },
      "execution_count": null,
      "outputs": [
        {
          "output_type": "execute_result",
          "data": {
            "text/plain": [
              "[1, 2, 3, 15, 5, 6]"
            ]
          },
          "metadata": {},
          "execution_count": 176
        }
      ]
    },
    {
      "cell_type": "markdown",
      "source": [
        "### 8-3 리스트 아이템 추가하기 [ .append(), .insert() ]"
      ],
      "metadata": {
        "id": "QN0wt3cYo94Y"
      }
    },
    {
      "cell_type": "code",
      "source": [
        "my_list"
      ],
      "metadata": {
        "colab": {
          "base_uri": "https://localhost:8080/"
        },
        "id": "pDXUjuoToz85",
        "outputId": "f2e2a93d-b0c3-4f10-8145-49e001c62ad5"
      },
      "execution_count": null,
      "outputs": [
        {
          "output_type": "execute_result",
          "data": {
            "text/plain": [
              "[1, 2, 3, 15, 5, 6]"
            ]
          },
          "metadata": {},
          "execution_count": 177
        }
      ]
    },
    {
      "cell_type": "code",
      "source": [
        "# .append(아이템)를 통해 리스트에 아이템 추가하기\n",
        "my_list.append(30)"
      ],
      "metadata": {
        "id": "DssTLNO7pCBO"
      },
      "execution_count": null,
      "outputs": []
    },
    {
      "cell_type": "code",
      "source": [
        "# 추가된 아이템 30은 맨 마지막에 위치\n",
        "my_list"
      ],
      "metadata": {
        "colab": {
          "base_uri": "https://localhost:8080/"
        },
        "id": "l3kgAqKzpEAK",
        "outputId": "2578f2f0-ad04-4962-ad3c-cb62c2b17aac"
      },
      "execution_count": null,
      "outputs": [
        {
          "output_type": "execute_result",
          "data": {
            "text/plain": [
              "[1, 2, 3, 15, 5, 6, 30]"
            ]
          },
          "metadata": {},
          "execution_count": 179
        }
      ]
    },
    {
      "cell_type": "code",
      "source": [
        "# .insert(위치,아이템)를 통해 해당 위치에 아이템 추가하기\n",
        "my_list.insert(2,43)"
      ],
      "metadata": {
        "id": "5dYzAkFzpQP8"
      },
      "execution_count": null,
      "outputs": []
    },
    {
      "cell_type": "code",
      "source": [
        "# 세번째 (2=파이썬에서 세번째)에 43이 추가됨\n",
        "my_list"
      ],
      "metadata": {
        "colab": {
          "base_uri": "https://localhost:8080/"
        },
        "id": "Op3kHYeIpE_D",
        "outputId": "c3ba3766-37d1-4ebe-98b1-b5114a071331"
      },
      "execution_count": null,
      "outputs": [
        {
          "output_type": "execute_result",
          "data": {
            "text/plain": [
              "[1, 2, 43, 3, 15, 5, 6, 30]"
            ]
          },
          "metadata": {},
          "execution_count": 181
        }
      ]
    },
    {
      "cell_type": "markdown",
      "source": [
        "### 8-4 리스트 아이템 제거하기 [ .remove(), .pop() ]"
      ],
      "metadata": {
        "id": "qju1SNcUpoeg"
      }
    },
    {
      "cell_type": "code",
      "source": [
        "my_list"
      ],
      "metadata": {
        "colab": {
          "base_uri": "https://localhost:8080/"
        },
        "id": "vuPsDCN-pV3M",
        "outputId": "f6061ec0-c192-4513-f0d8-e7bcc7c692ac"
      },
      "execution_count": null,
      "outputs": [
        {
          "output_type": "execute_result",
          "data": {
            "text/plain": [
              "[1, 2, 43, 3, 15, 5, 6, 30]"
            ]
          },
          "metadata": {},
          "execution_count": 182
        }
      ]
    },
    {
      "cell_type": "code",
      "source": [
        "# .remove(아이템)을 통해 해당 아이템을 리스트에서 제거\n",
        "my_list.remove(30)"
      ],
      "metadata": {
        "id": "Bt89rVu_pw9n"
      },
      "execution_count": null,
      "outputs": []
    },
    {
      "cell_type": "code",
      "source": [
        "# 30이 제거됨을 확인\n",
        "my_list"
      ],
      "metadata": {
        "colab": {
          "base_uri": "https://localhost:8080/"
        },
        "id": "hk96bNkopzXW",
        "outputId": "2f3cde1b-1c47-4e77-fb53-07c4256430b0"
      },
      "execution_count": null,
      "outputs": [
        {
          "output_type": "execute_result",
          "data": {
            "text/plain": [
              "[1, 2, 43, 3, 15, 5, 6]"
            ]
          },
          "metadata": {},
          "execution_count": 184
        }
      ]
    },
    {
      "cell_type": "code",
      "source": [
        "# .pop(위치) 를 통해 리스트의 해당 위치의 아이템을 불러옴 / 불러오는 경우 리스트에서 제거됨\n",
        "my_list.pop(2)"
      ],
      "metadata": {
        "colab": {
          "base_uri": "https://localhost:8080/"
        },
        "id": "o4zl_gr8p0Kk",
        "outputId": "abc16728-064a-47dd-be0f-df0fd1573e84"
      },
      "execution_count": null,
      "outputs": [
        {
          "output_type": "execute_result",
          "data": {
            "text/plain": [
              "43"
            ]
          },
          "metadata": {},
          "execution_count": 185
        }
      ]
    },
    {
      "cell_type": "code",
      "source": [
        "# 2번째 위치했던 43이 pop()을 통해 제거됨\n",
        "my_list"
      ],
      "metadata": {
        "colab": {
          "base_uri": "https://localhost:8080/"
        },
        "id": "do4hwk1Xp9Uo",
        "outputId": "7b35272f-ec4c-4afb-afe6-7bbcd0f12cb5"
      },
      "execution_count": null,
      "outputs": [
        {
          "output_type": "execute_result",
          "data": {
            "text/plain": [
              "[1, 2, 3, 15, 5, 6]"
            ]
          },
          "metadata": {},
          "execution_count": 186
        }
      ]
    },
    {
      "cell_type": "markdown",
      "source": [
        "### 8-5 리스트내 아이템 확인하기 [ in , not in ] "
      ],
      "metadata": {
        "id": "4NPtad2jqdkM"
      }
    },
    {
      "cell_type": "code",
      "source": [
        "my_list"
      ],
      "metadata": {
        "colab": {
          "base_uri": "https://localhost:8080/"
        },
        "id": "_BkfZmGnqc4a",
        "outputId": "700fa573-3dc9-4797-fbbd-0b49e0939141"
      },
      "execution_count": null,
      "outputs": [
        {
          "output_type": "execute_result",
          "data": {
            "text/plain": [
              "[1, 2, 3, 15, 5, 6]"
            ]
          },
          "metadata": {},
          "execution_count": 187
        }
      ]
    },
    {
      "cell_type": "code",
      "source": [
        "# 아이템 1이 my_list 안에 들어 있음으로 \"yes\" 라는 의미의 불리안 값 True 출력\n",
        "1 in my_list"
      ],
      "metadata": {
        "colab": {
          "base_uri": "https://localhost:8080/"
        },
        "id": "cnsqL5fDp-fM",
        "outputId": "83552308-bc43-45dc-eb27-8c7f8c844795"
      },
      "execution_count": null,
      "outputs": [
        {
          "output_type": "execute_result",
          "data": {
            "text/plain": [
              "True"
            ]
          },
          "metadata": {},
          "execution_count": 188
        }
      ]
    },
    {
      "cell_type": "code",
      "source": [
        "# 아이템2는 my_list 안에 들어 있기 때문에, \"No\" 라는 의미의 불리안 값 False 출력\n",
        "2 not in my_list"
      ],
      "metadata": {
        "colab": {
          "base_uri": "https://localhost:8080/"
        },
        "id": "OrKeEf5Yqmwa",
        "outputId": "be869087-8126-4a9e-8fa8-0dbbfaa3b88a"
      },
      "execution_count": null,
      "outputs": [
        {
          "output_type": "execute_result",
          "data": {
            "text/plain": [
              "False"
            ]
          },
          "metadata": {},
          "execution_count": 189
        }
      ]
    }
  ]
}