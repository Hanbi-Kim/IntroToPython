{
  "nbformat": 4,
  "nbformat_minor": 0,
  "metadata": {
    "colab": {
      "name": "Python Introduction 02.ipynb",
      "provenance": [],
      "collapsed_sections": [],
      "toc_visible": true,
      "authorship_tag": "ABX9TyMb1U6RtZz/q52VCzQELcPN",
      "include_colab_link": true
    },
    "kernelspec": {
      "name": "python3",
      "display_name": "Python 3"
    },
    "language_info": {
      "name": "python"
    }
  },
  "cells": [
    {
      "cell_type": "markdown",
      "metadata": {
        "id": "view-in-github",
        "colab_type": "text"
      },
      "source": [
        "<a href=\"https://colab.research.google.com/github/Hanbi-Kim/IntroToPython/blob/main/Python_Introduction_02.ipynb\" target=\"_parent\"><img src=\"https://colab.research.google.com/assets/colab-badge.svg\" alt=\"Open In Colab\"/></a>"
      ]
    },
    {
      "cell_type": "code",
      "execution_count": 1,
      "metadata": {
        "colab": {
          "base_uri": "https://localhost:8080/"
        },
        "id": "la3hJzomyUlg",
        "outputId": "699acaab-7233-4f16-a899-2697541077a5"
      },
      "outputs": [
        {
          "output_type": "stream",
          "name": "stdout",
          "text": [
            "Mounted at /content/gdrive\n"
          ]
        }
      ],
      "source": [
        "# 구글 드라이브와 연동하기.\n",
        "from google.colab import drive \n",
        "drive.mount('/content/gdrive')"
      ]
    },
    {
      "cell_type": "markdown",
      "source": [
        "## Chapter 01: 함수 (Function)"
      ],
      "metadata": {
        "id": "TYGVxknxymf2"
      }
    },
    {
      "cell_type": "markdown",
      "source": [
        "### 1-1 함수의 기본 문법"
      ],
      "metadata": {
        "id": "UrrnnfyO5GkY"
      }
    },
    {
      "cell_type": "code",
      "source": [
        "# 함수의 기본 문법 형식\n",
        "def 함수이름(변수1,변수2, ...):\n",
        "    함수 내용 \n",
        "    return 출력값  "
      ],
      "metadata": {
        "id": "tb_Xcf5Oyc7Z"
      },
      "execution_count": null,
      "outputs": []
    },
    {
      "cell_type": "code",
      "source": [
        "# 더하기 함수 만들기\n",
        "\n",
        "# def 앞으로 함수를 정의하겠다는 의미\n",
        "# 함수의 이름을 임의로 설정 이 경우 add라는 이름으로 만듬\n",
        "# 이 함수에서 사용할 변수 정의, 이 경우 (a,b)라는 변수를 입력 받아 함수에서 사용하겠다는 의미\n",
        "# c = a + b를 통해 앞서 입력받은 a와b 를 더하여 새로운 변수 c 생성\n",
        "# return c 함수는 최종적으로 c 라는 값은 출력\n",
        "\n",
        "def add(a,b):\n",
        "  c = a + b\n",
        "  return c "
      ],
      "metadata": {
        "id": "TycFLhBxy6nG"
      },
      "execution_count": 2,
      "outputs": []
    },
    {
      "cell_type": "code",
      "source": [
        "# 더하기 함수 사용하기\n",
        "\n",
        "# add 라는 이름의 함수를 사용하고 1,2 라는 변수 지정\n",
        "# 앞서 정의된 함수에 의해, a = 1, b = 2가 각각 할당되고 함수 진행 \n",
        "# 최종적으로 a 와  b가 더해진 c 값 출력됨을 확인\n",
        "\n",
        "add(1,2)"
      ],
      "metadata": {
        "colab": {
          "base_uri": "https://localhost:8080/"
        },
        "id": "4gTdgByuzC_9",
        "outputId": "d56e2f75-a75d-4e75-bd8e-375c2bbfec9a"
      },
      "execution_count": 3,
      "outputs": [
        {
          "output_type": "execute_result",
          "data": {
            "text/plain": [
              "3"
            ]
          },
          "metadata": {},
          "execution_count": 3
        }
      ]
    },
    {
      "cell_type": "markdown",
      "source": [
        "### 실습: BMI 계산기\n",
        "실습내용: 아래 BMI 지수 계산 공식을 이용하여 몸무게와 신장을 입력받아 BMI 지수를 구하는 함수 만들기."
      ],
      "metadata": {
        "id": "gV2hAMGL0DIL"
      }
    },
    {
      "cell_type": "markdown",
      "source": [
        "<img src = \"https://t1.daumcdn.net/cfile/tistory/2409A03657FFBEB92E\">"
      ],
      "metadata": {
        "id": "d543xE03z-dr"
      }
    },
    {
      "cell_type": "code",
      "source": [
        "# 사용할 함수 예제\n",
        "def BMI(height, mass):\n",
        "    bmi = \n",
        "    return bmi"
      ],
      "metadata": {
        "id": "K99o8KPLzhKy"
      },
      "execution_count": null,
      "outputs": []
    },
    {
      "cell_type": "code",
      "source": [
        "# 위에 예제가 제대로 출력되는지 확인해보기.\n",
        "h =  1.8\n",
        "m = 80\n",
        "BMI(h,m)"
      ],
      "metadata": {
        "id": "_m6fqMM50hoc"
      },
      "execution_count": null,
      "outputs": []
    },
    {
      "cell_type": "markdown",
      "source": [
        "## Chapter 2. 조건문 (Conditional)"
      ],
      "metadata": {
        "id": "IGU3v7v01Dac"
      }
    },
    {
      "cell_type": "markdown",
      "source": [
        "### 2-1 조건문 기본 문법"
      ],
      "metadata": {
        "id": "8kSSAWjC3gMN"
      }
    },
    {
      "cell_type": "code",
      "source": [
        "# 조건문의 기본 문법 형식\n",
        "if 조건: \n",
        "  <if 만족시 실행 할 내용>\n",
        "elif 조건:\n",
        "  <elif 만족시 실행 할 내용>\n",
        "elif 조건:\n",
        "  <elif 만족시 실행 할 내용>\n",
        "else:\n",
        "  <위에 아무것도 만족하지 않을 시 실행할 내용>"
      ],
      "metadata": {
        "id": "CN2R4G-w1HAh"
      },
      "execution_count": null,
      "outputs": []
    },
    {
      "cell_type": "code",
      "source": [
        "# 점수가 50 보다 낮으면 Fail, 높으면 Pass 하는 조건문 만들기\n",
        "\n",
        "# 테스트할 점수 지정 \n",
        "mark= 45\n",
        "\n",
        "# 만약에 점수가 50 보다 같거나 높다면\n",
        "if mark >= 50:\n",
        "  print(\"Pass\") # Pass 출력\n",
        "else: # 위에 조건을 만족하지 않을 나머지 경우\n",
        "  print(\"Fail\") # Fail 출력\n",
        "\n",
        "# 위에서 테스트 할 점수가 45임으로 50보다 낮기 때문에 Fail 출력"
      ],
      "metadata": {
        "colab": {
          "base_uri": "https://localhost:8080/"
        },
        "id": "aiX_SbdZ1dyj",
        "outputId": "9981bf12-0214-48b2-bb1c-706cc3ada557"
      },
      "execution_count": 4,
      "outputs": [
        {
          "output_type": "stream",
          "name": "stdout",
          "text": [
            "Fail\n"
          ]
        }
      ]
    },
    {
      "cell_type": "markdown",
      "source": [
        "### 2-2 조건문과 함수의 응용"
      ],
      "metadata": {
        "id": "TujFGlQj3kq9"
      }
    },
    {
      "cell_type": "code",
      "source": [
        "# 위에 조건문을 함수화 하여 Pass/Fail 구분 함수 만들기\n",
        "\n",
        "def checker():\n",
        "  mark = input(\"점수를 입력해주세요.\") # input() 함수를 통해 점수를 입력 받고 해당 내용을 mark 변수에 저장\n",
        "  mark = int(mark) # input()을 통해 입력받은 값은 문자열임으로 이를 정수형으로 변환\n",
        "  if mark >= 50: # 만약에 mark가 50보다 같거나 크다면\n",
        "    msg = \"Pass\" # msg 라는 변수에 \"pass\" 라는 문자열 할당\n",
        "  else: # 위에 조건이 아니라면\n",
        "    msg = \"Fail\" # msg 라는 변수에 Fail 문자열 할당\n",
        "  return msg # 위에서 구한 msg 최종 메세지로 출력 "
      ],
      "metadata": {
        "id": "eWjnpDxm2E-c"
      },
      "execution_count": 6,
      "outputs": []
    },
    {
      "cell_type": "code",
      "source": [
        "# checker() 함수 사용하기\n",
        "checker()"
      ],
      "metadata": {
        "colab": {
          "base_uri": "https://localhost:8080/",
          "height": 54
        },
        "id": "OzllIIuY260X",
        "outputId": "e09ee43b-02d6-4753-cf81-2a98070e92d7"
      },
      "execution_count": 7,
      "outputs": [
        {
          "name": "stdout",
          "output_type": "stream",
          "text": [
            "점수를 입력해주세요.67\n"
          ]
        },
        {
          "output_type": "execute_result",
          "data": {
            "text/plain": [
              "'Pass'"
            ],
            "application/vnd.google.colaboratory.intrinsic+json": {
              "type": "string"
            }
          },
          "metadata": {},
          "execution_count": 7
        }
      ]
    },
    {
      "cell_type": "code",
      "source": [
        "# checker() 함수 사용하기\n",
        "checker()"
      ],
      "metadata": {
        "colab": {
          "base_uri": "https://localhost:8080/",
          "height": 54
        },
        "id": "JvyurCk13ACZ",
        "outputId": "24f1528c-c67b-4126-870f-71bd85ba0468"
      },
      "execution_count": 8,
      "outputs": [
        {
          "name": "stdout",
          "output_type": "stream",
          "text": [
            "점수를 입력해주세요.23\n"
          ]
        },
        {
          "output_type": "execute_result",
          "data": {
            "text/plain": [
              "'Fail'"
            ],
            "application/vnd.google.colaboratory.intrinsic+json": {
              "type": "string"
            }
          },
          "metadata": {},
          "execution_count": 8
        }
      ]
    },
    {
      "cell_type": "markdown",
      "source": [
        "### 2-3 논리 연산자를 활용한 조건문 응용"
      ],
      "metadata": {
        "id": "Sv7cRvi-3ozF"
      }
    },
    {
      "cell_type": "code",
      "source": [
        "# 학점을 입력받아, 4.0 이상이면 A, 4.0 미만 3.5 이상이면 B 등의 학점을 출력하는 조건문 만들기\n",
        "\n",
        "def grade():\n",
        "  mark = input(\"학점을 입력해주세요.\")\n",
        "  mark = float(mark) #학점은 소수점으로 들어옴으로 Float으로 변환\n",
        "  if mark > 4.0:\n",
        "    msg = \"A\"\n",
        "  elif mark >=3.5 and mark < 4.0:\n",
        "    msg = \"B\"\n",
        "  elif mark >= 3.0 and mark < 3.5:\n",
        "    msg = \"C\"\n",
        "  else:\n",
        "    msg = \"F\"\n",
        "  return msg \n"
      ],
      "metadata": {
        "id": "JKHO3MMb3C4E"
      },
      "execution_count": 10,
      "outputs": []
    },
    {
      "cell_type": "code",
      "source": [
        "# 학점 계산기 동작 확인하기.\n",
        "grade()"
      ],
      "metadata": {
        "colab": {
          "base_uri": "https://localhost:8080/",
          "height": 54
        },
        "id": "WFhhhT7r33vY",
        "outputId": "34b416c4-27f0-4d4d-9077-05a5f160f7ef"
      },
      "execution_count": 11,
      "outputs": [
        {
          "name": "stdout",
          "output_type": "stream",
          "text": [
            "학점을 입력해주세요.4.3\n"
          ]
        },
        {
          "output_type": "execute_result",
          "data": {
            "text/plain": [
              "'A'"
            ],
            "application/vnd.google.colaboratory.intrinsic+json": {
              "type": "string"
            }
          },
          "metadata": {},
          "execution_count": 11
        }
      ]
    },
    {
      "cell_type": "code",
      "source": [
        "# 학점 계산기 동작 확인하기.\n",
        "grade()"
      ],
      "metadata": {
        "colab": {
          "base_uri": "https://localhost:8080/",
          "height": 54
        },
        "id": "LZgytllK4U-D",
        "outputId": "12ba85c9-5ac0-4d92-f4f7-b640352b608c"
      },
      "execution_count": 12,
      "outputs": [
        {
          "name": "stdout",
          "output_type": "stream",
          "text": [
            "학점을 입력해주세요.3.67\n"
          ]
        },
        {
          "output_type": "execute_result",
          "data": {
            "text/plain": [
              "'B'"
            ],
            "application/vnd.google.colaboratory.intrinsic+json": {
              "type": "string"
            }
          },
          "metadata": {},
          "execution_count": 12
        }
      ]
    },
    {
      "cell_type": "code",
      "source": [
        "# 학점 계산기 동작 확인하기.\n",
        "grade()"
      ],
      "metadata": {
        "colab": {
          "base_uri": "https://localhost:8080/",
          "height": 54
        },
        "id": "XbEJ59Jz4W_J",
        "outputId": "b258ccbd-3d56-4714-f3d2-94dfd016e171"
      },
      "execution_count": 13,
      "outputs": [
        {
          "name": "stdout",
          "output_type": "stream",
          "text": [
            "학점을 입력해주세요.3.124\n"
          ]
        },
        {
          "output_type": "execute_result",
          "data": {
            "text/plain": [
              "'C'"
            ],
            "application/vnd.google.colaboratory.intrinsic+json": {
              "type": "string"
            }
          },
          "metadata": {},
          "execution_count": 13
        }
      ]
    },
    {
      "cell_type": "code",
      "source": [
        "# 학점 계산기 동작 확인하기.\n",
        "grade()"
      ],
      "metadata": {
        "colab": {
          "base_uri": "https://localhost:8080/",
          "height": 54
        },
        "id": "x4FIb1md4Y5W",
        "outputId": "9eab9c1d-a026-4dce-8ac9-8c54d3717f14"
      },
      "execution_count": 14,
      "outputs": [
        {
          "name": "stdout",
          "output_type": "stream",
          "text": [
            "학점을 입력해주세요.2.124\n"
          ]
        },
        {
          "output_type": "execute_result",
          "data": {
            "text/plain": [
              "'F'"
            ],
            "application/vnd.google.colaboratory.intrinsic+json": {
              "type": "string"
            }
          },
          "metadata": {},
          "execution_count": 14
        }
      ]
    },
    {
      "cell_type": "markdown",
      "source": [
        "### 실습: BMI 판정\n",
        "위에서 계산한 BMI를 활용하고 아래 판정기준에 따라 판정하는 BMI 함수 만들기"
      ],
      "metadata": {
        "id": "_bJanRIN40UM"
      }
    },
    {
      "cell_type": "markdown",
      "source": [
        "<img src=\"https://github.com/Hanbi-Kim/TextMining/blob/main/images/bmi.jpg?raw=true\">"
      ],
      "metadata": {
        "id": "Vmc1UfY14w2J"
      }
    },
    {
      "cell_type": "code",
      "source": [
        ""
      ],
      "metadata": {
        "id": "zG-YYx42-KbZ"
      },
      "execution_count": null,
      "outputs": []
    },
    {
      "cell_type": "markdown",
      "source": [
        "## Chapter 3. 반복문 (Loop) - For"
      ],
      "metadata": {
        "id": "r3g4X2-A5URS"
      }
    },
    {
      "cell_type": "markdown",
      "source": [
        "### 3-1 For의 기본 문법"
      ],
      "metadata": {
        "id": "K2cVBEng5ej_"
      }
    },
    {
      "cell_type": "code",
      "source": [
        "for 사용할변수지정 in 리스트:\n",
        "  지정된 변수 활용...\n",
        "  "
      ],
      "metadata": {
        "id": "2rghhQj64ack"
      },
      "execution_count": null,
      "outputs": []
    },
    {
      "cell_type": "code",
      "source": [
        "# range(5) = [0,1,2,3,4] 에 대해서, 그 안에 있는 모든 아이템 i 에 대한 반복문 진행\n",
        "for i in range(5):\n",
        "  # 앞서 지정된 아이템 i 를 각각 출력\n",
        "  print(i)"
      ],
      "metadata": {
        "colab": {
          "base_uri": "https://localhost:8080/"
        },
        "id": "JYzYNOwS5tVQ",
        "outputId": "0e812e91-ea80-4066-f981-cb466cd5d041"
      },
      "execution_count": 15,
      "outputs": [
        {
          "output_type": "stream",
          "name": "stdout",
          "text": [
            "0\n",
            "1\n",
            "2\n",
            "3\n",
            "4\n"
          ]
        }
      ]
    },
    {
      "cell_type": "code",
      "source": [
        "my_list = ['a','b','c','d']\n",
        "\n",
        "# my_list 안에 있는 모든 아이템 i 에 대한 반복문 진행\n",
        "for i in my_list:\n",
        "  # 앞서 지정된 아이템 i 를 각각 출력\n",
        "  print(i)"
      ],
      "metadata": {
        "colab": {
          "base_uri": "https://localhost:8080/"
        },
        "id": "vnHmTglM5wJL",
        "outputId": "88225a4e-23c2-4a49-9298-f64db103881b"
      },
      "execution_count": 16,
      "outputs": [
        {
          "output_type": "stream",
          "name": "stdout",
          "text": [
            "a\n",
            "b\n",
            "c\n",
            "d\n"
          ]
        }
      ]
    },
    {
      "cell_type": "markdown",
      "source": [
        "### 3-2 For문 활용하여 구구단 테이블 만들기"
      ],
      "metadata": {
        "id": "CmngszxL6R0A"
      }
    },
    {
      "cell_type": "code",
      "source": [
        "print(\"====== 구구단 2단 =========\")\n",
        "for i in range(1,10):\n",
        "  # print(2, \" X \", i, \" = \", 2*i)\n",
        "  print(\"{} X {} = {}\".format(2,i,2*i))"
      ],
      "metadata": {
        "colab": {
          "base_uri": "https://localhost:8080/"
        },
        "id": "TIKyQvFP6Q_V",
        "outputId": "fbcd0d9d-62c7-411c-8872-28a4e1dc5654"
      },
      "execution_count": 18,
      "outputs": [
        {
          "output_type": "stream",
          "name": "stdout",
          "text": [
            "====== 구구단 2단 =========\n",
            "2 X 1 = 2\n",
            "2 X 2 = 4\n",
            "2 X 3 = 6\n",
            "2 X 4 = 8\n",
            "2 X 5 = 10\n",
            "2 X 6 = 12\n",
            "2 X 7 = 14\n",
            "2 X 8 = 16\n",
            "2 X 9 = 18\n"
          ]
        }
      ]
    },
    {
      "cell_type": "markdown",
      "source": [
        "### 3-3 이중 For문을 활용하여 구구단 4단까지 테이블 만들기"
      ],
      "metadata": {
        "id": "JlcsuWAy62lK"
      }
    },
    {
      "cell_type": "code",
      "source": [
        "for j in range(2,5):\n",
        "  print(\"====== 구구단 {}단 =========\".format(j))\n",
        "  for i in range(1,10):\n",
        "    # print(2, \" X \", i, \" = \", 2*i)\n",
        "    print(\"{} X {} = {}\".format(j,i,j*i))"
      ],
      "metadata": {
        "colab": {
          "base_uri": "https://localhost:8080/"
        },
        "id": "9pcvQTBE6Fvb",
        "outputId": "f11e682a-d76a-413e-d54b-136eb112b900"
      },
      "execution_count": 24,
      "outputs": [
        {
          "output_type": "stream",
          "name": "stdout",
          "text": [
            "====== 구구단 2단 =========\n",
            "2 X 1 = 2\n",
            "2 X 2 = 4\n",
            "2 X 3 = 6\n",
            "2 X 4 = 8\n",
            "2 X 5 = 10\n",
            "2 X 6 = 12\n",
            "2 X 7 = 14\n",
            "2 X 8 = 16\n",
            "2 X 9 = 18\n",
            "====== 구구단 3단 =========\n",
            "3 X 1 = 3\n",
            "3 X 2 = 6\n",
            "3 X 3 = 9\n",
            "3 X 4 = 12\n",
            "3 X 5 = 15\n",
            "3 X 6 = 18\n",
            "3 X 7 = 21\n",
            "3 X 8 = 24\n",
            "3 X 9 = 27\n",
            "====== 구구단 4단 =========\n",
            "4 X 1 = 4\n",
            "4 X 2 = 8\n",
            "4 X 3 = 12\n",
            "4 X 4 = 16\n",
            "4 X 5 = 20\n",
            "4 X 6 = 24\n",
            "4 X 7 = 28\n",
            "4 X 8 = 32\n",
            "4 X 9 = 36\n"
          ]
        }
      ]
    },
    {
      "cell_type": "markdown",
      "source": [
        "### 실습: 1부터 100까지 모든 숫자 더하기 \n",
        "For문을 활용하여 1부터 100까지 모든 숫자를 더하기 [정답: 5050]"
      ],
      "metadata": {
        "id": "DXpjRm3r9vIv"
      }
    },
    {
      "cell_type": "code",
      "source": [
        ""
      ],
      "metadata": {
        "id": "IPgoBWCJ8qTQ"
      },
      "execution_count": 26,
      "outputs": []
    },
    {
      "cell_type": "markdown",
      "source": [
        "## Chapter 4. 반복문 (Loop) - While"
      ],
      "metadata": {
        "id": "V8mx1W-g-Nqf"
      }
    },
    {
      "cell_type": "markdown",
      "source": [
        "### 4-1 반복문 기본 문법"
      ],
      "metadata": {
        "id": "nA5K2nh--T1G"
      }
    },
    {
      "cell_type": "code",
      "source": [
        "while 조건:\n",
        "  수행할 연산"
      ],
      "metadata": {
        "id": "PEr6rd1m8jay"
      },
      "execution_count": null,
      "outputs": []
    },
    {
      "cell_type": "code",
      "source": [
        "# 활용 예제\n",
        "\n",
        "# i 는 0 으로 설정\n",
        "i = 0\n",
        "\n",
        "# i 라는 변수가 5보다 작은 동안만 아래 조건을 반복함\n",
        "while i < 5:\n",
        "  print(i)\n",
        "  i += 1"
      ],
      "metadata": {
        "colab": {
          "base_uri": "https://localhost:8080/"
        },
        "id": "ZyN8Iwcx-Z_b",
        "outputId": "13bd558c-8a54-4b4e-d888-9185590bf7a9"
      },
      "execution_count": 29,
      "outputs": [
        {
          "output_type": "stream",
          "name": "stdout",
          "text": [
            "0\n",
            "1\n",
            "2\n",
            "3\n",
            "4\n"
          ]
        }
      ]
    },
    {
      "cell_type": "markdown",
      "source": [
        "### 4-2 While문을 활용하여 구구단 테이블 만들기"
      ],
      "metadata": {
        "id": "PZmjD0P5-s9I"
      }
    },
    {
      "cell_type": "code",
      "source": [
        "i = 1\n",
        "\n",
        "print(\"====== 구구단 2단 =========\")\n",
        "while i <= 9:\n",
        "  print(\"{} X {} = {}\".format(2,i,2*i))\n",
        "  i += 1"
      ],
      "metadata": {
        "colab": {
          "base_uri": "https://localhost:8080/"
        },
        "id": "l7_vlz5L-epC",
        "outputId": "a137b18a-2f3f-4327-ce78-d42d183e0c6a"
      },
      "execution_count": 31,
      "outputs": [
        {
          "output_type": "stream",
          "name": "stdout",
          "text": [
            "====== 구구단 2단 =========\n",
            "2 X 1 = 2\n",
            "2 X 2 = 4\n",
            "2 X 3 = 6\n",
            "2 X 4 = 8\n",
            "2 X 5 = 10\n",
            "2 X 6 = 12\n",
            "2 X 7 = 14\n",
            "2 X 8 = 16\n",
            "2 X 9 = 18\n"
          ]
        }
      ]
    },
    {
      "cell_type": "markdown",
      "source": [
        "### 4-3 While문을 활용하여 구구단 테이블 4단까지 만들기"
      ],
      "metadata": {
        "id": "q3s-a46U_DID"
      }
    },
    {
      "cell_type": "code",
      "source": [
        "j = 2\n",
        "while j <= 4:\n",
        "  i = 1\n",
        "  print(\"====== 구구단 {}단 =========\".format(j))\n",
        "  while i <= 9:\n",
        "    print(\"{} X {} = {}\".format(j,i,j*i))\n",
        "    i += 1\n",
        "  j += 1\n"
      ],
      "metadata": {
        "colab": {
          "base_uri": "https://localhost:8080/"
        },
        "id": "Zuume8AI-9kk",
        "outputId": "e3227dc8-2d5e-4ef1-c94a-ab0adac4ffdb"
      },
      "execution_count": 34,
      "outputs": [
        {
          "output_type": "stream",
          "name": "stdout",
          "text": [
            "====== 구구단 2단 =========\n",
            "2 X 1 = 2\n",
            "2 X 2 = 4\n",
            "2 X 3 = 6\n",
            "2 X 4 = 8\n",
            "2 X 5 = 10\n",
            "2 X 6 = 12\n",
            "2 X 7 = 14\n",
            "2 X 8 = 16\n",
            "2 X 9 = 18\n",
            "====== 구구단 3단 =========\n",
            "3 X 1 = 3\n",
            "3 X 2 = 6\n",
            "3 X 3 = 9\n",
            "3 X 4 = 12\n",
            "3 X 5 = 15\n",
            "3 X 6 = 18\n",
            "3 X 7 = 21\n",
            "3 X 8 = 24\n",
            "3 X 9 = 27\n",
            "====== 구구단 4단 =========\n",
            "4 X 1 = 4\n",
            "4 X 2 = 8\n",
            "4 X 3 = 12\n",
            "4 X 4 = 16\n",
            "4 X 5 = 20\n",
            "4 X 6 = 24\n",
            "4 X 7 = 28\n",
            "4 X 8 = 32\n",
            "4 X 9 = 36\n"
          ]
        }
      ]
    },
    {
      "cell_type": "markdown",
      "source": [
        "### 실습: While문을 활용하여 1부터 100까지 숫자 더하기 "
      ],
      "metadata": {
        "id": "hXCcTt1o_u_i"
      }
    },
    {
      "cell_type": "code",
      "source": [
        ""
      ],
      "metadata": {
        "id": "20cd34IX_TnJ"
      },
      "execution_count": null,
      "outputs": []
    },
    {
      "cell_type": "markdown",
      "source": [
        "## 파이썬 기초 최종 실습\n"
      ],
      "metadata": {
        "id": "Br9WJJfT_2yT"
      }
    },
    {
      "cell_type": "markdown",
      "source": [
        "### 업다운 게임 프로그래밍\n",
        "\n",
        "실습 내용:\n",
        "- 1-100 사이의 임의의 숫자를 생성\n",
        "- 사용자가 1-100 사이의 숫자 입력\n",
        "- 앞서 임의의 숫자가 입력 값 보다 작은시 \"숫자를 키워주세요. Up!\" 출력 / 클시 \"숫자를 낮춰주세요. Down!\" 출력\n",
        "- 임의의 숫자를 맞출 때 까지 반복 "
      ],
      "metadata": {
        "id": "W_aAlk31_-RO"
      }
    },
    {
      "cell_type": "markdown",
      "source": [
        "#### Step1: 1-100 사이의 랜덤숫자 생성하기"
      ],
      "metadata": {
        "id": "mq6mJJIXA92j"
      }
    },
    {
      "cell_type": "code",
      "source": [
        "# 1-100 사이의 임의의 숫자 생성하기.\n",
        "\n",
        "# 랜덤 패키지의 sample() 사용 예제\n",
        "import random\n",
        "random.sample([1,2,3],2)"
      ],
      "metadata": {
        "colab": {
          "base_uri": "https://localhost:8080/"
        },
        "id": "SAbvV_gs_9KX",
        "outputId": "b4572a76-36ca-41b2-8274-310561de9d5e"
      },
      "execution_count": 35,
      "outputs": [
        {
          "output_type": "execute_result",
          "data": {
            "text/plain": [
              "[2, 1]"
            ]
          },
          "metadata": {},
          "execution_count": 35
        }
      ]
    },
    {
      "cell_type": "code",
      "source": [
        "# 랜덤 넘버 생성 예제\n",
        "random.sample(range(1,100),1)[0]"
      ],
      "metadata": {
        "colab": {
          "base_uri": "https://localhost:8080/"
        },
        "id": "5eS3daAzAsKI",
        "outputId": "ac786271-cbf1-4279-aea3-be35b45624de"
      },
      "execution_count": 37,
      "outputs": [
        {
          "output_type": "execute_result",
          "data": {
            "text/plain": [
              "64"
            ]
          },
          "metadata": {},
          "execution_count": 37
        }
      ]
    },
    {
      "cell_type": "markdown",
      "source": [
        "#### Step2: 사용자가 1-100 사이의 숫자 입력하기"
      ],
      "metadata": {
        "id": "Lud6PaoCBD25"
      }
    },
    {
      "cell_type": "code",
      "source": [
        "# 숫자를 입력 받고 Casting을 통해 정수형으로 변환 후 num 변수에 저장\n",
        "num = int(input(\"숫자를 입력해주세요. \"))\n",
        "print(num)"
      ],
      "metadata": {
        "colab": {
          "base_uri": "https://localhost:8080/"
        },
        "id": "9hmfDZNbAzJA",
        "outputId": "d81323d2-2f31-4387-e0ee-5508b10b7b5a"
      },
      "execution_count": 38,
      "outputs": [
        {
          "output_type": "stream",
          "name": "stdout",
          "text": [
            "숫자를 입력해주세요. 34\n",
            "34\n"
          ]
        }
      ]
    },
    {
      "cell_type": "markdown",
      "source": [
        "#### Step3: 앞서 임의의 숫자가 입력 값 보다 작은시 \"숫자를 키워주세요. Up!\" 출력 / 클시 \"숫자를 낮춰주세요. Down!\" 출력"
      ],
      "metadata": {
        "id": "1VxKUz9CBUBc"
      }
    },
    {
      "cell_type": "code",
      "source": [
        "random_num = random.sample(range(1,100),1)[0]\n",
        "num = num = int(input(\"숫자를 입력해주세요. \"))\n",
        "if num < random_num: # 만약에 사용자 입력값인 num이 임의의 숫자 random_num 보다 작다면,\n",
        "  print(\"숫자를 키워주세요. Up!\")\n",
        "elif num > random_num: # 만약에 사용자 입력값인 num이 임의의 숫자 random_num 보다 크다면,\n",
        "  print(\"숫자를 낮춰주세요. Down!\")\n",
        "else: # 작거나 크지 않음으로 정답인 상황이면,\n",
        "  print(\"정답입니다!\")\n",
        "\n",
        "# 정답이 뭐였는지 확인\n",
        "print(\"정답은 {}입니다\".format(random_num))"
      ],
      "metadata": {
        "colab": {
          "base_uri": "https://localhost:8080/"
        },
        "id": "x26l3pcSBTe-",
        "outputId": "a2342112-9216-4a53-da99-146758ef42c1"
      },
      "execution_count": 43,
      "outputs": [
        {
          "output_type": "stream",
          "name": "stdout",
          "text": [
            "숫자를 입력해주세요. 50\n",
            "숫자를 낮춰주세요. Down!\n",
            "정답은 24입니다\n"
          ]
        }
      ]
    },
    {
      "cell_type": "markdown",
      "source": [
        "#### Step4: 임의의 숫자를 맞출 때 까지 반복 \n"
      ],
      "metadata": {
        "id": "t5hj22-fCVOV"
      }
    },
    {
      "cell_type": "code",
      "source": [
        "# 처음 정답 ans를 false로 설정\n",
        "ans = False\n",
        "random_num = random.sample(range(1,100),1)[0]\n",
        "\n",
        "# 정답을 맞출 시, ans를 True 바꾸고 반복문 종료\n",
        "while ans != True:\n",
        "  num = num = int(input(\"숫자를 입력해주세요. \"))\n",
        "  if num < random_num: # 만약에 사용자 입력값인 num이 임의의 숫자 random_num 보다 작다면,\n",
        "    print(\"숫자를 키워주세요. Up!\")\n",
        "  elif num > random_num: # 만약에 사용자 입력값인 num이 임의의 숫자 random_num 보다 크다면,\n",
        "    print(\"숫자를 낮춰주세요. Down!\")\n",
        "  else: # 작거나 크지 않음으로 정답인 상황이면,\n",
        "    print(\"정답입니다!\")\n",
        "    ans = True # 정답을 맞추게 되면 ans=True로 바꾸어 반복문 종료"
      ],
      "metadata": {
        "colab": {
          "base_uri": "https://localhost:8080/"
        },
        "id": "dsMQdLtvBRx7",
        "outputId": "e3e2b538-3960-4797-ef6f-41c4c3c7bc54"
      },
      "execution_count": 45,
      "outputs": [
        {
          "output_type": "stream",
          "name": "stdout",
          "text": [
            "숫자를 입력해주세요. 50\n",
            "숫자를 키워주세요. Up!\n",
            "숫자를 입력해주세요. 75\n",
            "숫자를 키워주세요. Up!\n",
            "숫자를 입력해주세요. 86\n",
            "숫자를 키워주세요. Up!\n",
            "숫자를 입력해주세요. 95\n",
            "숫자를 낮춰주세요. Down!\n",
            "숫자를 입력해주세요. 90\n",
            "숫자를 키워주세요. Up!\n",
            "숫자를 입력해주세요. 93\n",
            "숫자를 낮춰주세요. Down!\n",
            "숫자를 입력해주세요. 92\n",
            "숫자를 낮춰주세요. Down!\n",
            "숫자를 입력해주세요. 91\n",
            "정답입니다!\n"
          ]
        }
      ]
    }
  ]
}