{
  "nbformat": 4,
  "nbformat_minor": 0,
  "metadata": {
    "colab": {
      "name": "WebCrawling Introduction.ipynb",
      "provenance": [],
      "toc_visible": true,
      "authorship_tag": "ABX9TyP7w+xLEJi8MMekG2xBqaPL",
      "include_colab_link": true
    },
    "kernelspec": {
      "name": "python3",
      "display_name": "Python 3"
    },
    "language_info": {
      "name": "python"
    }
  },
  "cells": [
    {
      "cell_type": "markdown",
      "metadata": {
        "id": "view-in-github",
        "colab_type": "text"
      },
      "source": [
        "<a href=\"https://colab.research.google.com/github/Hanbi-Kim/IntroToPython/blob/main/WebCrawling_Introduction.ipynb\" target=\"_parent\"><img src=\"https://colab.research.google.com/assets/colab-badge.svg\" alt=\"Open In Colab\"/></a>"
      ]
    },
    {
      "cell_type": "code",
      "execution_count": 20,
      "metadata": {
        "id": "NpPXNRQpcU7-"
      },
      "outputs": [],
      "source": [
        "# 사용할 라이브러리 로드\n",
        "import requests\n",
        "from bs4 import BeautifulSoup\n",
        "import pandas as pd"
      ]
    },
    {
      "cell_type": "code",
      "source": [
        "# 웹크롤링할 url 주소 입력\n",
        "url = 'https://hanbi-kim.github.io/IntroToPython/webprogramming'\n",
        "\n",
        "# requests.get()을 통해 해당 url를 가져온다\n",
        "r = requests.get(url)\n"
      ],
      "metadata": {
        "id": "_inh1PZH3ZAI"
      },
      "execution_count": 28,
      "outputs": []
    },
    {
      "cell_type": "code",
      "source": [
        "# r.text를 통해 해당 url에 저장된 모든 정보를 text화하여 가져올수있다.\n",
        "r.text"
      ],
      "metadata": {
        "colab": {
          "base_uri": "https://localhost:8080/",
          "height": 127
        },
        "id": "wRCzKv7M34Xd",
        "outputId": "ed9718b4-53e6-4588-b329-99be1788815f"
      },
      "execution_count": 29,
      "outputs": [
        {
          "output_type": "execute_result",
          "data": {
            "text/plain": [
              "'<!DOCTYPE html>\\r\\n<html>\\r\\n<head>\\r\\n<title>연습용 페이지</title>\\r\\n<style>\\r\\n.box{\\r\\nbackground-color: #f789f9;\\r\\nwidth:300px;\\r\\nheight:150px;\\r\\n}\\r\\n\\r\\n#id01{\\r\\nbackground-color: #f78959;\\r\\nheight:250px;\\r\\n}\\r\\n\\r\\ntable, tr, td, th {\\r\\nborder: 1px solid black;\\r\\n}\\r\\n</style>\\r\\n</head>\\r\\n<body>\\r\\n\\r\\n<h1>1. 제목/문단 태그 연습하기 </h1>\\r\\n<h1>이것은 제목1 입니다.</h1>\\r\\n<h2>이것은 제목2 입니다</h2>\\r\\n<h3>이것은 제목3 입니다</h3>\\r\\n<h4>이것은 제목4 입니다</h4>\\r\\n<p>이것은 문단입니다.</p>\\r\\n\\r\\n<h1>2. a 태그 연습하기</h1>\\r\\n<a href = \"http://www.google.com\">이것은 구글 링크 입니다.</a>\\r\\n\\r\\n<h1>3. img 태그 연습하기 </h1>\\r\\n<img src=\"https://pds.joongang.co.kr/news/component/htmlphoto_mmdata/201901/20/28017477-0365-4a43-b546-008b603da621.jpg\">\\r\\n\\r\\n<h1>4. 리스트 태그 연습하기</h1>\\r\\n<ul>\\r\\n<li>강아지\\r\\n<li>고양이\\r\\n</ul>\\r\\n\\r\\n<ol>\\r\\n<li>홍길동\\r\\n<li>임꺽정\\r\\n</ol>\\r\\n\\r\\n<h1>5. div 태그 연습하기</h1>\\r\\n<div style=\"border: 1px solid black;\">이곳은 div1 입니다.</div>\\r\\n<div style=\"border: 1px solid black; width: 700px; height: 400px;\">이곳은 div2 입니다.</div>\\r\\n\\r\\n<h1>6. 속성값 연습하기</h1>\\r\\n<div class=box>div 클래스 속성 구간</div>\\r\\n<div class=box>div 클래스 속성 구간</div>\\r\\n<div id=id01>div 클래스 속성 구간</div>\\r\\n<div id=id01 class=box>div 클래스 속성 구간</div>\\r\\n\\r\\n<h1>7. 테이블 태그 연습하기</h1>\\r\\n<table>\\r\\n<tr>\\r\\n<th>나라</th>\\r\\n<th>수도</th>\\r\\n</tr>\\r\\n<tr>\\r\\n<td>대한민국\\r\\n<td>서울\\r\\n</tr>\\r\\n<td>일본</td>\\r\\n<td>도쿄</td>\\r\\n</table>\\r\\n</body>\\r\\n</html>'"
            ],
            "application/vnd.google.colaboratory.intrinsic+json": {
              "type": "string"
            }
          },
          "metadata": {},
          "execution_count": 29
        }
      ]
    },
    {
      "cell_type": "code",
      "source": [
        "# BeautifulSoup 패키지를 통해, r.text에 저장된 text 정보를 html 문법에 맞게 변환해준다.\n",
        "soup = BeautifulSoup(r.text, 'html.parser')\n",
        "soup"
      ],
      "metadata": {
        "colab": {
          "base_uri": "https://localhost:8080/"
        },
        "id": "W_oNqtKu3j4J",
        "outputId": "adcf6edb-c2d5-424f-ba18-01be1e39e244"
      },
      "execution_count": 30,
      "outputs": [
        {
          "output_type": "execute_result",
          "data": {
            "text/plain": [
              "<!DOCTYPE html>\n",
              "\n",
              "<html>\n",
              "<head>\n",
              "<title>연습용 페이지</title>\n",
              "<style>\n",
              ".box{\n",
              "background-color: #f789f9;\n",
              "width:300px;\n",
              "height:150px;\n",
              "}\n",
              "\n",
              "#id01{\n",
              "background-color: #f78959;\n",
              "height:250px;\n",
              "}\n",
              "\n",
              "table, tr, td, th {\n",
              "border: 1px solid black;\n",
              "}\n",
              "</style>\n",
              "</head>\n",
              "<body>\n",
              "<h1>1. 제목/문단 태그 연습하기 </h1>\n",
              "<h1>이것은 제목1 입니다.</h1>\n",
              "<h2>이것은 제목2 입니다</h2>\n",
              "<h3>이것은 제목3 입니다</h3>\n",
              "<h4>이것은 제목4 입니다</h4>\n",
              "<p>이것은 문단입니다.</p>\n",
              "<h1>2. a 태그 연습하기</h1>\n",
              "<a href=\"http://www.google.com\">이것은 구글 링크 입니다.</a>\n",
              "<h1>3. img 태그 연습하기 </h1>\n",
              "<img src=\"https://pds.joongang.co.kr/news/component/htmlphoto_mmdata/201901/20/28017477-0365-4a43-b546-008b603da621.jpg\"/>\n",
              "<h1>4. 리스트 태그 연습하기</h1>\n",
              "<ul>\n",
              "<li>강아지\n",
              "<li>고양이\n",
              "</li></li></ul>\n",
              "<ol>\n",
              "<li>홍길동\n",
              "<li>임꺽정\n",
              "</li></li></ol>\n",
              "<h1>5. div 태그 연습하기</h1>\n",
              "<div style=\"border: 1px solid black;\">이곳은 div1 입니다.</div>\n",
              "<div style=\"border: 1px solid black; width: 700px; height: 400px;\">이곳은 div2 입니다.</div>\n",
              "<h1>6. 속성값 연습하기</h1>\n",
              "<div class=\"box\">div 클래스 속성 구간</div>\n",
              "<div class=\"box\">div 클래스 속성 구간</div>\n",
              "<div id=\"id01\">div 클래스 속성 구간</div>\n",
              "<div class=\"box\" id=\"id01\">div 클래스 속성 구간</div>\n",
              "<h1>7. 테이블 태그 연습하기</h1>\n",
              "<table>\n",
              "<tr>\n",
              "<th>나라</th>\n",
              "<th>수도</th>\n",
              "</tr>\n",
              "<tr>\n",
              "<td>대한민국\n",
              "<td>서울\n",
              "</td></td></tr>\n",
              "<td>일본</td>\n",
              "<td>도쿄</td>\n",
              "</table>\n",
              "</body>\n",
              "</html>"
            ]
          },
          "metadata": {},
          "execution_count": 30
        }
      ]
    },
    {
      "cell_type": "code",
      "source": [
        ""
      ],
      "metadata": {
        "id": "zgP7pgiF3k81"
      },
      "execution_count": null,
      "outputs": []
    },
    {
      "cell_type": "markdown",
      "source": [
        "### 특정 태그 검색하기"
      ],
      "metadata": {
        "id": "fiojSZI2-ZlR"
      }
    },
    {
      "cell_type": "code",
      "source": [
        "soup.find('a')"
      ],
      "metadata": {
        "colab": {
          "base_uri": "https://localhost:8080/"
        },
        "id": "AqYGQxIf-cSD",
        "outputId": "8b60ebe8-79ec-45ac-b39a-315177f42b54"
      },
      "execution_count": 6,
      "outputs": [
        {
          "output_type": "execute_result",
          "data": {
            "text/plain": [
              "<a href=\"http://www.google.com\">이것은 구글 링크 입니다.</a>"
            ]
          },
          "metadata": {},
          "execution_count": 6
        }
      ]
    },
    {
      "cell_type": "code",
      "source": [
        "soup.select_one('div')"
      ],
      "metadata": {
        "colab": {
          "base_uri": "https://localhost:8080/"
        },
        "id": "ms9rBV5B-d4Z",
        "outputId": "57d0f5e2-146b-4d29-ecd8-07434b2e01d9"
      },
      "execution_count": 7,
      "outputs": [
        {
          "output_type": "execute_result",
          "data": {
            "text/plain": [
              "<div style=\"border: 1px solid black;\">이곳은 div1 입니다.</div>"
            ]
          },
          "metadata": {},
          "execution_count": 7
        }
      ]
    },
    {
      "cell_type": "code",
      "source": [
        "soup.find_all('h1')"
      ],
      "metadata": {
        "colab": {
          "base_uri": "https://localhost:8080/"
        },
        "id": "1TxmXNrm-gWW",
        "outputId": "0e5e40f4-a8b6-4cea-f893-abbbe7a6ab4b"
      },
      "execution_count": 8,
      "outputs": [
        {
          "output_type": "execute_result",
          "data": {
            "text/plain": [
              "[<h1>1. 제목/문단 태그 연습하기 </h1>,\n",
              " <h1>이것은 제목1 입니다.</h1>,\n",
              " <h1>2. a 태그 연습하기</h1>,\n",
              " <h1>3. img 태그 연습하기 </h1>,\n",
              " <h1>4. 리스트 태그 연습하기</h1>,\n",
              " <h1>5. div 태그 연습하기</h1>,\n",
              " <h1>6. 속성값 연습하기</h1>]"
            ]
          },
          "metadata": {},
          "execution_count": 8
        }
      ]
    },
    {
      "cell_type": "code",
      "source": [
        "soup.select(\"h1\")"
      ],
      "metadata": {
        "colab": {
          "base_uri": "https://localhost:8080/"
        },
        "id": "6ctnKHhw-jIr",
        "outputId": "c58c840d-9204-4e94-f5a9-cbb4539388f5"
      },
      "execution_count": 9,
      "outputs": [
        {
          "output_type": "execute_result",
          "data": {
            "text/plain": [
              "[<h1>1. 제목/문단 태그 연습하기 </h1>,\n",
              " <h1>이것은 제목1 입니다.</h1>,\n",
              " <h1>2. a 태그 연습하기</h1>,\n",
              " <h1>3. img 태그 연습하기 </h1>,\n",
              " <h1>4. 리스트 태그 연습하기</h1>,\n",
              " <h1>5. div 태그 연습하기</h1>,\n",
              " <h1>6. 속성값 연습하기</h1>]"
            ]
          },
          "metadata": {},
          "execution_count": 9
        }
      ]
    },
    {
      "cell_type": "markdown",
      "source": [
        "### 특정 태그와 속성값으로 검색하기"
      ],
      "metadata": {
        "id": "B_6Pbntn-n1T"
      }
    },
    {
      "cell_type": "code",
      "source": [
        "# div 태그 이면서 id가 id01인 div 검색\n",
        "soup.find('div',id='id01')"
      ],
      "metadata": {
        "colab": {
          "base_uri": "https://localhost:8080/"
        },
        "id": "WgglmBIL-nDo",
        "outputId": "d732a712-702e-4371-daad-3a496ccdf930"
      },
      "execution_count": 10,
      "outputs": [
        {
          "output_type": "execute_result",
          "data": {
            "text/plain": [
              "<div id=\"id01\">div 클래스 속성 구간</div>"
            ]
          },
          "metadata": {},
          "execution_count": 10
        }
      ]
    },
    {
      "cell_type": "code",
      "source": [
        "# div 태그 이면서 class가 box인 div 검색\n",
        "# 속성값중 class는 생략\n",
        "soup.find('div','box')"
      ],
      "metadata": {
        "colab": {
          "base_uri": "https://localhost:8080/"
        },
        "id": "q8YETj2V-lAN",
        "outputId": "4821b2f9-397a-45da-92f0-711c3ba64893"
      },
      "execution_count": 11,
      "outputs": [
        {
          "output_type": "execute_result",
          "data": {
            "text/plain": [
              "<div class=\"box\">div 클래스 속성 구간</div>"
            ]
          },
          "metadata": {},
          "execution_count": 11
        }
      ]
    },
    {
      "cell_type": "markdown",
      "source": [
        "### 해당 태그의 텍스트값 가져오기"
      ],
      "metadata": {
        "id": "zwdE9uiW--_v"
      }
    },
    {
      "cell_type": "code",
      "source": [
        "soup.find('div',id='id01')"
      ],
      "metadata": {
        "colab": {
          "base_uri": "https://localhost:8080/"
        },
        "id": "O5ovi7aI--JI",
        "outputId": "0e8475c1-2022-4c2e-c33d-3bbd66c272a0"
      },
      "execution_count": 12,
      "outputs": [
        {
          "output_type": "execute_result",
          "data": {
            "text/plain": [
              "<div id=\"id01\">div 클래스 속성 구간</div>"
            ]
          },
          "metadata": {},
          "execution_count": 12
        }
      ]
    },
    {
      "cell_type": "code",
      "source": [
        "soup.find('div',id='id01').text"
      ],
      "metadata": {
        "colab": {
          "base_uri": "https://localhost:8080/",
          "height": 35
        },
        "id": "MhB2brwz-7iq",
        "outputId": "31f8273e-4aaf-42f7-858c-71acbe5573b4"
      },
      "execution_count": 13,
      "outputs": [
        {
          "output_type": "execute_result",
          "data": {
            "text/plain": [
              "'div 클래스 속성 구간'"
            ],
            "application/vnd.google.colaboratory.intrinsic+json": {
              "type": "string"
            }
          },
          "metadata": {},
          "execution_count": 13
        }
      ]
    },
    {
      "cell_type": "markdown",
      "source": [
        "### 해당 태그의 속성값 가져오기"
      ],
      "metadata": {
        "id": "dXcAJ3TT_HGe"
      }
    },
    {
      "cell_type": "code",
      "source": [
        "soup.find('div',id='id01')['id']"
      ],
      "metadata": {
        "colab": {
          "base_uri": "https://localhost:8080/",
          "height": 35
        },
        "id": "ZeLwVQ93_Eu5",
        "outputId": "1775195e-5f1b-41c3-9fc8-2046a984f3de"
      },
      "execution_count": 14,
      "outputs": [
        {
          "output_type": "execute_result",
          "data": {
            "text/plain": [
              "'id01'"
            ],
            "application/vnd.google.colaboratory.intrinsic+json": {
              "type": "string"
            }
          },
          "metadata": {},
          "execution_count": 14
        }
      ]
    },
    {
      "cell_type": "code",
      "source": [
        "soup.find('div','box')['class']"
      ],
      "metadata": {
        "colab": {
          "base_uri": "https://localhost:8080/"
        },
        "id": "-3S-oVBj_N3O",
        "outputId": "a8ec1f1c-1aa2-4fbf-9044-5da76f0d92d5"
      },
      "execution_count": 15,
      "outputs": [
        {
          "output_type": "execute_result",
          "data": {
            "text/plain": [
              "['box']"
            ]
          },
          "metadata": {},
          "execution_count": 15
        }
      ]
    },
    {
      "cell_type": "markdown",
      "source": [
        "### 실습: 네이버 영화 랭킹 크롤링"
      ],
      "metadata": {
        "id": "8M5DZYcM_VDL"
      }
    },
    {
      "cell_type": "code",
      "source": [
        "# 웹크롤링할 url 주소 입력\n",
        "url = 'https://movie.naver.com/movie/sdb/rank/rmovie.naver'\n",
        "\n",
        "# requests.get()을 통해 해당 url를 가져온다\n",
        "r = requests.get(url)\n",
        "\n",
        "# BeautifulSoup 패키지를 통해, r.text에 저장된 text 정보를 html 문법에 맞게 변환해준다.\n",
        "soup = BeautifulSoup(r.text, 'html.parser')\n",
        "# soup"
      ],
      "metadata": {
        "id": "1BxR7vQQ_Pvm"
      },
      "execution_count": 38,
      "outputs": []
    },
    {
      "cell_type": "code",
      "source": [
        "# tbody라는 태그안에 영화 랭킹 정보가 포함됨\n",
        "table = soup.find(\"tbody\")"
      ],
      "metadata": {
        "id": "2nmZTJRVBAyk"
      },
      "execution_count": 41,
      "outputs": []
    },
    {
      "cell_type": "code",
      "source": [
        "# 각각의 영화는 div의 속성값 class 'tit3' 안에 저장됨\n",
        "table.find_all('div','tit3')"
      ],
      "metadata": {
        "colab": {
          "base_uri": "https://localhost:8080/"
        },
        "id": "7Ueh6PaxBNNI",
        "outputId": "47efe57d-239d-4eb2-9535-a46c9351f2d4"
      },
      "execution_count": 42,
      "outputs": [
        {
          "output_type": "execute_result",
          "data": {
            "text/plain": [
              "[<div class=\"tit3\">\n",
              " <a href=\"/movie/bi/mi/basic.naver?code=154282\" title=\"더 배트맨\">더 배트맨</a>\n",
              " </div>, <div class=\"tit3\">\n",
              " <a href=\"/movie/bi/mi/basic.naver?code=190991\" title=\"이상한 나라의 수학자\">이상한 나라의 수학자</a>\n",
              " </div>, <div class=\"tit3\">\n",
              " <a href=\"/movie/bi/mi/basic.naver?code=197668\" title=\"인민을 위해 복무하라\">인민을 위해 복무하라</a>\n",
              " </div>, <div class=\"tit3\">\n",
              " <a href=\"/movie/bi/mi/basic.naver?code=214613\" title=\"블랙라이트\">블랙라이트</a>\n",
              " </div>, <div class=\"tit3\">\n",
              " <a href=\"/movie/bi/mi/basic.naver?code=80737\" title=\"언차티드\">언차티드</a>\n",
              " </div>, <div class=\"tit3\">\n",
              " <a href=\"/movie/bi/mi/basic.naver?code=213733\" title=\"극장판 주술회전 0\">극장판 주술회전 0</a>\n",
              " </div>, <div class=\"tit3\">\n",
              " <a href=\"/movie/bi/mi/basic.naver?code=208077\" title=\"스파이더맨: 노 웨이 홈\">스파이더맨: 노 웨이 홈</a>\n",
              " </div>, <div class=\"tit3\">\n",
              " <a href=\"/movie/bi/mi/basic.naver?code=213903\" title=\"문폴\">문폴</a>\n",
              " </div>, <div class=\"tit3\">\n",
              " <a href=\"/movie/bi/mi/basic.naver?code=206988\" title=\"피그\">피그</a>\n",
              " </div>, <div class=\"tit3\">\n",
              " <a href=\"/movie/bi/mi/basic.naver?code=194204\" title=\"해적: 도깨비 깃발\">해적: 도깨비 깃발</a>\n",
              " </div>, <div class=\"tit3\">\n",
              " <a href=\"/movie/bi/mi/basic.naver?code=192143\" title=\"나이트메어 앨리\">나이트메어 앨리</a>\n",
              " </div>, <div class=\"tit3\">\n",
              " <a href=\"/movie/bi/mi/basic.naver?code=177366\" title=\"킹메이커\">킹메이커</a>\n",
              " </div>, <div class=\"tit3\">\n",
              " <a href=\"/movie/bi/mi/basic.naver?code=214690\" title=\"나의 히어로 아카데미아 더 무비: 월드 히어로즈 미션\">나의 히어로 아카데미아 더 무비: 월드 히어로즈 미션</a>\n",
              " </div>, <div class=\"tit3\">\n",
              " <a href=\"/movie/bi/mi/basic.naver?code=207921\" title=\"스펜서\">스펜서</a>\n",
              " </div>, <div class=\"tit3\">\n",
              " <a href=\"/movie/bi/mi/basic.naver?code=207927\" title=\"레벤느망\">레벤느망</a>\n",
              " </div>, <div class=\"tit3\">\n",
              " <a href=\"/movie/bi/mi/basic.naver?code=213624\" title=\"전투왕\">전투왕</a>\n",
              " </div>, <div class=\"tit3\">\n",
              " <a href=\"/movie/bi/mi/basic.naver?code=196763\" title=\"안테벨룸\">안테벨룸</a>\n",
              " </div>, <div class=\"tit3\">\n",
              " <a href=\"/movie/bi/mi/basic.naver?code=205855\" title=\"그라운드 제로\">그라운드 제로</a>\n",
              " </div>, <div class=\"tit3\">\n",
              " <a href=\"/movie/bi/mi/basic.naver?code=213579\" title=\"방관자들\">방관자들</a>\n",
              " </div>, <div class=\"tit3\">\n",
              " <a href=\"/movie/bi/mi/basic.naver?code=183862\" title=\"뜨거운 피\">뜨거운 피</a>\n",
              " </div>, <div class=\"tit3\">\n",
              " <a href=\"/movie/bi/mi/basic.naver?code=187320\" title=\"씽2게더\">씽2게더</a>\n",
              " </div>, <div class=\"tit3\">\n",
              " <a href=\"/movie/bi/mi/basic.naver?code=190695\" title=\"모비우스\">모비우스</a>\n",
              " </div>, <div class=\"tit3\">\n",
              " <a href=\"/movie/bi/mi/basic.naver?code=28876\" title=\"화양연화\">화양연화</a>\n",
              " </div>, <div class=\"tit3\">\n",
              " <a href=\"/movie/bi/mi/basic.naver?code=213917\" title=\"도어맨\">도어맨</a>\n",
              " </div>, <div class=\"tit3\">\n",
              " <a href=\"/movie/bi/mi/basic.naver?code=210029\" title=\"그 남자는 타이타닉을 보고 싶지 않았다\">그 남자는 타이타닉을 보고 싶지 않았다</a>\n",
              " </div>, <div class=\"tit3\">\n",
              " <a href=\"/movie/bi/mi/basic.naver?code=188995\" title=\"우리가 사랑이라고 믿는 것\">우리가 사랑이라고 믿는 것</a>\n",
              " </div>, <div class=\"tit3\">\n",
              " <a href=\"/movie/bi/mi/basic.naver?code=164122\" title=\"신비한 동물들과 덤블도어의 비밀\">신비한 동물들과 덤블도어의 비밀</a>\n",
              " </div>, <div class=\"tit3\">\n",
              " <a href=\"/movie/bi/mi/basic.naver?code=191613\" title=\"클라우스\">클라우스</a>\n",
              " </div>, <div class=\"tit3\">\n",
              " <a href=\"/movie/bi/mi/basic.naver?code=189559\" title=\"하늘의 푸르름을 아는 사람이여\">하늘의 푸르름을 아는 사람이여</a>\n",
              " </div>, <div class=\"tit3\">\n",
              " <a href=\"/movie/bi/mi/basic.naver?code=205623\" title=\"드라이브 마이 카\">드라이브 마이 카</a>\n",
              " </div>, <div class=\"tit3\">\n",
              " <a href=\"/movie/bi/mi/basic.naver?code=203618\" title=\"드라이\">드라이</a>\n",
              " </div>, <div class=\"tit3\">\n",
              " <a href=\"/movie/bi/mi/basic.naver?code=215453\" title=\"애덤 프로젝트\">애덤 프로젝트</a>\n",
              " </div>, <div class=\"tit3\">\n",
              " <a href=\"/movie/bi/mi/basic.naver?code=191547\" title=\"나일 강의 죽음\">나일 강의 죽음</a>\n",
              " </div>, <div class=\"tit3\">\n",
              " <a href=\"/movie/bi/mi/basic.naver?code=201746\" title=\"테이블 매너\">테이블 매너</a>\n",
              " </div>, <div class=\"tit3\">\n",
              " <a href=\"/movie/bi/mi/basic.naver?code=191559\" title=\"듄\">듄</a>\n",
              " </div>, <div class=\"tit3\">\n",
              " <a href=\"/movie/bi/mi/basic.naver?code=208976\" title=\"아이돌레시피\">아이돌레시피</a>\n",
              " </div>, <div class=\"tit3\">\n",
              " <a href=\"/movie/bi/mi/basic.naver?code=207368\" title=\"메이의 새빨간 비밀\">메이의 새빨간 비밀</a>\n",
              " </div>, <div class=\"tit3\">\n",
              " <a href=\"/movie/bi/mi/basic.naver?code=207941\" title=\"벨파스트\">벨파스트</a>\n",
              " </div>, <div class=\"tit3\">\n",
              " <a href=\"/movie/bi/mi/basic.naver?code=197068\" title=\"고양이들의 아파트\">고양이들의 아파트</a>\n",
              " </div>, <div class=\"tit3\">\n",
              " <a href=\"/movie/bi/mi/basic.naver?code=209859\" title=\"배니싱: 미제사건\">배니싱: 미제사건</a>\n",
              " </div>, <div class=\"tit3\">\n",
              " <a href=\"/movie/bi/mi/basic.naver?code=208829\" title=\"메리 미\">메리 미</a>\n",
              " </div>, <div class=\"tit3\">\n",
              " <a href=\"/movie/bi/mi/basic.naver?code=208558\" title=\"시라노\">시라노</a>\n",
              " </div>, <div class=\"tit3\">\n",
              " <a href=\"/movie/bi/mi/basic.naver?code=180429\" title=\"웨스트 사이드 스토리\">웨스트 사이드 스토리</a>\n",
              " </div>, <div class=\"tit3\">\n",
              " <a href=\"/movie/bi/mi/basic.naver?code=214569\" title=\"B컷\">B컷</a>\n",
              " </div>, <div class=\"tit3\">\n",
              " <a href=\"/movie/bi/mi/basic.naver?code=212989\" title=\"프레쉬\">프레쉬</a>\n",
              " </div>, <div class=\"tit3\">\n",
              " <a href=\"/movie/bi/mi/basic.naver?code=214552\" title=\"놉\">놉</a>\n",
              " </div>, <div class=\"tit3\">\n",
              " <a href=\"/movie/bi/mi/basic.naver?code=193790\" title=\"킹 리차드\">킹 리차드</a>\n",
              " </div>, <div class=\"tit3\">\n",
              " <a href=\"/movie/bi/mi/basic.naver?code=202759\" title=\"나이트 레이더스\">나이트 레이더스</a>\n",
              " </div>, <div class=\"tit3\">\n",
              " <a href=\"/movie/bi/mi/basic.naver?code=200892\" title=\"하우스 오브 구찌\">하우스 오브 구찌</a>\n",
              " </div>, <div class=\"tit3\">\n",
              " <a href=\"/movie/bi/mi/basic.naver?code=212656\" title=\"리코리쉬 피자\">리코리쉬 피자</a>\n",
              " </div>]"
            ]
          },
          "metadata": {},
          "execution_count": 42
        }
      ]
    },
    {
      "cell_type": "code",
      "source": [
        "# 첫번째 영화의 텍스트값 추출해보기\n",
        "table.find_all('div','tit3')[0].find('a').text"
      ],
      "metadata": {
        "colab": {
          "base_uri": "https://localhost:8080/",
          "height": 35
        },
        "id": "Ihz9wdr_BbmD",
        "outputId": "f5344e2b-bcba-46d7-cfbf-d908e6ce00c7"
      },
      "execution_count": 45,
      "outputs": [
        {
          "output_type": "execute_result",
          "data": {
            "text/plain": [
              "'더 배트맨'"
            ],
            "application/vnd.google.colaboratory.intrinsic+json": {
              "type": "string"
            }
          },
          "metadata": {},
          "execution_count": 45
        }
      ]
    },
    {
      "cell_type": "code",
      "source": [
        "# movie_list 빈 리스트를 생성\n",
        "movie_list = []\n",
        "\n",
        "# 전체 영화 크기동안 movie_list에 해당 영화제목 텍스트를 추가시키기\n",
        "for i in range(len(table.find_all('div','tit3'))):\n",
        "  print(table.find_all('div','tit3')[i].find('a').text)\n",
        "  movie_list.append(table.find_all('div','tit3')[i].find('a').text)"
      ],
      "metadata": {
        "colab": {
          "base_uri": "https://localhost:8080/"
        },
        "id": "LgolCF_OBgRE",
        "outputId": "33cb8496-211c-4a97-edd0-b34f3411bf56"
      },
      "execution_count": 48,
      "outputs": [
        {
          "output_type": "stream",
          "name": "stdout",
          "text": [
            "더 배트맨\n",
            "이상한 나라의 수학자\n",
            "인민을 위해 복무하라\n",
            "블랙라이트\n",
            "언차티드\n",
            "극장판 주술회전 0\n",
            "스파이더맨: 노 웨이 홈\n",
            "문폴\n",
            "피그\n",
            "해적: 도깨비 깃발\n",
            "나이트메어 앨리\n",
            "킹메이커\n",
            "나의 히어로 아카데미아 더 무비: 월드 히어로즈 미션\n",
            "스펜서\n",
            "레벤느망\n",
            "전투왕\n",
            "안테벨룸\n",
            "그라운드 제로\n",
            "방관자들\n",
            "뜨거운 피\n",
            "씽2게더\n",
            "모비우스\n",
            "화양연화\n",
            "도어맨\n",
            "그 남자는 타이타닉을 보고 싶지 않았다\n",
            "우리가 사랑이라고 믿는 것\n",
            "신비한 동물들과 덤블도어의 비밀\n",
            "클라우스\n",
            "하늘의 푸르름을 아는 사람이여\n",
            "드라이브 마이 카\n",
            "드라이\n",
            "애덤 프로젝트\n",
            "나일 강의 죽음\n",
            "테이블 매너\n",
            "듄\n",
            "아이돌레시피\n",
            "메이의 새빨간 비밀\n",
            "벨파스트\n",
            "고양이들의 아파트\n",
            "배니싱: 미제사건\n",
            "메리 미\n",
            "시라노\n",
            "웨스트 사이드 스토리\n",
            "B컷\n",
            "프레쉬\n",
            "놉\n",
            "킹 리차드\n",
            "나이트 레이더스\n",
            "하우스 오브 구찌\n",
            "리코리쉬 피자\n"
          ]
        }
      ]
    },
    {
      "cell_type": "code",
      "source": [
        "# 판다스 데이터 프레임을 통해, 영화제목과 영화랭킹을 테이블로 만들기\n",
        "df = pd.DataFrame({\"영화제목\":movie_list,\"영화랭킹\":range(1,51)})\n",
        "df"
      ],
      "metadata": {
        "colab": {
          "base_uri": "https://localhost:8080/",
          "height": 1000
        },
        "id": "qspXDWOlBolJ",
        "outputId": "dc8044d9-dc6c-4fa9-989b-8970f1f3045a"
      },
      "execution_count": 51,
      "outputs": [
        {
          "output_type": "execute_result",
          "data": {
            "text/plain": [
              "                             영화제목  영화랭킹\n",
              "0                           더 배트맨     1\n",
              "1                     이상한 나라의 수학자     2\n",
              "2                     인민을 위해 복무하라     3\n",
              "3                           블랙라이트     4\n",
              "4                            언차티드     5\n",
              "5                      극장판 주술회전 0     6\n",
              "6                   스파이더맨: 노 웨이 홈     7\n",
              "7                              문폴     8\n",
              "8                              피그     9\n",
              "9                      해적: 도깨비 깃발    10\n",
              "10                       나이트메어 앨리    11\n",
              "11                           킹메이커    12\n",
              "12  나의 히어로 아카데미아 더 무비: 월드 히어로즈 미션    13\n",
              "13                            스펜서    14\n",
              "14                           레벤느망    15\n",
              "15                            전투왕    16\n",
              "16                           안테벨룸    17\n",
              "17                        그라운드 제로    18\n",
              "18                           방관자들    19\n",
              "19                          뜨거운 피    20\n",
              "20                           씽2게더    21\n",
              "21                           모비우스    22\n",
              "22                           화양연화    23\n",
              "23                            도어맨    24\n",
              "24          그 남자는 타이타닉을 보고 싶지 않았다    25\n",
              "25                 우리가 사랑이라고 믿는 것    26\n",
              "26              신비한 동물들과 덤블도어의 비밀    27\n",
              "27                           클라우스    28\n",
              "28               하늘의 푸르름을 아는 사람이여    29\n",
              "29                      드라이브 마이 카    30\n",
              "30                            드라이    31\n",
              "31                        애덤 프로젝트    32\n",
              "32                       나일 강의 죽음    33\n",
              "33                         테이블 매너    34\n",
              "34                              듄    35\n",
              "35                         아이돌레시피    36\n",
              "36                     메이의 새빨간 비밀    37\n",
              "37                           벨파스트    38\n",
              "38                      고양이들의 아파트    39\n",
              "39                      배니싱: 미제사건    40\n",
              "40                           메리 미    41\n",
              "41                            시라노    42\n",
              "42                    웨스트 사이드 스토리    43\n",
              "43                             B컷    44\n",
              "44                            프레쉬    45\n",
              "45                              놉    46\n",
              "46                          킹 리차드    47\n",
              "47                       나이트 레이더스    48\n",
              "48                      하우스 오브 구찌    49\n",
              "49                        리코리쉬 피자    50"
            ],
            "text/html": [
              "\n",
              "  <div id=\"df-e11d2fde-3670-4ca5-acb9-2325385d1c00\">\n",
              "    <div class=\"colab-df-container\">\n",
              "      <div>\n",
              "<style scoped>\n",
              "    .dataframe tbody tr th:only-of-type {\n",
              "        vertical-align: middle;\n",
              "    }\n",
              "\n",
              "    .dataframe tbody tr th {\n",
              "        vertical-align: top;\n",
              "    }\n",
              "\n",
              "    .dataframe thead th {\n",
              "        text-align: right;\n",
              "    }\n",
              "</style>\n",
              "<table border=\"1\" class=\"dataframe\">\n",
              "  <thead>\n",
              "    <tr style=\"text-align: right;\">\n",
              "      <th></th>\n",
              "      <th>영화제목</th>\n",
              "      <th>영화랭킹</th>\n",
              "    </tr>\n",
              "  </thead>\n",
              "  <tbody>\n",
              "    <tr>\n",
              "      <th>0</th>\n",
              "      <td>더 배트맨</td>\n",
              "      <td>1</td>\n",
              "    </tr>\n",
              "    <tr>\n",
              "      <th>1</th>\n",
              "      <td>이상한 나라의 수학자</td>\n",
              "      <td>2</td>\n",
              "    </tr>\n",
              "    <tr>\n",
              "      <th>2</th>\n",
              "      <td>인민을 위해 복무하라</td>\n",
              "      <td>3</td>\n",
              "    </tr>\n",
              "    <tr>\n",
              "      <th>3</th>\n",
              "      <td>블랙라이트</td>\n",
              "      <td>4</td>\n",
              "    </tr>\n",
              "    <tr>\n",
              "      <th>4</th>\n",
              "      <td>언차티드</td>\n",
              "      <td>5</td>\n",
              "    </tr>\n",
              "    <tr>\n",
              "      <th>5</th>\n",
              "      <td>극장판 주술회전 0</td>\n",
              "      <td>6</td>\n",
              "    </tr>\n",
              "    <tr>\n",
              "      <th>6</th>\n",
              "      <td>스파이더맨: 노 웨이 홈</td>\n",
              "      <td>7</td>\n",
              "    </tr>\n",
              "    <tr>\n",
              "      <th>7</th>\n",
              "      <td>문폴</td>\n",
              "      <td>8</td>\n",
              "    </tr>\n",
              "    <tr>\n",
              "      <th>8</th>\n",
              "      <td>피그</td>\n",
              "      <td>9</td>\n",
              "    </tr>\n",
              "    <tr>\n",
              "      <th>9</th>\n",
              "      <td>해적: 도깨비 깃발</td>\n",
              "      <td>10</td>\n",
              "    </tr>\n",
              "    <tr>\n",
              "      <th>10</th>\n",
              "      <td>나이트메어 앨리</td>\n",
              "      <td>11</td>\n",
              "    </tr>\n",
              "    <tr>\n",
              "      <th>11</th>\n",
              "      <td>킹메이커</td>\n",
              "      <td>12</td>\n",
              "    </tr>\n",
              "    <tr>\n",
              "      <th>12</th>\n",
              "      <td>나의 히어로 아카데미아 더 무비: 월드 히어로즈 미션</td>\n",
              "      <td>13</td>\n",
              "    </tr>\n",
              "    <tr>\n",
              "      <th>13</th>\n",
              "      <td>스펜서</td>\n",
              "      <td>14</td>\n",
              "    </tr>\n",
              "    <tr>\n",
              "      <th>14</th>\n",
              "      <td>레벤느망</td>\n",
              "      <td>15</td>\n",
              "    </tr>\n",
              "    <tr>\n",
              "      <th>15</th>\n",
              "      <td>전투왕</td>\n",
              "      <td>16</td>\n",
              "    </tr>\n",
              "    <tr>\n",
              "      <th>16</th>\n",
              "      <td>안테벨룸</td>\n",
              "      <td>17</td>\n",
              "    </tr>\n",
              "    <tr>\n",
              "      <th>17</th>\n",
              "      <td>그라운드 제로</td>\n",
              "      <td>18</td>\n",
              "    </tr>\n",
              "    <tr>\n",
              "      <th>18</th>\n",
              "      <td>방관자들</td>\n",
              "      <td>19</td>\n",
              "    </tr>\n",
              "    <tr>\n",
              "      <th>19</th>\n",
              "      <td>뜨거운 피</td>\n",
              "      <td>20</td>\n",
              "    </tr>\n",
              "    <tr>\n",
              "      <th>20</th>\n",
              "      <td>씽2게더</td>\n",
              "      <td>21</td>\n",
              "    </tr>\n",
              "    <tr>\n",
              "      <th>21</th>\n",
              "      <td>모비우스</td>\n",
              "      <td>22</td>\n",
              "    </tr>\n",
              "    <tr>\n",
              "      <th>22</th>\n",
              "      <td>화양연화</td>\n",
              "      <td>23</td>\n",
              "    </tr>\n",
              "    <tr>\n",
              "      <th>23</th>\n",
              "      <td>도어맨</td>\n",
              "      <td>24</td>\n",
              "    </tr>\n",
              "    <tr>\n",
              "      <th>24</th>\n",
              "      <td>그 남자는 타이타닉을 보고 싶지 않았다</td>\n",
              "      <td>25</td>\n",
              "    </tr>\n",
              "    <tr>\n",
              "      <th>25</th>\n",
              "      <td>우리가 사랑이라고 믿는 것</td>\n",
              "      <td>26</td>\n",
              "    </tr>\n",
              "    <tr>\n",
              "      <th>26</th>\n",
              "      <td>신비한 동물들과 덤블도어의 비밀</td>\n",
              "      <td>27</td>\n",
              "    </tr>\n",
              "    <tr>\n",
              "      <th>27</th>\n",
              "      <td>클라우스</td>\n",
              "      <td>28</td>\n",
              "    </tr>\n",
              "    <tr>\n",
              "      <th>28</th>\n",
              "      <td>하늘의 푸르름을 아는 사람이여</td>\n",
              "      <td>29</td>\n",
              "    </tr>\n",
              "    <tr>\n",
              "      <th>29</th>\n",
              "      <td>드라이브 마이 카</td>\n",
              "      <td>30</td>\n",
              "    </tr>\n",
              "    <tr>\n",
              "      <th>30</th>\n",
              "      <td>드라이</td>\n",
              "      <td>31</td>\n",
              "    </tr>\n",
              "    <tr>\n",
              "      <th>31</th>\n",
              "      <td>애덤 프로젝트</td>\n",
              "      <td>32</td>\n",
              "    </tr>\n",
              "    <tr>\n",
              "      <th>32</th>\n",
              "      <td>나일 강의 죽음</td>\n",
              "      <td>33</td>\n",
              "    </tr>\n",
              "    <tr>\n",
              "      <th>33</th>\n",
              "      <td>테이블 매너</td>\n",
              "      <td>34</td>\n",
              "    </tr>\n",
              "    <tr>\n",
              "      <th>34</th>\n",
              "      <td>듄</td>\n",
              "      <td>35</td>\n",
              "    </tr>\n",
              "    <tr>\n",
              "      <th>35</th>\n",
              "      <td>아이돌레시피</td>\n",
              "      <td>36</td>\n",
              "    </tr>\n",
              "    <tr>\n",
              "      <th>36</th>\n",
              "      <td>메이의 새빨간 비밀</td>\n",
              "      <td>37</td>\n",
              "    </tr>\n",
              "    <tr>\n",
              "      <th>37</th>\n",
              "      <td>벨파스트</td>\n",
              "      <td>38</td>\n",
              "    </tr>\n",
              "    <tr>\n",
              "      <th>38</th>\n",
              "      <td>고양이들의 아파트</td>\n",
              "      <td>39</td>\n",
              "    </tr>\n",
              "    <tr>\n",
              "      <th>39</th>\n",
              "      <td>배니싱: 미제사건</td>\n",
              "      <td>40</td>\n",
              "    </tr>\n",
              "    <tr>\n",
              "      <th>40</th>\n",
              "      <td>메리 미</td>\n",
              "      <td>41</td>\n",
              "    </tr>\n",
              "    <tr>\n",
              "      <th>41</th>\n",
              "      <td>시라노</td>\n",
              "      <td>42</td>\n",
              "    </tr>\n",
              "    <tr>\n",
              "      <th>42</th>\n",
              "      <td>웨스트 사이드 스토리</td>\n",
              "      <td>43</td>\n",
              "    </tr>\n",
              "    <tr>\n",
              "      <th>43</th>\n",
              "      <td>B컷</td>\n",
              "      <td>44</td>\n",
              "    </tr>\n",
              "    <tr>\n",
              "      <th>44</th>\n",
              "      <td>프레쉬</td>\n",
              "      <td>45</td>\n",
              "    </tr>\n",
              "    <tr>\n",
              "      <th>45</th>\n",
              "      <td>놉</td>\n",
              "      <td>46</td>\n",
              "    </tr>\n",
              "    <tr>\n",
              "      <th>46</th>\n",
              "      <td>킹 리차드</td>\n",
              "      <td>47</td>\n",
              "    </tr>\n",
              "    <tr>\n",
              "      <th>47</th>\n",
              "      <td>나이트 레이더스</td>\n",
              "      <td>48</td>\n",
              "    </tr>\n",
              "    <tr>\n",
              "      <th>48</th>\n",
              "      <td>하우스 오브 구찌</td>\n",
              "      <td>49</td>\n",
              "    </tr>\n",
              "    <tr>\n",
              "      <th>49</th>\n",
              "      <td>리코리쉬 피자</td>\n",
              "      <td>50</td>\n",
              "    </tr>\n",
              "  </tbody>\n",
              "</table>\n",
              "</div>\n",
              "      <button class=\"colab-df-convert\" onclick=\"convertToInteractive('df-e11d2fde-3670-4ca5-acb9-2325385d1c00')\"\n",
              "              title=\"Convert this dataframe to an interactive table.\"\n",
              "              style=\"display:none;\">\n",
              "        \n",
              "  <svg xmlns=\"http://www.w3.org/2000/svg\" height=\"24px\"viewBox=\"0 0 24 24\"\n",
              "       width=\"24px\">\n",
              "    <path d=\"M0 0h24v24H0V0z\" fill=\"none\"/>\n",
              "    <path d=\"M18.56 5.44l.94 2.06.94-2.06 2.06-.94-2.06-.94-.94-2.06-.94 2.06-2.06.94zm-11 1L8.5 8.5l.94-2.06 2.06-.94-2.06-.94L8.5 2.5l-.94 2.06-2.06.94zm10 10l.94 2.06.94-2.06 2.06-.94-2.06-.94-.94-2.06-.94 2.06-2.06.94z\"/><path d=\"M17.41 7.96l-1.37-1.37c-.4-.4-.92-.59-1.43-.59-.52 0-1.04.2-1.43.59L10.3 9.45l-7.72 7.72c-.78.78-.78 2.05 0 2.83L4 21.41c.39.39.9.59 1.41.59.51 0 1.02-.2 1.41-.59l7.78-7.78 2.81-2.81c.8-.78.8-2.07 0-2.86zM5.41 20L4 18.59l7.72-7.72 1.47 1.35L5.41 20z\"/>\n",
              "  </svg>\n",
              "      </button>\n",
              "      \n",
              "  <style>\n",
              "    .colab-df-container {\n",
              "      display:flex;\n",
              "      flex-wrap:wrap;\n",
              "      gap: 12px;\n",
              "    }\n",
              "\n",
              "    .colab-df-convert {\n",
              "      background-color: #E8F0FE;\n",
              "      border: none;\n",
              "      border-radius: 50%;\n",
              "      cursor: pointer;\n",
              "      display: none;\n",
              "      fill: #1967D2;\n",
              "      height: 32px;\n",
              "      padding: 0 0 0 0;\n",
              "      width: 32px;\n",
              "    }\n",
              "\n",
              "    .colab-df-convert:hover {\n",
              "      background-color: #E2EBFA;\n",
              "      box-shadow: 0px 1px 2px rgba(60, 64, 67, 0.3), 0px 1px 3px 1px rgba(60, 64, 67, 0.15);\n",
              "      fill: #174EA6;\n",
              "    }\n",
              "\n",
              "    [theme=dark] .colab-df-convert {\n",
              "      background-color: #3B4455;\n",
              "      fill: #D2E3FC;\n",
              "    }\n",
              "\n",
              "    [theme=dark] .colab-df-convert:hover {\n",
              "      background-color: #434B5C;\n",
              "      box-shadow: 0px 1px 3px 1px rgba(0, 0, 0, 0.15);\n",
              "      filter: drop-shadow(0px 1px 2px rgba(0, 0, 0, 0.3));\n",
              "      fill: #FFFFFF;\n",
              "    }\n",
              "  </style>\n",
              "\n",
              "      <script>\n",
              "        const buttonEl =\n",
              "          document.querySelector('#df-e11d2fde-3670-4ca5-acb9-2325385d1c00 button.colab-df-convert');\n",
              "        buttonEl.style.display =\n",
              "          google.colab.kernel.accessAllowed ? 'block' : 'none';\n",
              "\n",
              "        async function convertToInteractive(key) {\n",
              "          const element = document.querySelector('#df-e11d2fde-3670-4ca5-acb9-2325385d1c00');\n",
              "          const dataTable =\n",
              "            await google.colab.kernel.invokeFunction('convertToInteractive',\n",
              "                                                     [key], {});\n",
              "          if (!dataTable) return;\n",
              "\n",
              "          const docLinkHtml = 'Like what you see? Visit the ' +\n",
              "            '<a target=\"_blank\" href=https://colab.research.google.com/notebooks/data_table.ipynb>data table notebook</a>'\n",
              "            + ' to learn more about interactive tables.';\n",
              "          element.innerHTML = '';\n",
              "          dataTable['output_type'] = 'display_data';\n",
              "          await google.colab.output.renderOutput(dataTable, element);\n",
              "          const docLink = document.createElement('div');\n",
              "          docLink.innerHTML = docLinkHtml;\n",
              "          element.appendChild(docLink);\n",
              "        }\n",
              "      </script>\n",
              "    </div>\n",
              "  </div>\n",
              "  "
            ]
          },
          "metadata": {},
          "execution_count": 51
        }
      ]
    },
    {
      "cell_type": "code",
      "source": [
        ""
      ],
      "metadata": {
        "id": "nHi3fudyBz_-"
      },
      "execution_count": null,
      "outputs": []
    }
  ]
}